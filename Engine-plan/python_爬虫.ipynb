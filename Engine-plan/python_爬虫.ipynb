{
 "cells": [
  {
   "cell_type": "markdown",
   "metadata": {},
   "source": [
    "## 爬虫示例"
   ]
  },
  {
   "cell_type": "code",
   "execution_count": 1,
   "metadata": {},
   "outputs": [],
   "source": [
    "from urllib import request"
   ]
  },
  {
   "cell_type": "markdown",
   "metadata": {},
   "source": [
    "### get 请求"
   ]
  },
  {
   "cell_type": "code",
   "execution_count": 4,
   "metadata": {},
   "outputs": [
    {
     "name": "stdout",
     "output_type": "stream",
     "text": [
      "Input your keyword:123\n",
      "<html>\n",
      "<head>\n",
      "\t<script>\n",
      "\t\tlocation.replace(location.href.replace(\"https://\",\"http://\"));\n",
      "\t</script>\n",
      "</head>\n",
      "<body>\n",
      "\t<noscript><meta http-equiv=\"refresh\" content=\"0;url=http://www.baidu.com/\"></noscript>\n",
      "</body>\n",
      "</html>\n"
     ]
    }
   ],
   "source": [
    "from urllib import parse,request\n",
    "\n",
    "baseURL='https://www.baidu.com/s?'\n",
    "\n",
    "wd=input('Input your keyword:')\n",
    "\n",
    "#这里必须是wd，不能是其他的字符串\n",
    "data={'wd':wd}\n",
    "data=parse.urlencode(data)\n",
    "\n",
    "URL=baseURL+data\n",
    "\n",
    "with request.urlopen(URL) as f:\n",
    "    html=f.read().decode('utf-8')\n",
    "\n",
    "print(html)"
   ]
  },
  {
   "cell_type": "markdown",
   "metadata": {},
   "source": [
    "### post 请求"
   ]
  },
  {
   "cell_type": "code",
   "execution_count": 5,
   "metadata": {},
   "outputs": [
    {
     "name": "stdout",
     "output_type": "stream",
     "text": [
      "Input your keyword:123\n",
      "即将发送的data数据的类型： <class 'bytes'>\n",
      "返回数据的类型： <class 'str'>\n",
      "转换后的数据类型： <class 'dict'>\n"
     ]
    }
   ],
   "source": [
    "from urllib import parse,request,error\n",
    "\n",
    "#返回内容为JSON格式，用json.loads()转换为str\n",
    "import json\n",
    "\n",
    "#基本URL\n",
    "baseURL='https://fanyi.baidu.com/sug'\n",
    "\n",
    "#为防止报错，使用try...except语句块，使用error.URLerror\n",
    "try:\n",
    "    #输入Form data\n",
    "    kw=input('Input your keyword:')\n",
    "\n",
    "    #用data存放Form data；Request传入的数据必须是字典类型\n",
    "    #浏览器中开发模式下，Form data下字典的Key为kw，所以data的Key为kw\n",
    "    data={'kw':kw}\n",
    "\n",
    "    data=parse.urlencode(data).encode()\n",
    "    print('即将发送的data数据的类型：',type(data))\n",
    "\n",
    "    #打开网页，传入data参数\n",
    "    #urlopen的参数为baseURL和data参数\n",
    "    with request.urlopen(baseURL,data=data) as res:\n",
    "        json_data=res.read().decode()\n",
    "        print('返回数据的类型：',type(json_data))\n",
    "        json_data=json.loads(json_data)\n",
    "        print('转换后的数据类型：',type(json_data))\n",
    "\n",
    "        for i in json_data['data']:\n",
    "            print(i)\n",
    "except error.URLError as e:\n",
    "    print(e)"
   ]
  },
  {
   "cell_type": "code",
   "execution_count": null,
   "metadata": {},
   "outputs": [],
   "source": []
  }
 ],
 "metadata": {
  "kernelspec": {
   "display_name": "Python 3",
   "language": "python",
   "name": "python3"
  },
  "language_info": {
   "codemirror_mode": {
    "name": "ipython",
    "version": 3
   },
   "file_extension": ".py",
   "mimetype": "text/x-python",
   "name": "python",
   "nbconvert_exporter": "python",
   "pygments_lexer": "ipython3",
   "version": "3.8.5"
  }
 },
 "nbformat": 4,
 "nbformat_minor": 4
}
