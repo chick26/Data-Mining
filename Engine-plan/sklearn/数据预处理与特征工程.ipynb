{
 "cells": [
  {
   "cell_type": "code",
   "execution_count": 1,
   "metadata": {},
   "outputs": [],
   "source": [
    "from sklearn.preprocessing import MinMaxScaler\n",
    "data=[[-1,2],[-0.5,6],[0,10],[1,18]]\n",
    "import pandas as pd\n",
    "pd.DataFrame(data)\n",
    "#实现归一化\n",
    "scaler=MinMaxScaler() #实例化\n",
    "scaler=scaler.fit(data)#fit,在这里本质是生成min(x)和max(x)\n",
    "result=scaler.transform(data)#通过接口导出结果"
   ]
  },
  {
   "cell_type": "code",
   "execution_count": 2,
   "metadata": {},
   "outputs": [
    {
     "data": {
      "text/html": [
       "<div>\n",
       "<style scoped>\n",
       "    .dataframe tbody tr th:only-of-type {\n",
       "        vertical-align: middle;\n",
       "    }\n",
       "\n",
       "    .dataframe tbody tr th {\n",
       "        vertical-align: top;\n",
       "    }\n",
       "\n",
       "    .dataframe thead th {\n",
       "        text-align: right;\n",
       "    }\n",
       "</style>\n",
       "<table border=\"1\" class=\"dataframe\">\n",
       "  <thead>\n",
       "    <tr style=\"text-align: right;\">\n",
       "      <th></th>\n",
       "      <th>0</th>\n",
       "      <th>1</th>\n",
       "    </tr>\n",
       "  </thead>\n",
       "  <tbody>\n",
       "    <tr>\n",
       "      <th>0</th>\n",
       "      <td>-1.0</td>\n",
       "      <td>2</td>\n",
       "    </tr>\n",
       "    <tr>\n",
       "      <th>1</th>\n",
       "      <td>-0.5</td>\n",
       "      <td>6</td>\n",
       "    </tr>\n",
       "    <tr>\n",
       "      <th>2</th>\n",
       "      <td>0.0</td>\n",
       "      <td>10</td>\n",
       "    </tr>\n",
       "    <tr>\n",
       "      <th>3</th>\n",
       "      <td>1.0</td>\n",
       "      <td>18</td>\n",
       "    </tr>\n",
       "  </tbody>\n",
       "</table>\n",
       "</div>"
      ],
      "text/plain": [
       "     0   1\n",
       "0 -1.0   2\n",
       "1 -0.5   6\n",
       "2  0.0  10\n",
       "3  1.0  18"
      ]
     },
     "execution_count": 2,
     "metadata": {},
     "output_type": "execute_result"
    }
   ],
   "source": [
    "pd.DataFrame(data)"
   ]
  },
  {
   "cell_type": "code",
   "execution_count": 3,
   "metadata": {},
   "outputs": [
    {
     "data": {
      "text/plain": [
       "array([[0.  , 0.  ],\n",
       "       [0.25, 0.25],\n",
       "       [0.5 , 0.5 ],\n",
       "       [1.  , 1.  ]])"
      ]
     },
     "execution_count": 3,
     "metadata": {},
     "output_type": "execute_result"
    }
   ],
   "source": [
    "#因为是两列，数据归一化操作是在每列进行运算的\n",
    "#比如第一列：x1=-1-(-1)/1-(-1)=0,x2=-0.5-(-1)/1-(-1)=0.25\n",
    "#第二例：x1=2-2/18-2=0\n",
    "result"
   ]
  },
  {
   "cell_type": "code",
   "execution_count": 4,
   "metadata": {},
   "outputs": [
    {
     "data": {
      "text/plain": [
       "array([[0.  , 0.  ],\n",
       "       [0.25, 0.25],\n",
       "       [0.5 , 0.5 ],\n",
       "       [1.  , 1.  ]])"
      ]
     },
     "execution_count": 4,
     "metadata": {},
     "output_type": "execute_result"
    }
   ],
   "source": [
    "result_=scaler.fit_transform(data)#训练和导出结果一步达成\n",
    "result_"
   ]
  },
  {
   "cell_type": "code",
   "execution_count": 5,
   "metadata": {},
   "outputs": [
    {
     "data": {
      "text/plain": [
       "array([[-1. ,  2. ],\n",
       "       [-0.5,  6. ],\n",
       "       [ 0. , 10. ],\n",
       "       [ 1. , 18. ]])"
      ]
     },
     "execution_count": 5,
     "metadata": {},
     "output_type": "execute_result"
    }
   ],
   "source": [
    "scaler.inverse_transform(result)#将归一化后的结果逆转"
   ]
  },
  {
   "cell_type": "code",
   "execution_count": 6,
   "metadata": {},
   "outputs": [
    {
     "data": {
      "text/plain": [
       "array([[ 5.  ,  5.  ],\n",
       "       [ 6.25,  6.25],\n",
       "       [ 7.5 ,  7.5 ],\n",
       "       [10.  , 10.  ]])"
      ]
     },
     "execution_count": 6,
     "metadata": {},
     "output_type": "execute_result"
    }
   ],
   "source": [
    "#使用MinMaxScaler的参数feature_range实现将数据归一化到[0,1]以外的范围中\n",
    "data=[[-1,2],[-0.5,6],[0,10],[1,18]]\n",
    "scaler=MinMaxScaler(feature_range=[5,10])\n",
    "result=scaler.fit_transform(data)\n",
    "result\n",
    "#当X中特征数量非常多的时候，fit会报错，因为数据量太大了\n",
    "#此时使用partial_fit作为训练接口\n",
    "#scaler=scaler.partial_fit(data)"
   ]
  },
  {
   "cell_type": "code",
   "execution_count": 7,
   "metadata": {},
   "outputs": [],
   "source": [
    "#数据标准化：x*=x-u/d(u是均值，d方差)\n",
    "#服从标准正态分布"
   ]
  },
  {
   "cell_type": "code",
   "execution_count": 8,
   "metadata": {},
   "outputs": [
    {
     "data": {
      "text/plain": [
       "StandardScaler()"
      ]
     },
     "execution_count": 8,
     "metadata": {},
     "output_type": "execute_result"
    }
   ],
   "source": [
    "from sklearn.preprocessing import StandardScaler\n",
    "data=[[-1,2],[-0.5,6],[0,10],[1,18]]\n",
    "scaler=StandardScaler()#实例化\n",
    "scaler.fit(data)#fit,本质是生成均值和方差"
   ]
  },
  {
   "cell_type": "code",
   "execution_count": 9,
   "metadata": {},
   "outputs": [
    {
     "data": {
      "text/plain": [
       "array([-0.125,  9.   ])"
      ]
     },
     "execution_count": 9,
     "metadata": {},
     "output_type": "execute_result"
    }
   ],
   "source": [
    "scaler.mean_#查看均值的属性mean_"
   ]
  },
  {
   "cell_type": "code",
   "execution_count": 10,
   "metadata": {},
   "outputs": [
    {
     "data": {
      "text/plain": [
       "array([ 0.546875, 35.      ])"
      ]
     },
     "execution_count": 10,
     "metadata": {},
     "output_type": "execute_result"
    }
   ],
   "source": [
    "scaler.var_#查看方差的属性var_"
   ]
  },
  {
   "cell_type": "code",
   "execution_count": 11,
   "metadata": {},
   "outputs": [
    {
     "data": {
      "text/plain": [
       "array([[-1.18321596, -1.18321596],\n",
       "       [-0.50709255, -0.50709255],\n",
       "       [ 0.16903085,  0.16903085],\n",
       "       [ 1.52127766,  1.52127766]])"
      ]
     },
     "execution_count": 11,
     "metadata": {},
     "output_type": "execute_result"
    }
   ],
   "source": [
    "x_std=scaler.transform(data)#通过接口导出结果\n",
    "x_std"
   ]
  },
  {
   "cell_type": "code",
   "execution_count": 12,
   "metadata": {},
   "outputs": [
    {
     "data": {
      "text/plain": [
       "0.0"
      ]
     },
     "execution_count": 12,
     "metadata": {},
     "output_type": "execute_result"
    }
   ],
   "source": [
    "x_std.mean()#导出的结果是一个数组，用mean()查看均值"
   ]
  },
  {
   "cell_type": "code",
   "execution_count": 13,
   "metadata": {},
   "outputs": [
    {
     "data": {
      "text/plain": [
       "1.0"
      ]
     },
     "execution_count": 13,
     "metadata": {},
     "output_type": "execute_result"
    }
   ],
   "source": [
    "x_std.std()#用std()查看标准差"
   ]
  },
  {
   "cell_type": "code",
   "execution_count": 14,
   "metadata": {},
   "outputs": [
    {
     "data": {
      "text/plain": [
       "array([[-1.18321596, -1.18321596],\n",
       "       [-0.50709255, -0.50709255],\n",
       "       [ 0.16903085,  0.16903085],\n",
       "       [ 1.52127766,  1.52127766]])"
      ]
     },
     "execution_count": 14,
     "metadata": {},
     "output_type": "execute_result"
    }
   ],
   "source": [
    "scaler.fit_transform(data)#使用fit_transform(data)一步达成结果"
   ]
  },
  {
   "cell_type": "code",
   "execution_count": 18,
   "metadata": {},
   "outputs": [
    {
     "data": {
      "text/plain": [
       "array([[-1. ,  2. ],\n",
       "       [-0.5,  6. ],\n",
       "       [ 0. , 10. ],\n",
       "       [ 1. , 18. ]])"
      ]
     },
     "execution_count": 18,
     "metadata": {},
     "output_type": "execute_result"
    }
   ],
   "source": [
    "scaler.inverse_transform(x_std)#使用inverse_transform逆转标准化"
   ]
  },
  {
   "cell_type": "code",
   "execution_count": 19,
   "metadata": {},
   "outputs": [
    {
     "data": {
      "text/html": [
       "<div>\n",
       "<style scoped>\n",
       "    .dataframe tbody tr th:only-of-type {\n",
       "        vertical-align: middle;\n",
       "    }\n",
       "\n",
       "    .dataframe tbody tr th {\n",
       "        vertical-align: top;\n",
       "    }\n",
       "\n",
       "    .dataframe thead th {\n",
       "        text-align: right;\n",
       "    }\n",
       "</style>\n",
       "<table border=\"1\" class=\"dataframe\">\n",
       "  <thead>\n",
       "    <tr style=\"text-align: right;\">\n",
       "      <th></th>\n",
       "      <th>Age</th>\n",
       "      <th>Sex</th>\n",
       "      <th>Embarked</th>\n",
       "      <th>Survived</th>\n",
       "    </tr>\n",
       "  </thead>\n",
       "  <tbody>\n",
       "    <tr>\n",
       "      <th>0</th>\n",
       "      <td>22.0</td>\n",
       "      <td>male</td>\n",
       "      <td>S</td>\n",
       "      <td>No</td>\n",
       "    </tr>\n",
       "    <tr>\n",
       "      <th>1</th>\n",
       "      <td>38.0</td>\n",
       "      <td>female</td>\n",
       "      <td>C</td>\n",
       "      <td>Yes</td>\n",
       "    </tr>\n",
       "    <tr>\n",
       "      <th>2</th>\n",
       "      <td>26.0</td>\n",
       "      <td>female</td>\n",
       "      <td>S</td>\n",
       "      <td>Yes</td>\n",
       "    </tr>\n",
       "    <tr>\n",
       "      <th>3</th>\n",
       "      <td>35.0</td>\n",
       "      <td>female</td>\n",
       "      <td>S</td>\n",
       "      <td>Yes</td>\n",
       "    </tr>\n",
       "    <tr>\n",
       "      <th>4</th>\n",
       "      <td>35.0</td>\n",
       "      <td>male</td>\n",
       "      <td>S</td>\n",
       "      <td>No</td>\n",
       "    </tr>\n",
       "  </tbody>\n",
       "</table>\n",
       "</div>"
      ],
      "text/plain": [
       "    Age     Sex Embarked Survived\n",
       "0  22.0    male        S       No\n",
       "1  38.0  female        C      Yes\n",
       "2  26.0  female        S      Yes\n",
       "3  35.0  female        S      Yes\n",
       "4  35.0    male        S       No"
      ]
     },
     "execution_count": 19,
     "metadata": {},
     "output_type": "execute_result"
    }
   ],
   "source": [
    "import pandas as pd\n",
    "data=pd.read_csv(r\"C:\\Users\\hp\\Desktop\\python\\机器学习菜菜\\sklearnjqxx_jb51\\【机器学习】菜菜的sklearn课堂(1-12全课)\\03数据预处理和特征工程\\Narrativedata.csv\",index_col=0)\n",
    "#index_col意思是把第0列作为索引\n",
    "data.head()"
   ]
  },
  {
   "cell_type": "code",
   "execution_count": 20,
   "metadata": {},
   "outputs": [
    {
     "name": "stdout",
     "output_type": "stream",
     "text": [
      "<class 'pandas.core.frame.DataFrame'>\n",
      "Int64Index: 891 entries, 0 to 890\n",
      "Data columns (total 4 columns):\n",
      " #   Column    Non-Null Count  Dtype  \n",
      "---  ------    --------------  -----  \n",
      " 0   Age       714 non-null    float64\n",
      " 1   Sex       891 non-null    object \n",
      " 2   Embarked  889 non-null    object \n",
      " 3   Survived  891 non-null    object \n",
      "dtypes: float64(1), object(3)\n",
      "memory usage: 34.8+ KB\n"
     ]
    }
   ],
   "source": [
    "data.info()#只有Dataframe有info这个属性\n",
    "#发现年龄和舱门有缺失值"
   ]
  },
  {
   "cell_type": "code",
   "execution_count": 21,
   "metadata": {},
   "outputs": [
    {
     "name": "stdout",
     "output_type": "stream",
     "text": [
      "<class 'pandas.core.frame.DataFrame'>\n",
      "Int64Index: 891 entries, 0 to 890\n",
      "Data columns (total 4 columns):\n",
      " #   Column    Non-Null Count  Dtype  \n",
      "---  ------    --------------  -----  \n",
      " 0   Age       714 non-null    float64\n",
      " 1   Sex       891 non-null    object \n",
      " 2   Embarked  889 non-null    object \n",
      " 3   Survived  891 non-null    object \n",
      "dtypes: float64(1), object(3)\n",
      "memory usage: 34.8+ KB\n"
     ]
    }
   ],
   "source": [
    "data.info()\n",
    "#填补年龄"
   ]
  },
  {
   "cell_type": "code",
   "execution_count": 22,
   "metadata": {},
   "outputs": [],
   "source": [
    "Age=data.loc[:,\"Age\"].values.reshape(-1,1)#sklearn中的特征矩阵必须是二维"
   ]
  },
  {
   "cell_type": "code",
   "execution_count": 23,
   "metadata": {},
   "outputs": [
    {
     "data": {
      "text/plain": [
       "array([[22.],\n",
       "       [38.],\n",
       "       [26.],\n",
       "       [35.],\n",
       "       [35.],\n",
       "       [nan],\n",
       "       [54.],\n",
       "       [ 2.],\n",
       "       [27.],\n",
       "       [14.],\n",
       "       [ 4.],\n",
       "       [58.],\n",
       "       [20.],\n",
       "       [39.],\n",
       "       [14.],\n",
       "       [55.],\n",
       "       [ 2.],\n",
       "       [nan],\n",
       "       [31.],\n",
       "       [nan]])"
      ]
     },
     "execution_count": 23,
     "metadata": {},
     "output_type": "execute_result"
    }
   ],
   "source": [
    "Age[:20]"
   ]
  },
  {
   "cell_type": "code",
   "execution_count": 24,
   "metadata": {},
   "outputs": [],
   "source": [
    "from sklearn.impute import SimpleImputer\n",
    "imp_mean=SimpleImputer()#实例化，默认均值填补\n",
    "imp_median=SimpleImputer(strategy=\"median\")#用中位数填补\n",
    "imp_0=SimpleImputer(strategy=\"constant\",fill_value=0)#用0填补"
   ]
  },
  {
   "cell_type": "code",
   "execution_count": 25,
   "metadata": {},
   "outputs": [],
   "source": [
    "imp_mean=imp_mean.fit_transform(Age)#fit_transform一步完成调取结果\n",
    "imp_median=imp_median.fit_transform(Age)\n",
    "imp_0=imp_0.fit_transform(Age)"
   ]
  },
  {
   "cell_type": "code",
   "execution_count": 26,
   "metadata": {},
   "outputs": [
    {
     "data": {
      "text/plain": [
       "array([[22.        ],\n",
       "       [38.        ],\n",
       "       [26.        ],\n",
       "       [35.        ],\n",
       "       [35.        ],\n",
       "       [29.69911765],\n",
       "       [54.        ],\n",
       "       [ 2.        ],\n",
       "       [27.        ],\n",
       "       [14.        ],\n",
       "       [ 4.        ],\n",
       "       [58.        ],\n",
       "       [20.        ],\n",
       "       [39.        ],\n",
       "       [14.        ],\n",
       "       [55.        ],\n",
       "       [ 2.        ],\n",
       "       [29.69911765],\n",
       "       [31.        ],\n",
       "       [29.69911765]])"
      ]
     },
     "execution_count": 26,
     "metadata": {},
     "output_type": "execute_result"
    }
   ],
   "source": [
    "imp_mean[:20]"
   ]
  },
  {
   "cell_type": "code",
   "execution_count": 27,
   "metadata": {},
   "outputs": [
    {
     "data": {
      "text/plain": [
       "array([[22.],\n",
       "       [38.],\n",
       "       [26.],\n",
       "       [35.],\n",
       "       [35.],\n",
       "       [28.],\n",
       "       [54.],\n",
       "       [ 2.],\n",
       "       [27.],\n",
       "       [14.],\n",
       "       [ 4.],\n",
       "       [58.],\n",
       "       [20.],\n",
       "       [39.],\n",
       "       [14.],\n",
       "       [55.],\n",
       "       [ 2.],\n",
       "       [28.],\n",
       "       [31.],\n",
       "       [28.]])"
      ]
     },
     "execution_count": 27,
     "metadata": {},
     "output_type": "execute_result"
    }
   ],
   "source": [
    "imp_median[:20]"
   ]
  },
  {
   "cell_type": "code",
   "execution_count": 28,
   "metadata": {},
   "outputs": [
    {
     "data": {
      "text/plain": [
       "array([[22.],\n",
       "       [38.],\n",
       "       [26.],\n",
       "       [35.],\n",
       "       [35.],\n",
       "       [ 0.],\n",
       "       [54.],\n",
       "       [ 2.],\n",
       "       [27.],\n",
       "       [14.],\n",
       "       [ 4.],\n",
       "       [58.],\n",
       "       [20.],\n",
       "       [39.],\n",
       "       [14.],\n",
       "       [55.],\n",
       "       [ 2.],\n",
       "       [ 0.],\n",
       "       [31.],\n",
       "       [ 0.]])"
      ]
     },
     "execution_count": 28,
     "metadata": {},
     "output_type": "execute_result"
    }
   ],
   "source": [
    "imp_0[:20]"
   ]
  },
  {
   "cell_type": "code",
   "execution_count": 70,
   "metadata": {},
   "outputs": [
    {
     "name": "stdout",
     "output_type": "stream",
     "text": [
      "<class 'pandas.core.frame.DataFrame'>\n",
      "Int64Index: 891 entries, 0 to 890\n",
      "Data columns (total 4 columns):\n",
      " #   Column    Non-Null Count  Dtype  \n",
      "---  ------    --------------  -----  \n",
      " 0   Age       891 non-null    float64\n",
      " 1   Sex       891 non-null    object \n",
      " 2   Embarked  891 non-null    object \n",
      " 3   Survived  891 non-null    int64  \n",
      "dtypes: float64(1), int64(1), object(2)\n",
      "memory usage: 67.1+ KB\n"
     ]
    }
   ],
   "source": [
    "#在这里我们使用中位数填补Age\n",
    "data.loc[:,\"Age\"]=imp_median\n",
    "data.info()"
   ]
  },
  {
   "cell_type": "code",
   "execution_count": 71,
   "metadata": {},
   "outputs": [
    {
     "name": "stdout",
     "output_type": "stream",
     "text": [
      "<class 'pandas.core.frame.DataFrame'>\n",
      "Int64Index: 891 entries, 0 to 890\n",
      "Data columns (total 4 columns):\n",
      " #   Column    Non-Null Count  Dtype  \n",
      "---  ------    --------------  -----  \n",
      " 0   Age       891 non-null    float64\n",
      " 1   Sex       891 non-null    object \n",
      " 2   Embarked  891 non-null    object \n",
      " 3   Survived  891 non-null    int64  \n",
      "dtypes: float64(1), int64(1), object(2)\n",
      "memory usage: 67.1+ KB\n"
     ]
    }
   ],
   "source": [
    "#使用众数填补Embarked,众数可以填充文字型数据\n",
    "Embarked=data.loc[:,\"Embarked\"].values.reshape(-1,1)\n",
    "imp_mode=SimpleImputer(strategy=\"most_frequent\")\n",
    "data.loc[:,\"Embarked\"]=imp_mode.fit_transform(Embarked)\n",
    "data.info()"
   ]
  },
  {
   "cell_type": "code",
   "execution_count": 31,
   "metadata": {},
   "outputs": [
    {
     "data": {
      "text/html": [
       "<div>\n",
       "<style scoped>\n",
       "    .dataframe tbody tr th:only-of-type {\n",
       "        vertical-align: middle;\n",
       "    }\n",
       "\n",
       "    .dataframe tbody tr th {\n",
       "        vertical-align: top;\n",
       "    }\n",
       "\n",
       "    .dataframe thead th {\n",
       "        text-align: right;\n",
       "    }\n",
       "</style>\n",
       "<table border=\"1\" class=\"dataframe\">\n",
       "  <thead>\n",
       "    <tr style=\"text-align: right;\">\n",
       "      <th></th>\n",
       "      <th>Age</th>\n",
       "      <th>Sex</th>\n",
       "      <th>Embarked</th>\n",
       "      <th>Survived</th>\n",
       "    </tr>\n",
       "  </thead>\n",
       "  <tbody>\n",
       "    <tr>\n",
       "      <th>0</th>\n",
       "      <td>22.0</td>\n",
       "      <td>male</td>\n",
       "      <td>S</td>\n",
       "      <td>No</td>\n",
       "    </tr>\n",
       "    <tr>\n",
       "      <th>1</th>\n",
       "      <td>38.0</td>\n",
       "      <td>female</td>\n",
       "      <td>C</td>\n",
       "      <td>Yes</td>\n",
       "    </tr>\n",
       "    <tr>\n",
       "      <th>2</th>\n",
       "      <td>26.0</td>\n",
       "      <td>female</td>\n",
       "      <td>S</td>\n",
       "      <td>Yes</td>\n",
       "    </tr>\n",
       "    <tr>\n",
       "      <th>3</th>\n",
       "      <td>35.0</td>\n",
       "      <td>female</td>\n",
       "      <td>S</td>\n",
       "      <td>Yes</td>\n",
       "    </tr>\n",
       "    <tr>\n",
       "      <th>4</th>\n",
       "      <td>35.0</td>\n",
       "      <td>male</td>\n",
       "      <td>S</td>\n",
       "      <td>No</td>\n",
       "    </tr>\n",
       "  </tbody>\n",
       "</table>\n",
       "</div>"
      ],
      "text/plain": [
       "    Age     Sex Embarked Survived\n",
       "0  22.0    male        S       No\n",
       "1  38.0  female        C      Yes\n",
       "2  26.0  female        S      Yes\n",
       "3  35.0  female        S      Yes\n",
       "4  35.0    male        S       No"
      ]
     },
     "execution_count": 31,
     "metadata": {},
     "output_type": "execute_result"
    }
   ],
   "source": [
    "#同样，可以用pandas和numpy进行填充，并且会更简单\n",
    "import pandas as pd\n",
    "data_=pd.read_csv(r\"C:\\Users\\hp\\Desktop\\python\\机器学习菜菜\\sklearnjqxx_jb51\\【机器学习】菜菜的sklearn课堂(1-12全课)\\03数据预处理和特征工程\\Narrativedata.csv\",index_col=0)\n",
    "data_.head()"
   ]
  },
  {
   "cell_type": "code",
   "execution_count": 32,
   "metadata": {},
   "outputs": [
    {
     "data": {
      "text/plain": [
       "0      22.0\n",
       "1      38.0\n",
       "2      26.0\n",
       "3      35.0\n",
       "4      35.0\n",
       "       ... \n",
       "886    27.0\n",
       "887    19.0\n",
       "888    28.0\n",
       "889    26.0\n",
       "890    32.0\n",
       "Name: Age, Length: 891, dtype: float64"
      ]
     },
     "execution_count": 32,
     "metadata": {},
     "output_type": "execute_result"
    }
   ],
   "source": [
    "data_.loc[:,\"Age\"]=data_.loc[:,\"Age\"].fillna(data_.loc[:,\"Age\"].median())\n",
    "#.fillna在Dataframe里面直接进行填补 \n",
    "data_.loc[:,\"Age\"]"
   ]
  },
  {
   "cell_type": "code",
   "execution_count": 33,
   "metadata": {},
   "outputs": [
    {
     "name": "stdout",
     "output_type": "stream",
     "text": [
      "<class 'pandas.core.frame.DataFrame'>\n",
      "Int64Index: 889 entries, 0 to 890\n",
      "Data columns (total 4 columns):\n",
      " #   Column    Non-Null Count  Dtype  \n",
      "---  ------    --------------  -----  \n",
      " 0   Age       889 non-null    float64\n",
      " 1   Sex       889 non-null    object \n",
      " 2   Embarked  889 non-null    object \n",
      " 3   Survived  889 non-null    object \n",
      "dtypes: float64(1), object(3)\n",
      "memory usage: 34.7+ KB\n"
     ]
    }
   ],
   "source": [
    "data_.dropna(axis=0,inplace=True)\n",
    "#.dropna(axis=0)删除所有有缺失值的行，.dropna(axis=1)删除所有有缺失值的列\n",
    "#参数inplace=True表示在原数据集上进行修改，为False表示生成一个复制对象，不修改原数据，默认为False\n",
    "data_.info()"
   ]
  },
  {
   "cell_type": "code",
   "execution_count": null,
   "metadata": {},
   "outputs": [],
   "source": [
    "#处理分类型特征：编码与哑变量"
   ]
  },
  {
   "cell_type": "code",
   "execution_count": 34,
   "metadata": {},
   "outputs": [
    {
     "data": {
      "text/plain": [
       "array([0, 2, 2, 2, 0, 0, 0, 0, 2, 2, 1, 2, 0, 0, 0, 1, 0, 2, 0, 2, 1, 2,\n",
       "       2, 2, 0, 1, 0, 0, 2, 0, 0, 2, 2, 0, 0, 0, 2, 0, 0, 2, 0, 0, 0, 1,\n",
       "       2, 0, 0, 2, 0, 0, 0, 0, 2, 2, 0, 2, 2, 0, 2, 0, 0, 2, 0, 0, 0, 2,\n",
       "       2, 0, 2, 0, 0, 0, 0, 0, 2, 1, 0, 1, 2, 2, 0, 2, 2, 0, 2, 2, 0, 0,\n",
       "       2, 0, 0, 0, 0, 0, 0, 0, 1, 2, 2, 0, 0, 0, 0, 0, 0, 0, 2, 2, 0, 2,\n",
       "       0, 0, 0, 0, 0, 0, 0, 0, 0, 0, 0, 0, 0, 2, 0, 2, 0, 2, 2, 0, 1, 0,\n",
       "       0, 2, 0, 0, 2, 0, 0, 0, 1, 1, 2, 0, 0, 0, 2, 0, 0, 1, 0, 1, 1, 0,\n",
       "       0, 0, 2, 0, 0, 0, 0, 2, 0, 0, 0, 2, 2, 0, 0, 0, 1, 0, 2, 0, 0, 0,\n",
       "       1, 0, 0, 0, 0, 0, 0, 1, 2, 0, 2, 2, 0, 0, 2, 0, 2, 1, 2, 2, 0, 0,\n",
       "       1, 0, 0, 0, 0, 0, 2, 0, 0, 2, 2, 2, 1, 2, 1, 0, 0, 2, 2, 0, 2, 0,\n",
       "       2, 0, 0, 0, 2, 0, 2, 0, 0, 0, 2, 1, 0, 2, 0, 0, 0, 2, 0, 0, 0, 2,\n",
       "       0, 0, 0, 0, 0, 2, 2, 0, 0, 0, 0, 1, 0, 2, 2, 2, 2, 2, 0, 2, 0, 1,\n",
       "       0, 0, 1, 2, 2, 1, 0, 2, 2, 0, 2, 2, 0, 0, 1, 1, 0, 0, 0, 2, 0, 0,\n",
       "       2, 0, 2, 2, 2, 2, 0, 0, 0, 0, 0, 0, 2, 2, 2, 2, 1, 2, 0, 2, 2, 2,\n",
       "       0, 2, 2, 2, 0, 0, 0, 2, 2, 1, 2, 2, 0, 1, 2, 2, 0, 2, 0, 1, 2, 2,\n",
       "       2, 0, 1, 0, 2, 0, 0, 2, 1, 0, 2, 2, 0, 0, 0, 2, 2, 2, 2, 0, 0, 0,\n",
       "       0, 0, 0, 0, 2, 0, 2, 2, 0, 0, 0, 0, 0, 0, 2, 2, 2, 1, 2, 0, 0, 0,\n",
       "       0, 2, 2, 0, 0, 0, 2, 2, 0, 2, 0, 0, 0, 2, 0, 2, 2, 2, 0, 2, 2, 0,\n",
       "       0, 0, 0, 2, 2, 1, 0, 0, 0, 1, 0, 2, 0, 0, 0, 0, 2, 0, 2, 0, 1, 2,\n",
       "       0, 0, 0, 0, 0, 0, 0, 0, 2, 2, 0, 2, 2, 2, 2, 0, 0, 2, 0, 2, 0, 0,\n",
       "       2, 0, 0, 2, 2, 2, 2, 2, 2, 2, 0, 0, 0, 2, 1, 2, 0, 2, 2, 0, 2, 1,\n",
       "       0, 0, 0, 0, 0, 0, 0, 1, 1, 0, 2, 2, 0, 0, 1, 0, 0, 2, 0, 0, 0, 2,\n",
       "       2, 1, 2, 0, 0, 1, 0, 0, 1, 0, 0, 0, 2, 1, 0, 0, 0, 0, 0, 0, 2, 1,\n",
       "       2, 2, 1, 2, 2, 0, 2, 2, 1, 0, 2, 0, 2, 0, 2, 0, 0, 2, 0, 0, 2, 0,\n",
       "       0, 0, 2, 0, 1, 2, 0, 2, 0, 2, 0, 2, 2, 0, 1, 2, 0, 0, 2, 2, 1, 2,\n",
       "       2, 0, 0, 2, 2, 0, 2, 0, 2, 2, 0, 0, 0, 0, 1, 0, 1, 0, 1, 1, 2, 2,\n",
       "       1, 2, 0, 0, 2, 2, 0, 2, 2, 2, 0, 0, 0, 2, 0, 2, 1, 0, 0, 2, 0, 0,\n",
       "       0, 0, 2, 0, 0, 2, 2, 0, 0, 0, 2, 0, 1, 2, 2, 1, 0, 0, 2, 0, 0, 1,\n",
       "       0, 0, 2, 0, 0, 2, 2, 0, 0, 0, 1, 2, 1, 0, 1, 0, 2, 0, 0, 2, 0, 0,\n",
       "       0, 0, 0, 2, 0, 2, 2, 2, 1, 2, 0, 2, 0, 2, 0, 2, 0, 0, 0, 0, 0, 0,\n",
       "       1, 0, 0, 0, 2, 0, 0, 0, 0, 2, 2, 0, 0, 2, 0, 0, 0, 2, 0, 2, 0, 2,\n",
       "       0, 0, 0, 0, 0, 0, 0, 2, 2, 2, 2, 1, 1, 1, 1, 2, 0, 0, 2, 2, 0, 0,\n",
       "       0, 0, 1, 2, 2, 2, 2, 0, 1, 0, 1, 1, 2, 1, 0, 0, 2, 0, 0, 0, 2, 0,\n",
       "       2, 2, 1, 1, 2, 0, 1, 0, 0, 0, 0, 2, 0, 0, 2, 0, 2, 0, 2, 0, 0, 2,\n",
       "       0, 0, 2, 2, 1, 0, 2, 2, 0, 0, 0, 2, 0, 0, 2, 2, 0, 2, 0, 0, 0, 0,\n",
       "       0, 1, 0, 0, 1, 1, 0, 2, 0, 2, 2, 2, 0, 0, 0, 0, 2, 0, 2, 0, 0, 0,\n",
       "       0, 0, 0, 0, 2, 2, 0, 0, 0, 2, 2, 2, 2, 0, 0, 0, 0, 2, 0, 1, 0, 1,\n",
       "       0, 0, 0, 0, 0, 0, 2, 2, 0, 2, 0, 0, 0, 2, 2, 2, 2, 2, 0, 0, 0, 2,\n",
       "       0, 0, 2, 2, 0, 0, 2, 0, 0, 1, 0, 0, 0, 1, 1, 0, 1, 2, 0, 2, 2, 2,\n",
       "       2, 0, 0, 0, 2, 0, 1, 1, 1, 0, 0, 2, 0, 1, 0, 0, 2, 2, 0, 0, 0, 2,\n",
       "       2, 0, 0, 1, 0, 0, 0, 2, 0, 1, 0])"
      ]
     },
     "execution_count": 34,
     "metadata": {},
     "output_type": "execute_result"
    }
   ],
   "source": [
    "import pandas as pd\n",
    "from sklearn.preprocessing import LabelEncoder#标签专用\n",
    "data=pd.read_csv(r\"C:\\Users\\hp\\Desktop\\python\\机器学习菜菜\\sklearnjqxx_jb51\\【机器学习】菜菜的sklearn课堂(1-12全课)\\03数据预处理和特征工程\\Narrativedata.csv\",index_col=0)\n",
    "#index_col意思是把第0列作为索引\n",
    "y=data.iloc[:,-1]#要输入的是标签，不是特征矩阵，所有允许一维（一般都习惯放到最后一列，这里是survived  ）\n",
    "le=LabelEncoder()#实例化\n",
    "le=le.fit(y)#导入数据\n",
    "label=le.transform(y)#transfrom接口调取结果\n",
    "label#为什么label里面是0,1,2，不是有yes，no两种么\n",
    "#答：通过classes_发现想，有三类"
   ]
  },
  {
   "cell_type": "code",
   "execution_count": 35,
   "metadata": {},
   "outputs": [
    {
     "data": {
      "text/plain": [
       "array(['No', 'Unknown', 'Yes'], dtype=object)"
      ]
     },
     "execution_count": 35,
     "metadata": {},
     "output_type": "execute_result"
    }
   ],
   "source": [
    "le.classes_#属性.classes_查看标签纸究竟有多少类别"
   ]
  },
  {
   "cell_type": "code",
   "execution_count": 36,
   "metadata": {},
   "outputs": [
    {
     "data": {
      "text/plain": [
       "array([0, 2, 2, 2, 0, 0, 0, 0, 2, 2, 1, 2, 0, 0, 0, 1, 0, 2, 0, 2, 1, 2,\n",
       "       2, 2, 0, 1, 0, 0, 2, 0, 0, 2, 2, 0, 0, 0, 2, 0, 0, 2, 0, 0, 0, 1,\n",
       "       2, 0, 0, 2, 0, 0, 0, 0, 2, 2, 0, 2, 2, 0, 2, 0, 0, 2, 0, 0, 0, 2,\n",
       "       2, 0, 2, 0, 0, 0, 0, 0, 2, 1, 0, 1, 2, 2, 0, 2, 2, 0, 2, 2, 0, 0,\n",
       "       2, 0, 0, 0, 0, 0, 0, 0, 1, 2, 2, 0, 0, 0, 0, 0, 0, 0, 2, 2, 0, 2,\n",
       "       0, 0, 0, 0, 0, 0, 0, 0, 0, 0, 0, 0, 0, 2, 0, 2, 0, 2, 2, 0, 1, 0,\n",
       "       0, 2, 0, 0, 2, 0, 0, 0, 1, 1, 2, 0, 0, 0, 2, 0, 0, 1, 0, 1, 1, 0,\n",
       "       0, 0, 2, 0, 0, 0, 0, 2, 0, 0, 0, 2, 2, 0, 0, 0, 1, 0, 2, 0, 0, 0,\n",
       "       1, 0, 0, 0, 0, 0, 0, 1, 2, 0, 2, 2, 0, 0, 2, 0, 2, 1, 2, 2, 0, 0,\n",
       "       1, 0, 0, 0, 0, 0, 2, 0, 0, 2, 2, 2, 1, 2, 1, 0, 0, 2, 2, 0, 2, 0,\n",
       "       2, 0, 0, 0, 2, 0, 2, 0, 0, 0, 2, 1, 0, 2, 0, 0, 0, 2, 0, 0, 0, 2,\n",
       "       0, 0, 0, 0, 0, 2, 2, 0, 0, 0, 0, 1, 0, 2, 2, 2, 2, 2, 0, 2, 0, 1,\n",
       "       0, 0, 1, 2, 2, 1, 0, 2, 2, 0, 2, 2, 0, 0, 1, 1, 0, 0, 0, 2, 0, 0,\n",
       "       2, 0, 2, 2, 2, 2, 0, 0, 0, 0, 0, 0, 2, 2, 2, 2, 1, 2, 0, 2, 2, 2,\n",
       "       0, 2, 2, 2, 0, 0, 0, 2, 2, 1, 2, 2, 0, 1, 2, 2, 0, 2, 0, 1, 2, 2,\n",
       "       2, 0, 1, 0, 2, 0, 0, 2, 1, 0, 2, 2, 0, 0, 0, 2, 2, 2, 2, 0, 0, 0,\n",
       "       0, 0, 0, 0, 2, 0, 2, 2, 0, 0, 0, 0, 0, 0, 2, 2, 2, 1, 2, 0, 0, 0,\n",
       "       0, 2, 2, 0, 0, 0, 2, 2, 0, 2, 0, 0, 0, 2, 0, 2, 2, 2, 0, 2, 2, 0,\n",
       "       0, 0, 0, 2, 2, 1, 0, 0, 0, 1, 0, 2, 0, 0, 0, 0, 2, 0, 2, 0, 1, 2,\n",
       "       0, 0, 0, 0, 0, 0, 0, 0, 2, 2, 0, 2, 2, 2, 2, 0, 0, 2, 0, 2, 0, 0,\n",
       "       2, 0, 0, 2, 2, 2, 2, 2, 2, 2, 0, 0, 0, 2, 1, 2, 0, 2, 2, 0, 2, 1,\n",
       "       0, 0, 0, 0, 0, 0, 0, 1, 1, 0, 2, 2, 0, 0, 1, 0, 0, 2, 0, 0, 0, 2,\n",
       "       2, 1, 2, 0, 0, 1, 0, 0, 1, 0, 0, 0, 2, 1, 0, 0, 0, 0, 0, 0, 2, 1,\n",
       "       2, 2, 1, 2, 2, 0, 2, 2, 1, 0, 2, 0, 2, 0, 2, 0, 0, 2, 0, 0, 2, 0,\n",
       "       0, 0, 2, 0, 1, 2, 0, 2, 0, 2, 0, 2, 2, 0, 1, 2, 0, 0, 2, 2, 1, 2,\n",
       "       2, 0, 0, 2, 2, 0, 2, 0, 2, 2, 0, 0, 0, 0, 1, 0, 1, 0, 1, 1, 2, 2,\n",
       "       1, 2, 0, 0, 2, 2, 0, 2, 2, 2, 0, 0, 0, 2, 0, 2, 1, 0, 0, 2, 0, 0,\n",
       "       0, 0, 2, 0, 0, 2, 2, 0, 0, 0, 2, 0, 1, 2, 2, 1, 0, 0, 2, 0, 0, 1,\n",
       "       0, 0, 2, 0, 0, 2, 2, 0, 0, 0, 1, 2, 1, 0, 1, 0, 2, 0, 0, 2, 0, 0,\n",
       "       0, 0, 0, 2, 0, 2, 2, 2, 1, 2, 0, 2, 0, 2, 0, 2, 0, 0, 0, 0, 0, 0,\n",
       "       1, 0, 0, 0, 2, 0, 0, 0, 0, 2, 2, 0, 0, 2, 0, 0, 0, 2, 0, 2, 0, 2,\n",
       "       0, 0, 0, 0, 0, 0, 0, 2, 2, 2, 2, 1, 1, 1, 1, 2, 0, 0, 2, 2, 0, 0,\n",
       "       0, 0, 1, 2, 2, 2, 2, 0, 1, 0, 1, 1, 2, 1, 0, 0, 2, 0, 0, 0, 2, 0,\n",
       "       2, 2, 1, 1, 2, 0, 1, 0, 0, 0, 0, 2, 0, 0, 2, 0, 2, 0, 2, 0, 0, 2,\n",
       "       0, 0, 2, 2, 1, 0, 2, 2, 0, 0, 0, 2, 0, 0, 2, 2, 0, 2, 0, 0, 0, 0,\n",
       "       0, 1, 0, 0, 1, 1, 0, 2, 0, 2, 2, 2, 0, 0, 0, 0, 2, 0, 2, 0, 0, 0,\n",
       "       0, 0, 0, 0, 2, 2, 0, 0, 0, 2, 2, 2, 2, 0, 0, 0, 0, 2, 0, 1, 0, 1,\n",
       "       0, 0, 0, 0, 0, 0, 2, 2, 0, 2, 0, 0, 0, 2, 2, 2, 2, 2, 0, 0, 0, 2,\n",
       "       0, 0, 2, 2, 0, 0, 2, 0, 0, 1, 0, 0, 0, 1, 1, 0, 1, 2, 0, 2, 2, 2,\n",
       "       2, 0, 0, 0, 2, 0, 1, 1, 1, 0, 0, 2, 0, 1, 0, 0, 2, 2, 0, 0, 0, 2,\n",
       "       2, 0, 0, 1, 0, 0, 0, 2, 0, 1, 0])"
      ]
     },
     "execution_count": 36,
     "metadata": {},
     "output_type": "execute_result"
    }
   ],
   "source": [
    "le.fit_transform(y)"
   ]
  },
  {
   "cell_type": "code",
   "execution_count": 37,
   "metadata": {},
   "outputs": [
    {
     "data": {
      "text/plain": [
       "array(['No', 'Yes', 'Yes', 'Yes', 'No', 'No', 'No', 'No', 'Yes', 'Yes',\n",
       "       'Unknown', 'Yes', 'No', 'No', 'No', 'Unknown', 'No', 'Yes', 'No',\n",
       "       'Yes', 'Unknown', 'Yes', 'Yes', 'Yes', 'No', 'Unknown', 'No', 'No',\n",
       "       'Yes', 'No', 'No', 'Yes', 'Yes', 'No', 'No', 'No', 'Yes', 'No',\n",
       "       'No', 'Yes', 'No', 'No', 'No', 'Unknown', 'Yes', 'No', 'No', 'Yes',\n",
       "       'No', 'No', 'No', 'No', 'Yes', 'Yes', 'No', 'Yes', 'Yes', 'No',\n",
       "       'Yes', 'No', 'No', 'Yes', 'No', 'No', 'No', 'Yes', 'Yes', 'No',\n",
       "       'Yes', 'No', 'No', 'No', 'No', 'No', 'Yes', 'Unknown', 'No',\n",
       "       'Unknown', 'Yes', 'Yes', 'No', 'Yes', 'Yes', 'No', 'Yes', 'Yes',\n",
       "       'No', 'No', 'Yes', 'No', 'No', 'No', 'No', 'No', 'No', 'No',\n",
       "       'Unknown', 'Yes', 'Yes', 'No', 'No', 'No', 'No', 'No', 'No', 'No',\n",
       "       'Yes', 'Yes', 'No', 'Yes', 'No', 'No', 'No', 'No', 'No', 'No',\n",
       "       'No', 'No', 'No', 'No', 'No', 'No', 'No', 'Yes', 'No', 'Yes', 'No',\n",
       "       'Yes', 'Yes', 'No', 'Unknown', 'No', 'No', 'Yes', 'No', 'No',\n",
       "       'Yes', 'No', 'No', 'No', 'Unknown', 'Unknown', 'Yes', 'No', 'No',\n",
       "       'No', 'Yes', 'No', 'No', 'Unknown', 'No', 'Unknown', 'Unknown',\n",
       "       'No', 'No', 'No', 'Yes', 'No', 'No', 'No', 'No', 'Yes', 'No', 'No',\n",
       "       'No', 'Yes', 'Yes', 'No', 'No', 'No', 'Unknown', 'No', 'Yes', 'No',\n",
       "       'No', 'No', 'Unknown', 'No', 'No', 'No', 'No', 'No', 'No',\n",
       "       'Unknown', 'Yes', 'No', 'Yes', 'Yes', 'No', 'No', 'Yes', 'No',\n",
       "       'Yes', 'Unknown', 'Yes', 'Yes', 'No', 'No', 'Unknown', 'No', 'No',\n",
       "       'No', 'No', 'No', 'Yes', 'No', 'No', 'Yes', 'Yes', 'Yes',\n",
       "       'Unknown', 'Yes', 'Unknown', 'No', 'No', 'Yes', 'Yes', 'No', 'Yes',\n",
       "       'No', 'Yes', 'No', 'No', 'No', 'Yes', 'No', 'Yes', 'No', 'No',\n",
       "       'No', 'Yes', 'Unknown', 'No', 'Yes', 'No', 'No', 'No', 'Yes', 'No',\n",
       "       'No', 'No', 'Yes', 'No', 'No', 'No', 'No', 'No', 'Yes', 'Yes',\n",
       "       'No', 'No', 'No', 'No', 'Unknown', 'No', 'Yes', 'Yes', 'Yes',\n",
       "       'Yes', 'Yes', 'No', 'Yes', 'No', 'Unknown', 'No', 'No', 'Unknown',\n",
       "       'Yes', 'Yes', 'Unknown', 'No', 'Yes', 'Yes', 'No', 'Yes', 'Yes',\n",
       "       'No', 'No', 'Unknown', 'Unknown', 'No', 'No', 'No', 'Yes', 'No',\n",
       "       'No', 'Yes', 'No', 'Yes', 'Yes', 'Yes', 'Yes', 'No', 'No', 'No',\n",
       "       'No', 'No', 'No', 'Yes', 'Yes', 'Yes', 'Yes', 'Unknown', 'Yes',\n",
       "       'No', 'Yes', 'Yes', 'Yes', 'No', 'Yes', 'Yes', 'Yes', 'No', 'No',\n",
       "       'No', 'Yes', 'Yes', 'Unknown', 'Yes', 'Yes', 'No', 'Unknown',\n",
       "       'Yes', 'Yes', 'No', 'Yes', 'No', 'Unknown', 'Yes', 'Yes', 'Yes',\n",
       "       'No', 'Unknown', 'No', 'Yes', 'No', 'No', 'Yes', 'Unknown', 'No',\n",
       "       'Yes', 'Yes', 'No', 'No', 'No', 'Yes', 'Yes', 'Yes', 'Yes', 'No',\n",
       "       'No', 'No', 'No', 'No', 'No', 'No', 'Yes', 'No', 'Yes', 'Yes',\n",
       "       'No', 'No', 'No', 'No', 'No', 'No', 'Yes', 'Yes', 'Yes', 'Unknown',\n",
       "       'Yes', 'No', 'No', 'No', 'No', 'Yes', 'Yes', 'No', 'No', 'No',\n",
       "       'Yes', 'Yes', 'No', 'Yes', 'No', 'No', 'No', 'Yes', 'No', 'Yes',\n",
       "       'Yes', 'Yes', 'No', 'Yes', 'Yes', 'No', 'No', 'No', 'No', 'Yes',\n",
       "       'Yes', 'Unknown', 'No', 'No', 'No', 'Unknown', 'No', 'Yes', 'No',\n",
       "       'No', 'No', 'No', 'Yes', 'No', 'Yes', 'No', 'Unknown', 'Yes', 'No',\n",
       "       'No', 'No', 'No', 'No', 'No', 'No', 'No', 'Yes', 'Yes', 'No',\n",
       "       'Yes', 'Yes', 'Yes', 'Yes', 'No', 'No', 'Yes', 'No', 'Yes', 'No',\n",
       "       'No', 'Yes', 'No', 'No', 'Yes', 'Yes', 'Yes', 'Yes', 'Yes', 'Yes',\n",
       "       'Yes', 'No', 'No', 'No', 'Yes', 'Unknown', 'Yes', 'No', 'Yes',\n",
       "       'Yes', 'No', 'Yes', 'Unknown', 'No', 'No', 'No', 'No', 'No', 'No',\n",
       "       'No', 'Unknown', 'Unknown', 'No', 'Yes', 'Yes', 'No', 'No',\n",
       "       'Unknown', 'No', 'No', 'Yes', 'No', 'No', 'No', 'Yes', 'Yes',\n",
       "       'Unknown', 'Yes', 'No', 'No', 'Unknown', 'No', 'No', 'Unknown',\n",
       "       'No', 'No', 'No', 'Yes', 'Unknown', 'No', 'No', 'No', 'No', 'No',\n",
       "       'No', 'Yes', 'Unknown', 'Yes', 'Yes', 'Unknown', 'Yes', 'Yes',\n",
       "       'No', 'Yes', 'Yes', 'Unknown', 'No', 'Yes', 'No', 'Yes', 'No',\n",
       "       'Yes', 'No', 'No', 'Yes', 'No', 'No', 'Yes', 'No', 'No', 'No',\n",
       "       'Yes', 'No', 'Unknown', 'Yes', 'No', 'Yes', 'No', 'Yes', 'No',\n",
       "       'Yes', 'Yes', 'No', 'Unknown', 'Yes', 'No', 'No', 'Yes', 'Yes',\n",
       "       'Unknown', 'Yes', 'Yes', 'No', 'No', 'Yes', 'Yes', 'No', 'Yes',\n",
       "       'No', 'Yes', 'Yes', 'No', 'No', 'No', 'No', 'Unknown', 'No',\n",
       "       'Unknown', 'No', 'Unknown', 'Unknown', 'Yes', 'Yes', 'Unknown',\n",
       "       'Yes', 'No', 'No', 'Yes', 'Yes', 'No', 'Yes', 'Yes', 'Yes', 'No',\n",
       "       'No', 'No', 'Yes', 'No', 'Yes', 'Unknown', 'No', 'No', 'Yes', 'No',\n",
       "       'No', 'No', 'No', 'Yes', 'No', 'No', 'Yes', 'Yes', 'No', 'No',\n",
       "       'No', 'Yes', 'No', 'Unknown', 'Yes', 'Yes', 'Unknown', 'No', 'No',\n",
       "       'Yes', 'No', 'No', 'Unknown', 'No', 'No', 'Yes', 'No', 'No', 'Yes',\n",
       "       'Yes', 'No', 'No', 'No', 'Unknown', 'Yes', 'Unknown', 'No',\n",
       "       'Unknown', 'No', 'Yes', 'No', 'No', 'Yes', 'No', 'No', 'No', 'No',\n",
       "       'No', 'Yes', 'No', 'Yes', 'Yes', 'Yes', 'Unknown', 'Yes', 'No',\n",
       "       'Yes', 'No', 'Yes', 'No', 'Yes', 'No', 'No', 'No', 'No', 'No',\n",
       "       'No', 'Unknown', 'No', 'No', 'No', 'Yes', 'No', 'No', 'No', 'No',\n",
       "       'Yes', 'Yes', 'No', 'No', 'Yes', 'No', 'No', 'No', 'Yes', 'No',\n",
       "       'Yes', 'No', 'Yes', 'No', 'No', 'No', 'No', 'No', 'No', 'No',\n",
       "       'Yes', 'Yes', 'Yes', 'Yes', 'Unknown', 'Unknown', 'Unknown',\n",
       "       'Unknown', 'Yes', 'No', 'No', 'Yes', 'Yes', 'No', 'No', 'No', 'No',\n",
       "       'Unknown', 'Yes', 'Yes', 'Yes', 'Yes', 'No', 'Unknown', 'No',\n",
       "       'Unknown', 'Unknown', 'Yes', 'Unknown', 'No', 'No', 'Yes', 'No',\n",
       "       'No', 'No', 'Yes', 'No', 'Yes', 'Yes', 'Unknown', 'Unknown', 'Yes',\n",
       "       'No', 'Unknown', 'No', 'No', 'No', 'No', 'Yes', 'No', 'No', 'Yes',\n",
       "       'No', 'Yes', 'No', 'Yes', 'No', 'No', 'Yes', 'No', 'No', 'Yes',\n",
       "       'Yes', 'Unknown', 'No', 'Yes', 'Yes', 'No', 'No', 'No', 'Yes',\n",
       "       'No', 'No', 'Yes', 'Yes', 'No', 'Yes', 'No', 'No', 'No', 'No',\n",
       "       'No', 'Unknown', 'No', 'No', 'Unknown', 'Unknown', 'No', 'Yes',\n",
       "       'No', 'Yes', 'Yes', 'Yes', 'No', 'No', 'No', 'No', 'Yes', 'No',\n",
       "       'Yes', 'No', 'No', 'No', 'No', 'No', 'No', 'No', 'Yes', 'Yes',\n",
       "       'No', 'No', 'No', 'Yes', 'Yes', 'Yes', 'Yes', 'No', 'No', 'No',\n",
       "       'No', 'Yes', 'No', 'Unknown', 'No', 'Unknown', 'No', 'No', 'No',\n",
       "       'No', 'No', 'No', 'Yes', 'Yes', 'No', 'Yes', 'No', 'No', 'No',\n",
       "       'Yes', 'Yes', 'Yes', 'Yes', 'Yes', 'No', 'No', 'No', 'Yes', 'No',\n",
       "       'No', 'Yes', 'Yes', 'No', 'No', 'Yes', 'No', 'No', 'Unknown', 'No',\n",
       "       'No', 'No', 'Unknown', 'Unknown', 'No', 'Unknown', 'Yes', 'No',\n",
       "       'Yes', 'Yes', 'Yes', 'Yes', 'No', 'No', 'No', 'Yes', 'No',\n",
       "       'Unknown', 'Unknown', 'Unknown', 'No', 'No', 'Yes', 'No',\n",
       "       'Unknown', 'No', 'No', 'Yes', 'Yes', 'No', 'No', 'No', 'Yes',\n",
       "       'Yes', 'No', 'No', 'Unknown', 'No', 'No', 'No', 'Yes', 'No',\n",
       "       'Unknown', 'No'], dtype=object)"
      ]
     },
     "execution_count": 37,
     "metadata": {},
     "output_type": "execute_result"
    }
   ],
   "source": [
    "le.inverse_transform(label)"
   ]
  },
  {
   "cell_type": "code",
   "execution_count": 38,
   "metadata": {},
   "outputs": [],
   "source": [
    "data.iloc[:,-1]=label#让标签等于我们运行出来的结果"
   ]
  },
  {
   "cell_type": "code",
   "execution_count": 39,
   "metadata": {},
   "outputs": [
    {
     "data": {
      "text/html": [
       "<div>\n",
       "<style scoped>\n",
       "    .dataframe tbody tr th:only-of-type {\n",
       "        vertical-align: middle;\n",
       "    }\n",
       "\n",
       "    .dataframe tbody tr th {\n",
       "        vertical-align: top;\n",
       "    }\n",
       "\n",
       "    .dataframe thead th {\n",
       "        text-align: right;\n",
       "    }\n",
       "</style>\n",
       "<table border=\"1\" class=\"dataframe\">\n",
       "  <thead>\n",
       "    <tr style=\"text-align: right;\">\n",
       "      <th></th>\n",
       "      <th>Age</th>\n",
       "      <th>Sex</th>\n",
       "      <th>Embarked</th>\n",
       "      <th>Survived</th>\n",
       "    </tr>\n",
       "  </thead>\n",
       "  <tbody>\n",
       "    <tr>\n",
       "      <th>0</th>\n",
       "      <td>22.0</td>\n",
       "      <td>male</td>\n",
       "      <td>S</td>\n",
       "      <td>0</td>\n",
       "    </tr>\n",
       "    <tr>\n",
       "      <th>1</th>\n",
       "      <td>38.0</td>\n",
       "      <td>female</td>\n",
       "      <td>C</td>\n",
       "      <td>2</td>\n",
       "    </tr>\n",
       "    <tr>\n",
       "      <th>2</th>\n",
       "      <td>26.0</td>\n",
       "      <td>female</td>\n",
       "      <td>S</td>\n",
       "      <td>2</td>\n",
       "    </tr>\n",
       "    <tr>\n",
       "      <th>3</th>\n",
       "      <td>35.0</td>\n",
       "      <td>female</td>\n",
       "      <td>S</td>\n",
       "      <td>2</td>\n",
       "    </tr>\n",
       "    <tr>\n",
       "      <th>4</th>\n",
       "      <td>35.0</td>\n",
       "      <td>male</td>\n",
       "      <td>S</td>\n",
       "      <td>0</td>\n",
       "    </tr>\n",
       "  </tbody>\n",
       "</table>\n",
       "</div>"
      ],
      "text/plain": [
       "    Age     Sex Embarked  Survived\n",
       "0  22.0    male        S         0\n",
       "1  38.0  female        C         2\n",
       "2  26.0  female        S         2\n",
       "3  35.0  female        S         2\n",
       "4  35.0    male        S         0"
      ]
     },
     "execution_count": 39,
     "metadata": {},
     "output_type": "execute_result"
    }
   ],
   "source": [
    "data.head()"
   ]
  },
  {
   "cell_type": "code",
   "execution_count": 41,
   "metadata": {},
   "outputs": [],
   "source": [
    "#最简单的写法：\n",
    "from sklearn.preprocessing import LabelEncoder\n",
    "data.iloc[:,-1]=LabelEncoder().fit_transform(data.iloc[:,-1])"
   ]
  },
  {
   "cell_type": "code",
   "execution_count": 40,
   "metadata": {},
   "outputs": [
    {
     "data": {
      "text/plain": [
       "0      0\n",
       "1      2\n",
       "2      2\n",
       "3      2\n",
       "4      0\n",
       "      ..\n",
       "886    0\n",
       "887    2\n",
       "888    0\n",
       "889    1\n",
       "890    0\n",
       "Name: Survived, Length: 891, dtype: int32"
      ]
     },
     "execution_count": 40,
     "metadata": {},
     "output_type": "execute_result"
    }
   ],
   "source": [
    "data.iloc[:,-1]"
   ]
  },
  {
   "cell_type": "code",
   "execution_count": 42,
   "metadata": {},
   "outputs": [
    {
     "name": "stdout",
     "output_type": "stream",
     "text": [
      "<class 'pandas.core.frame.DataFrame'>\n",
      "Int64Index: 889 entries, 0 to 890\n",
      "Data columns (total 4 columns):\n",
      " #   Column    Non-Null Count  Dtype  \n",
      "---  ------    --------------  -----  \n",
      " 0   Age       889 non-null    float64\n",
      " 1   Sex       889 non-null    object \n",
      " 2   Embarked  889 non-null    object \n",
      " 3   Survived  889 non-null    int64  \n",
      "dtypes: float64(1), int64(1), object(2)\n",
      "memory usage: 34.7+ KB\n"
     ]
    }
   ],
   "source": [
    "#preprocessing.OrdinalEncoder 特征专用，能够将分类特征转换为分类数值\n",
    "from sklearn.preprocessing import OrdinalEncoder\n",
    "#接口categories_对应LabelEncoder的接口classes_,一模一样的功能\n",
    "data_=data.copy()\n",
    "#data_.head\n",
    "\n",
    "data_.loc[:,\"Age\"]=data_.loc[:,\"Age\"].fillna(data_.loc[:,\"Age\"].median())\n",
    "#.fillna在Dataframe里面直接进行填补 \n",
    "data_.loc[:,\"Age\"]\n",
    "data_.dropna(axis=0,inplace=True)\n",
    "#.dropna(axis=0)删除所有有缺失值的行，.dropna(axis=1)删除所有有缺失值的列\n",
    "#参数inplace=True表示在原数据集上进行修改，为False表示生成一个复制对象，不修改原数据，默认为False\n",
    "data_.info()\n"
   ]
  },
  {
   "cell_type": "code",
   "execution_count": 44,
   "metadata": {},
   "outputs": [
    {
     "data": {
      "text/plain": [
       "[array(['female', 'male'], dtype=object), array(['C', 'Q', 'S'], dtype=object)]"
      ]
     },
     "execution_count": 44,
     "metadata": {},
     "output_type": "execute_result"
    }
   ],
   "source": [
    "#需要保证没有缺失值，如果有缺失值，则会报错\n",
    "OrdinalEncoder().fit(data_.iloc[:,1:-1]).categories_#data_.iloc[:,1:-1]所有的行从索引为1的列取到最后1列（不包括最后1列）"
   ]
  },
  {
   "cell_type": "code",
   "execution_count": 45,
   "metadata": {},
   "outputs": [
    {
     "data": {
      "text/html": [
       "<div>\n",
       "<style scoped>\n",
       "    .dataframe tbody tr th:only-of-type {\n",
       "        vertical-align: middle;\n",
       "    }\n",
       "\n",
       "    .dataframe tbody tr th {\n",
       "        vertical-align: top;\n",
       "    }\n",
       "\n",
       "    .dataframe thead th {\n",
       "        text-align: right;\n",
       "    }\n",
       "</style>\n",
       "<table border=\"1\" class=\"dataframe\">\n",
       "  <thead>\n",
       "    <tr style=\"text-align: right;\">\n",
       "      <th></th>\n",
       "      <th>Age</th>\n",
       "      <th>Sex</th>\n",
       "      <th>Embarked</th>\n",
       "      <th>Survived</th>\n",
       "    </tr>\n",
       "  </thead>\n",
       "  <tbody>\n",
       "    <tr>\n",
       "      <th>0</th>\n",
       "      <td>22.0</td>\n",
       "      <td>1.0</td>\n",
       "      <td>2.0</td>\n",
       "      <td>0</td>\n",
       "    </tr>\n",
       "    <tr>\n",
       "      <th>1</th>\n",
       "      <td>38.0</td>\n",
       "      <td>0.0</td>\n",
       "      <td>0.0</td>\n",
       "      <td>2</td>\n",
       "    </tr>\n",
       "    <tr>\n",
       "      <th>2</th>\n",
       "      <td>26.0</td>\n",
       "      <td>0.0</td>\n",
       "      <td>2.0</td>\n",
       "      <td>2</td>\n",
       "    </tr>\n",
       "    <tr>\n",
       "      <th>3</th>\n",
       "      <td>35.0</td>\n",
       "      <td>0.0</td>\n",
       "      <td>2.0</td>\n",
       "      <td>2</td>\n",
       "    </tr>\n",
       "    <tr>\n",
       "      <th>4</th>\n",
       "      <td>35.0</td>\n",
       "      <td>1.0</td>\n",
       "      <td>2.0</td>\n",
       "      <td>0</td>\n",
       "    </tr>\n",
       "  </tbody>\n",
       "</table>\n",
       "</div>"
      ],
      "text/plain": [
       "    Age  Sex  Embarked  Survived\n",
       "0  22.0  1.0       2.0         0\n",
       "1  38.0  0.0       0.0         2\n",
       "2  26.0  0.0       2.0         2\n",
       "3  35.0  0.0       2.0         2\n",
       "4  35.0  1.0       2.0         0"
      ]
     },
     "execution_count": 45,
     "metadata": {},
     "output_type": "execute_result"
    }
   ],
   "source": [
    "data_.iloc[:,1:-1]=OrdinalEncoder().fit_transform(data_.iloc[:,1:-1])\n",
    "\n",
    "data_.head()#将sex和embarked都转成数值型数据"
   ]
  },
  {
   "cell_type": "code",
   "execution_count": 47,
   "metadata": {},
   "outputs": [
    {
     "data": {
      "text/html": [
       "<div>\n",
       "<style scoped>\n",
       "    .dataframe tbody tr th:only-of-type {\n",
       "        vertical-align: middle;\n",
       "    }\n",
       "\n",
       "    .dataframe tbody tr th {\n",
       "        vertical-align: top;\n",
       "    }\n",
       "\n",
       "    .dataframe thead th {\n",
       "        text-align: right;\n",
       "    }\n",
       "</style>\n",
       "<table border=\"1\" class=\"dataframe\">\n",
       "  <thead>\n",
       "    <tr style=\"text-align: right;\">\n",
       "      <th></th>\n",
       "      <th>Age</th>\n",
       "      <th>Sex</th>\n",
       "      <th>Embarked</th>\n",
       "      <th>Survived</th>\n",
       "    </tr>\n",
       "  </thead>\n",
       "  <tbody>\n",
       "    <tr>\n",
       "      <th>0</th>\n",
       "      <td>22.0</td>\n",
       "      <td>male</td>\n",
       "      <td>S</td>\n",
       "      <td>0</td>\n",
       "    </tr>\n",
       "    <tr>\n",
       "      <th>1</th>\n",
       "      <td>38.0</td>\n",
       "      <td>female</td>\n",
       "      <td>C</td>\n",
       "      <td>2</td>\n",
       "    </tr>\n",
       "    <tr>\n",
       "      <th>2</th>\n",
       "      <td>26.0</td>\n",
       "      <td>female</td>\n",
       "      <td>S</td>\n",
       "      <td>2</td>\n",
       "    </tr>\n",
       "    <tr>\n",
       "      <th>3</th>\n",
       "      <td>35.0</td>\n",
       "      <td>female</td>\n",
       "      <td>S</td>\n",
       "      <td>2</td>\n",
       "    </tr>\n",
       "    <tr>\n",
       "      <th>4</th>\n",
       "      <td>35.0</td>\n",
       "      <td>male</td>\n",
       "      <td>S</td>\n",
       "      <td>0</td>\n",
       "    </tr>\n",
       "  </tbody>\n",
       "</table>\n",
       "</div>"
      ],
      "text/plain": [
       "    Age     Sex Embarked  Survived\n",
       "0  22.0    male        S         0\n",
       "1  38.0  female        C         2\n",
       "2  26.0  female        S         2\n",
       "3  35.0  female        S         2\n",
       "4  35.0    male        S         0"
      ]
     },
     "execution_count": 47,
     "metadata": {},
     "output_type": "execute_result"
    }
   ],
   "source": [
    "data.head()"
   ]
  },
  {
   "cell_type": "code",
   "execution_count": 48,
   "metadata": {},
   "outputs": [],
   "source": [
    "#使用独热编码，创建哑变量"
   ]
  },
  {
   "cell_type": "code",
   "execution_count": 74,
   "metadata": {},
   "outputs": [
    {
     "data": {
      "text/plain": [
       "array([[0., 1., 0., 0., 1.],\n",
       "       [1., 0., 1., 0., 0.],\n",
       "       [1., 0., 0., 0., 1.],\n",
       "       ...,\n",
       "       [1., 0., 0., 0., 1.],\n",
       "       [0., 1., 1., 0., 0.],\n",
       "       [0., 1., 0., 1., 0.]])"
      ]
     },
     "execution_count": 74,
     "metadata": {},
     "output_type": "execute_result"
    }
   ],
   "source": [
    "from sklearn.preprocessing import OneHotEncoder\n",
    "X=data.iloc[:,1:-1]\n",
    "enc=OneHotEncoder(categories='auto').fit(X)\n",
    "result=enc.transform(X).toarray()#转化为数组\n",
    "# enc.transform(X)\n",
    "result#因为是sex和embarked两个特征，sex有两类，embarked有三类，所以最后结果是5列"
   ]
  },
  {
   "cell_type": "code",
   "execution_count": 76,
   "metadata": {},
   "outputs": [
    {
     "data": {
      "text/plain": [
       "array([[0., 1., 0., 0., 1.],\n",
       "       [1., 0., 1., 0., 0.],\n",
       "       [1., 0., 0., 0., 1.],\n",
       "       ...,\n",
       "       [1., 0., 0., 0., 1.],\n",
       "       [0., 1., 1., 0., 0.],\n",
       "       [0., 1., 0., 1., 0.]])"
      ]
     },
     "execution_count": 76,
     "metadata": {},
     "output_type": "execute_result"
    }
   ],
   "source": [
    "#也可以一步到位\n",
    "OneHotEncoder(categories='auto').fit_transform(X).toarray()"
   ]
  },
  {
   "cell_type": "code",
   "execution_count": 77,
   "metadata": {},
   "outputs": [
    {
     "data": {
      "text/html": [
       "<div>\n",
       "<style scoped>\n",
       "    .dataframe tbody tr th:only-of-type {\n",
       "        vertical-align: middle;\n",
       "    }\n",
       "\n",
       "    .dataframe tbody tr th {\n",
       "        vertical-align: top;\n",
       "    }\n",
       "\n",
       "    .dataframe thead th {\n",
       "        text-align: right;\n",
       "    }\n",
       "</style>\n",
       "<table border=\"1\" class=\"dataframe\">\n",
       "  <thead>\n",
       "    <tr style=\"text-align: right;\">\n",
       "      <th></th>\n",
       "      <th>0</th>\n",
       "      <th>1</th>\n",
       "    </tr>\n",
       "  </thead>\n",
       "  <tbody>\n",
       "    <tr>\n",
       "      <th>0</th>\n",
       "      <td>male</td>\n",
       "      <td>S</td>\n",
       "    </tr>\n",
       "    <tr>\n",
       "      <th>1</th>\n",
       "      <td>female</td>\n",
       "      <td>C</td>\n",
       "    </tr>\n",
       "    <tr>\n",
       "      <th>2</th>\n",
       "      <td>female</td>\n",
       "      <td>S</td>\n",
       "    </tr>\n",
       "    <tr>\n",
       "      <th>3</th>\n",
       "      <td>female</td>\n",
       "      <td>S</td>\n",
       "    </tr>\n",
       "    <tr>\n",
       "      <th>4</th>\n",
       "      <td>male</td>\n",
       "      <td>S</td>\n",
       "    </tr>\n",
       "    <tr>\n",
       "      <th>...</th>\n",
       "      <td>...</td>\n",
       "      <td>...</td>\n",
       "    </tr>\n",
       "    <tr>\n",
       "      <th>886</th>\n",
       "      <td>male</td>\n",
       "      <td>S</td>\n",
       "    </tr>\n",
       "    <tr>\n",
       "      <th>887</th>\n",
       "      <td>female</td>\n",
       "      <td>S</td>\n",
       "    </tr>\n",
       "    <tr>\n",
       "      <th>888</th>\n",
       "      <td>female</td>\n",
       "      <td>S</td>\n",
       "    </tr>\n",
       "    <tr>\n",
       "      <th>889</th>\n",
       "      <td>male</td>\n",
       "      <td>C</td>\n",
       "    </tr>\n",
       "    <tr>\n",
       "      <th>890</th>\n",
       "      <td>male</td>\n",
       "      <td>Q</td>\n",
       "    </tr>\n",
       "  </tbody>\n",
       "</table>\n",
       "<p>891 rows × 2 columns</p>\n",
       "</div>"
      ],
      "text/plain": [
       "          0  1\n",
       "0      male  S\n",
       "1    female  C\n",
       "2    female  S\n",
       "3    female  S\n",
       "4      male  S\n",
       "..      ... ..\n",
       "886    male  S\n",
       "887  female  S\n",
       "888  female  S\n",
       "889    male  C\n",
       "890    male  Q\n",
       "\n",
       "[891 rows x 2 columns]"
      ]
     },
     "execution_count": 77,
     "metadata": {},
     "output_type": "execute_result"
    }
   ],
   "source": [
    "#依然可以还原\n",
    "pd.DataFrame(enc.inverse_transform(result))"
   ]
  },
  {
   "cell_type": "code",
   "execution_count": 78,
   "metadata": {},
   "outputs": [
    {
     "data": {
      "text/plain": [
       "array(['x0_female', 'x0_male', 'x1_C', 'x1_Q', 'x1_S'], dtype=object)"
      ]
     },
     "execution_count": 78,
     "metadata": {},
     "output_type": "execute_result"
    }
   ],
   "source": [
    "enc.get_feature_names()#x后面的数字相同代表同一类，方便观察不同列的0,1代表那个类别"
   ]
  },
  {
   "cell_type": "code",
   "execution_count": 80,
   "metadata": {},
   "outputs": [
    {
     "data": {
      "text/html": [
       "<div>\n",
       "<style scoped>\n",
       "    .dataframe tbody tr th:only-of-type {\n",
       "        vertical-align: middle;\n",
       "    }\n",
       "\n",
       "    .dataframe tbody tr th {\n",
       "        vertical-align: top;\n",
       "    }\n",
       "\n",
       "    .dataframe thead th {\n",
       "        text-align: right;\n",
       "    }\n",
       "</style>\n",
       "<table border=\"1\" class=\"dataframe\">\n",
       "  <thead>\n",
       "    <tr style=\"text-align: right;\">\n",
       "      <th></th>\n",
       "      <th>Age</th>\n",
       "      <th>Sex</th>\n",
       "      <th>Embarked</th>\n",
       "      <th>Survived</th>\n",
       "      <th>0</th>\n",
       "      <th>1</th>\n",
       "      <th>2</th>\n",
       "      <th>3</th>\n",
       "      <th>4</th>\n",
       "    </tr>\n",
       "  </thead>\n",
       "  <tbody>\n",
       "    <tr>\n",
       "      <th>0</th>\n",
       "      <td>22.0</td>\n",
       "      <td>male</td>\n",
       "      <td>S</td>\n",
       "      <td>0</td>\n",
       "      <td>0.0</td>\n",
       "      <td>1.0</td>\n",
       "      <td>0.0</td>\n",
       "      <td>0.0</td>\n",
       "      <td>1.0</td>\n",
       "    </tr>\n",
       "    <tr>\n",
       "      <th>1</th>\n",
       "      <td>38.0</td>\n",
       "      <td>female</td>\n",
       "      <td>C</td>\n",
       "      <td>2</td>\n",
       "      <td>1.0</td>\n",
       "      <td>0.0</td>\n",
       "      <td>1.0</td>\n",
       "      <td>0.0</td>\n",
       "      <td>0.0</td>\n",
       "    </tr>\n",
       "    <tr>\n",
       "      <th>2</th>\n",
       "      <td>26.0</td>\n",
       "      <td>female</td>\n",
       "      <td>S</td>\n",
       "      <td>2</td>\n",
       "      <td>1.0</td>\n",
       "      <td>0.0</td>\n",
       "      <td>0.0</td>\n",
       "      <td>0.0</td>\n",
       "      <td>1.0</td>\n",
       "    </tr>\n",
       "    <tr>\n",
       "      <th>3</th>\n",
       "      <td>35.0</td>\n",
       "      <td>female</td>\n",
       "      <td>S</td>\n",
       "      <td>2</td>\n",
       "      <td>1.0</td>\n",
       "      <td>0.0</td>\n",
       "      <td>0.0</td>\n",
       "      <td>0.0</td>\n",
       "      <td>1.0</td>\n",
       "    </tr>\n",
       "    <tr>\n",
       "      <th>4</th>\n",
       "      <td>35.0</td>\n",
       "      <td>male</td>\n",
       "      <td>S</td>\n",
       "      <td>0</td>\n",
       "      <td>0.0</td>\n",
       "      <td>1.0</td>\n",
       "      <td>0.0</td>\n",
       "      <td>0.0</td>\n",
       "      <td>1.0</td>\n",
       "    </tr>\n",
       "  </tbody>\n",
       "</table>\n",
       "</div>"
      ],
      "text/plain": [
       "    Age     Sex Embarked  Survived    0    1    2    3    4\n",
       "0  22.0    male        S         0  0.0  1.0  0.0  0.0  1.0\n",
       "1  38.0  female        C         2  1.0  0.0  1.0  0.0  0.0\n",
       "2  26.0  female        S         2  1.0  0.0  0.0  0.0  1.0\n",
       "3  35.0  female        S         2  1.0  0.0  0.0  0.0  1.0\n",
       "4  35.0    male        S         0  0.0  1.0  0.0  0.0  1.0"
      ]
     },
     "execution_count": 80,
     "metadata": {},
     "output_type": "execute_result"
    }
   ],
   "source": [
    "#axis=1，表示跨行进行合并，也就是将量表左右相连，如果是axis=0，就是将量表上下相连\n",
    "newdata=pd.concat([data,pd.DataFrame(result)],axis=1)\n",
    "newdata.head()"
   ]
  },
  {
   "cell_type": "code",
   "execution_count": 81,
   "metadata": {},
   "outputs": [
    {
     "data": {
      "text/html": [
       "<div>\n",
       "<style scoped>\n",
       "    .dataframe tbody tr th:only-of-type {\n",
       "        vertical-align: middle;\n",
       "    }\n",
       "\n",
       "    .dataframe tbody tr th {\n",
       "        vertical-align: top;\n",
       "    }\n",
       "\n",
       "    .dataframe thead th {\n",
       "        text-align: right;\n",
       "    }\n",
       "</style>\n",
       "<table border=\"1\" class=\"dataframe\">\n",
       "  <thead>\n",
       "    <tr style=\"text-align: right;\">\n",
       "      <th></th>\n",
       "      <th>Age</th>\n",
       "      <th>Survived</th>\n",
       "      <th>Female</th>\n",
       "      <th>Male</th>\n",
       "      <th>Embarked_c</th>\n",
       "      <th>Embarked_q</th>\n",
       "      <th>Embarked_s</th>\n",
       "    </tr>\n",
       "  </thead>\n",
       "  <tbody>\n",
       "    <tr>\n",
       "      <th>0</th>\n",
       "      <td>22.0</td>\n",
       "      <td>0</td>\n",
       "      <td>0.0</td>\n",
       "      <td>1.0</td>\n",
       "      <td>0.0</td>\n",
       "      <td>0.0</td>\n",
       "      <td>1.0</td>\n",
       "    </tr>\n",
       "    <tr>\n",
       "      <th>1</th>\n",
       "      <td>38.0</td>\n",
       "      <td>2</td>\n",
       "      <td>1.0</td>\n",
       "      <td>0.0</td>\n",
       "      <td>1.0</td>\n",
       "      <td>0.0</td>\n",
       "      <td>0.0</td>\n",
       "    </tr>\n",
       "    <tr>\n",
       "      <th>2</th>\n",
       "      <td>26.0</td>\n",
       "      <td>2</td>\n",
       "      <td>1.0</td>\n",
       "      <td>0.0</td>\n",
       "      <td>0.0</td>\n",
       "      <td>0.0</td>\n",
       "      <td>1.0</td>\n",
       "    </tr>\n",
       "    <tr>\n",
       "      <th>3</th>\n",
       "      <td>35.0</td>\n",
       "      <td>2</td>\n",
       "      <td>1.0</td>\n",
       "      <td>0.0</td>\n",
       "      <td>0.0</td>\n",
       "      <td>0.0</td>\n",
       "      <td>1.0</td>\n",
       "    </tr>\n",
       "    <tr>\n",
       "      <th>4</th>\n",
       "      <td>35.0</td>\n",
       "      <td>0</td>\n",
       "      <td>0.0</td>\n",
       "      <td>1.0</td>\n",
       "      <td>0.0</td>\n",
       "      <td>0.0</td>\n",
       "      <td>1.0</td>\n",
       "    </tr>\n",
       "  </tbody>\n",
       "</table>\n",
       "</div>"
      ],
      "text/plain": [
       "    Age  Survived  Female  Male  Embarked_c  Embarked_q  Embarked_s\n",
       "0  22.0         0     0.0   1.0         0.0         0.0         1.0\n",
       "1  38.0         2     1.0   0.0         1.0         0.0         0.0\n",
       "2  26.0         2     1.0   0.0         0.0         0.0         1.0\n",
       "3  35.0         2     1.0   0.0         0.0         0.0         1.0\n",
       "4  35.0         0     0.0   1.0         0.0         0.0         1.0"
      ]
     },
     "execution_count": 81,
     "metadata": {},
     "output_type": "execute_result"
    }
   ],
   "source": [
    "newdata.drop([\"Sex\",\"Embarked\"],axis=1,inplace=True)\n",
    "newdata.columns=[\"Age\",\"Survived\",\"Female\",\"Male\",\"Embarked_c\",\"Embarked_q\",\"Embarked_s\"]\n",
    "newdata.head()"
   ]
  },
  {
   "cell_type": "code",
   "execution_count": null,
   "metadata": {},
   "outputs": [],
   "source": [
    "#处理连续型特征：二值化与分段"
   ]
  },
  {
   "cell_type": "code",
   "execution_count": 82,
   "metadata": {},
   "outputs": [],
   "source": [
    "#二值化：\n",
    "#例：将Age按某一年龄划分0,1\n",
    "data_2=data.copy()"
   ]
  },
  {
   "cell_type": "code",
   "execution_count": 83,
   "metadata": {},
   "outputs": [],
   "source": [
    "from sklearn.preprocessing import Binarizer"
   ]
  },
  {
   "cell_type": "code",
   "execution_count": 84,
   "metadata": {},
   "outputs": [],
   "source": [
    "X=data_2.iloc[:,0].values.reshape(-1,1)#Binarizer类为特征专用，所以不能使用一维数组"
   ]
  },
  {
   "cell_type": "code",
   "execution_count": 88,
   "metadata": {},
   "outputs": [],
   "source": [
    "transformer=Binarizer(threshold=30).fit_transform(X)#30以上的划为1，以下的划为0\n",
    "#transformer\n",
    "data_2.iloc[:,0]=transformer"
   ]
  },
  {
   "cell_type": "code",
   "execution_count": 91,
   "metadata": {},
   "outputs": [],
   "source": [
    "#分段：\n",
    "from sklearn.preprocessing import KBinsDiscretizer\n",
    "X=data.iloc[:,0].values.reshape(-1,1)"
   ]
  },
  {
   "cell_type": "code",
   "execution_count": 92,
   "metadata": {},
   "outputs": [
    {
     "data": {
      "text/plain": [
       "array([[0.],\n",
       "       [1.],\n",
       "       [0.],\n",
       "       [1.],\n",
       "       [1.],\n",
       "       [1.],\n",
       "       [2.],\n",
       "       [0.],\n",
       "       [1.],\n",
       "       [0.],\n",
       "       [0.],\n",
       "       [2.],\n",
       "       [0.],\n",
       "       [1.],\n",
       "       [0.],\n",
       "       [2.],\n",
       "       [0.],\n",
       "       [1.],\n",
       "       [1.],\n",
       "       [1.],\n",
       "       [1.],\n",
       "       [1.],\n",
       "       [0.],\n",
       "       [1.],\n",
       "       [0.],\n",
       "       [1.],\n",
       "       [1.],\n",
       "       [0.],\n",
       "       [1.],\n",
       "       [1.],\n",
       "       [1.],\n",
       "       [1.],\n",
       "       [1.],\n",
       "       [2.],\n",
       "       [1.],\n",
       "       [1.],\n",
       "       [1.],\n",
       "       [0.],\n",
       "       [0.],\n",
       "       [0.],\n",
       "       [1.],\n",
       "       [1.],\n",
       "       [1.],\n",
       "       [0.],\n",
       "       [0.],\n",
       "       [1.],\n",
       "       [1.],\n",
       "       [1.],\n",
       "       [1.],\n",
       "       [0.],\n",
       "       [0.],\n",
       "       [0.],\n",
       "       [1.],\n",
       "       [1.],\n",
       "       [2.],\n",
       "       [1.],\n",
       "       [0.],\n",
       "       [1.],\n",
       "       [0.],\n",
       "       [0.],\n",
       "       [0.],\n",
       "       [1.],\n",
       "       [1.],\n",
       "       [0.],\n",
       "       [1.],\n",
       "       [1.],\n",
       "       [1.],\n",
       "       [0.],\n",
       "       [0.],\n",
       "       [0.],\n",
       "       [1.],\n",
       "       [0.],\n",
       "       [0.],\n",
       "       [0.],\n",
       "       [1.],\n",
       "       [0.],\n",
       "       [1.],\n",
       "       [1.],\n",
       "       [0.],\n",
       "       [1.],\n",
       "       [0.],\n",
       "       [1.],\n",
       "       [1.],\n",
       "       [1.],\n",
       "       [0.],\n",
       "       [1.],\n",
       "       [0.],\n",
       "       [1.],\n",
       "       [0.],\n",
       "       [0.],\n",
       "       [1.],\n",
       "       [0.],\n",
       "       [1.],\n",
       "       [0.],\n",
       "       [2.],\n",
       "       [1.],\n",
       "       [2.],\n",
       "       [0.],\n",
       "       [1.],\n",
       "       [1.],\n",
       "       [1.],\n",
       "       [1.],\n",
       "       [0.],\n",
       "       [1.],\n",
       "       [1.],\n",
       "       [1.],\n",
       "       [0.],\n",
       "       [1.],\n",
       "       [1.],\n",
       "       [1.],\n",
       "       [1.],\n",
       "       [0.],\n",
       "       [0.],\n",
       "       [0.],\n",
       "       [0.],\n",
       "       [0.],\n",
       "       [2.],\n",
       "       [1.],\n",
       "       [0.],\n",
       "       [0.],\n",
       "       [0.],\n",
       "       [1.],\n",
       "       [1.],\n",
       "       [1.],\n",
       "       [2.],\n",
       "       [0.],\n",
       "       [1.],\n",
       "       [0.],\n",
       "       [1.],\n",
       "       [1.],\n",
       "       [1.],\n",
       "       [0.],\n",
       "       [1.],\n",
       "       [1.],\n",
       "       [0.],\n",
       "       [0.],\n",
       "       [0.],\n",
       "       [1.],\n",
       "       [0.],\n",
       "       [0.],\n",
       "       [1.],\n",
       "       [0.],\n",
       "       [0.],\n",
       "       [0.],\n",
       "       [0.],\n",
       "       [0.],\n",
       "       [1.],\n",
       "       [0.],\n",
       "       [1.],\n",
       "       [1.],\n",
       "       [1.],\n",
       "       [0.],\n",
       "       [2.],\n",
       "       [1.],\n",
       "       [1.],\n",
       "       [1.],\n",
       "       [0.],\n",
       "       [1.],\n",
       "       [1.],\n",
       "       [1.],\n",
       "       [1.],\n",
       "       [1.],\n",
       "       [0.],\n",
       "       [0.],\n",
       "       [0.],\n",
       "       [0.],\n",
       "       [1.],\n",
       "       [1.],\n",
       "       [1.],\n",
       "       [1.],\n",
       "       [2.],\n",
       "       [0.],\n",
       "       [0.],\n",
       "       [0.],\n",
       "       [2.],\n",
       "       [0.],\n",
       "       [1.],\n",
       "       [1.],\n",
       "       [1.],\n",
       "       [1.],\n",
       "       [1.],\n",
       "       [1.],\n",
       "       [0.],\n",
       "       [0.],\n",
       "       [0.],\n",
       "       [1.],\n",
       "       [1.],\n",
       "       [1.],\n",
       "       [1.],\n",
       "       [1.],\n",
       "       [1.],\n",
       "       [0.],\n",
       "       [0.],\n",
       "       [0.],\n",
       "       [1.],\n",
       "       [2.],\n",
       "       [1.],\n",
       "       [1.],\n",
       "       [1.],\n",
       "       [0.],\n",
       "       [1.],\n",
       "       [1.],\n",
       "       [1.],\n",
       "       [1.],\n",
       "       [0.],\n",
       "       [0.],\n",
       "       [1.],\n",
       "       [0.],\n",
       "       [0.],\n",
       "       [1.],\n",
       "       [0.],\n",
       "       [1.],\n",
       "       [0.],\n",
       "       [1.],\n",
       "       [1.],\n",
       "       [1.],\n",
       "       [1.],\n",
       "       [1.],\n",
       "       [1.],\n",
       "       [1.],\n",
       "       [0.],\n",
       "       [1.],\n",
       "       [1.],\n",
       "       [1.],\n",
       "       [1.],\n",
       "       [0.],\n",
       "       [0.],\n",
       "       [0.],\n",
       "       [0.],\n",
       "       [1.],\n",
       "       [1.],\n",
       "       [1.],\n",
       "       [2.],\n",
       "       [0.],\n",
       "       [0.],\n",
       "       [1.],\n",
       "       [1.],\n",
       "       [0.],\n",
       "       [0.],\n",
       "       [1.],\n",
       "       [1.],\n",
       "       [1.],\n",
       "       [1.],\n",
       "       [0.],\n",
       "       [1.],\n",
       "       [1.],\n",
       "       [0.],\n",
       "       [0.],\n",
       "       [1.],\n",
       "       [2.],\n",
       "       [1.],\n",
       "       [1.],\n",
       "       [2.],\n",
       "       [1.],\n",
       "       [1.],\n",
       "       [1.],\n",
       "       [1.],\n",
       "       [1.],\n",
       "       [1.],\n",
       "       [1.],\n",
       "       [1.],\n",
       "       [0.],\n",
       "       [1.],\n",
       "       [1.],\n",
       "       [1.],\n",
       "       [1.],\n",
       "       [0.],\n",
       "       [0.],\n",
       "       [2.],\n",
       "       [1.],\n",
       "       [1.],\n",
       "       [0.],\n",
       "       [1.],\n",
       "       [1.],\n",
       "       [1.],\n",
       "       [2.],\n",
       "       [1.],\n",
       "       [1.],\n",
       "       [0.],\n",
       "       [1.],\n",
       "       [2.],\n",
       "       [1.],\n",
       "       [0.],\n",
       "       [0.],\n",
       "       [1.],\n",
       "       [1.],\n",
       "       [1.],\n",
       "       [0.],\n",
       "       [1.],\n",
       "       [0.],\n",
       "       [0.],\n",
       "       [0.],\n",
       "       [1.],\n",
       "       [0.],\n",
       "       [0.],\n",
       "       [1.],\n",
       "       [0.],\n",
       "       [0.],\n",
       "       [1.],\n",
       "       [1.],\n",
       "       [1.],\n",
       "       [1.],\n",
       "       [0.],\n",
       "       [1.],\n",
       "       [1.],\n",
       "       [0.],\n",
       "       [1.],\n",
       "       [0.],\n",
       "       [1.],\n",
       "       [1.],\n",
       "       [0.],\n",
       "       [0.],\n",
       "       [0.],\n",
       "       [1.],\n",
       "       [1.],\n",
       "       [0.],\n",
       "       [0.],\n",
       "       [2.],\n",
       "       [1.],\n",
       "       [1.],\n",
       "       [0.],\n",
       "       [1.],\n",
       "       [1.],\n",
       "       [0.],\n",
       "       [1.],\n",
       "       [1.],\n",
       "       [2.],\n",
       "       [1.],\n",
       "       [1.],\n",
       "       [0.],\n",
       "       [1.],\n",
       "       [1.],\n",
       "       [1.],\n",
       "       [0.],\n",
       "       [1.],\n",
       "       [1.],\n",
       "       [1.],\n",
       "       [1.],\n",
       "       [1.],\n",
       "       [1.],\n",
       "       [0.],\n",
       "       [0.],\n",
       "       [1.],\n",
       "       [0.],\n",
       "       [1.],\n",
       "       [0.],\n",
       "       [1.],\n",
       "       [1.],\n",
       "       [0.],\n",
       "       [1.],\n",
       "       [0.],\n",
       "       [1.],\n",
       "       [0.],\n",
       "       [0.],\n",
       "       [1.],\n",
       "       [1.],\n",
       "       [0.],\n",
       "       [1.],\n",
       "       [1.],\n",
       "       [1.],\n",
       "       [1.],\n",
       "       [1.],\n",
       "       [1.],\n",
       "       [1.],\n",
       "       [1.],\n",
       "       [1.],\n",
       "       [2.],\n",
       "       [1.],\n",
       "       [1.],\n",
       "       [0.],\n",
       "       [0.],\n",
       "       [0.],\n",
       "       [0.],\n",
       "       [0.],\n",
       "       [0.],\n",
       "       [1.],\n",
       "       [0.],\n",
       "       [1.],\n",
       "       [0.],\n",
       "       [0.],\n",
       "       [1.],\n",
       "       [0.],\n",
       "       [1.],\n",
       "       [1.],\n",
       "       [1.],\n",
       "       [0.],\n",
       "       [0.],\n",
       "       [1.],\n",
       "       [1.],\n",
       "       [0.],\n",
       "       [1.],\n",
       "       [0.],\n",
       "       [1.],\n",
       "       [0.],\n",
       "       [0.],\n",
       "       [0.],\n",
       "       [1.],\n",
       "       [1.],\n",
       "       [0.],\n",
       "       [1.],\n",
       "       [1.],\n",
       "       [0.],\n",
       "       [0.],\n",
       "       [1.],\n",
       "       [0.],\n",
       "       [1.],\n",
       "       [1.],\n",
       "       [0.],\n",
       "       [0.],\n",
       "       [1.],\n",
       "       [1.],\n",
       "       [1.],\n",
       "       [1.],\n",
       "       [1.],\n",
       "       [1.],\n",
       "       [1.],\n",
       "       [1.],\n",
       "       [0.],\n",
       "       [1.],\n",
       "       [0.],\n",
       "       [1.],\n",
       "       [0.],\n",
       "       [1.],\n",
       "       [1.],\n",
       "       [0.],\n",
       "       [1.],\n",
       "       [1.],\n",
       "       [0.],\n",
       "       [1.],\n",
       "       [1.],\n",
       "       [1.],\n",
       "       [1.],\n",
       "       [1.],\n",
       "       [0.],\n",
       "       [1.],\n",
       "       [0.],\n",
       "       [0.],\n",
       "       [0.],\n",
       "       [2.],\n",
       "       [1.],\n",
       "       [1.],\n",
       "       [0.],\n",
       "       [0.],\n",
       "       [1.],\n",
       "       [1.],\n",
       "       [0.],\n",
       "       [0.],\n",
       "       [1.],\n",
       "       [0.],\n",
       "       [1.],\n",
       "       [1.],\n",
       "       [1.],\n",
       "       [1.],\n",
       "       [1.],\n",
       "       [1.],\n",
       "       [1.],\n",
       "       [2.],\n",
       "       [1.],\n",
       "       [1.],\n",
       "       [1.],\n",
       "       [1.],\n",
       "       [1.],\n",
       "       [1.],\n",
       "       [1.],\n",
       "       [1.],\n",
       "       [1.],\n",
       "       [1.],\n",
       "       [2.],\n",
       "       [1.],\n",
       "       [0.],\n",
       "       [1.],\n",
       "       [1.],\n",
       "       [1.],\n",
       "       [0.],\n",
       "       [0.],\n",
       "       [1.],\n",
       "       [1.],\n",
       "       [1.],\n",
       "       [0.],\n",
       "       [0.],\n",
       "       [0.],\n",
       "       [1.],\n",
       "       [1.],\n",
       "       [2.],\n",
       "       [0.],\n",
       "       [1.],\n",
       "       [1.],\n",
       "       [2.],\n",
       "       [1.],\n",
       "       [0.],\n",
       "       [1.],\n",
       "       [0.],\n",
       "       [2.],\n",
       "       [2.],\n",
       "       [0.],\n",
       "       [1.],\n",
       "       [2.],\n",
       "       [1.],\n",
       "       [0.],\n",
       "       [0.],\n",
       "       [0.],\n",
       "       [0.],\n",
       "       [1.],\n",
       "       [1.],\n",
       "       [0.],\n",
       "       [0.],\n",
       "       [1.],\n",
       "       [1.],\n",
       "       [1.],\n",
       "       [0.],\n",
       "       [1.],\n",
       "       [1.],\n",
       "       [1.],\n",
       "       [2.],\n",
       "       [0.],\n",
       "       [1.],\n",
       "       [1.],\n",
       "       [1.],\n",
       "       [1.],\n",
       "       [1.],\n",
       "       [1.],\n",
       "       [0.],\n",
       "       [1.],\n",
       "       [1.],\n",
       "       [1.],\n",
       "       [1.],\n",
       "       [1.],\n",
       "       [1.],\n",
       "       [1.],\n",
       "       [0.],\n",
       "       [0.],\n",
       "       [1.],\n",
       "       [0.],\n",
       "       [1.],\n",
       "       [1.],\n",
       "       [0.],\n",
       "       [1.],\n",
       "       [1.],\n",
       "       [1.],\n",
       "       [0.],\n",
       "       [1.],\n",
       "       [0.],\n",
       "       [0.],\n",
       "       [1.],\n",
       "       [1.],\n",
       "       [2.],\n",
       "       [0.],\n",
       "       [1.],\n",
       "       [1.],\n",
       "       [0.],\n",
       "       [0.],\n",
       "       [1.],\n",
       "       [1.],\n",
       "       [0.],\n",
       "       [0.],\n",
       "       [2.],\n",
       "       [1.],\n",
       "       [1.],\n",
       "       [1.],\n",
       "       [1.],\n",
       "       [1.],\n",
       "       [1.],\n",
       "       [1.],\n",
       "       [1.],\n",
       "       [1.],\n",
       "       [0.],\n",
       "       [0.],\n",
       "       [1.],\n",
       "       [1.],\n",
       "       [1.],\n",
       "       [2.],\n",
       "       [1.],\n",
       "       [1.],\n",
       "       [1.],\n",
       "       [0.],\n",
       "       [0.],\n",
       "       [1.],\n",
       "       [1.],\n",
       "       [1.],\n",
       "       [1.],\n",
       "       [0.],\n",
       "       [1.],\n",
       "       [2.],\n",
       "       [1.],\n",
       "       [1.],\n",
       "       [0.],\n",
       "       [1.],\n",
       "       [2.],\n",
       "       [0.],\n",
       "       [1.],\n",
       "       [1.],\n",
       "       [1.],\n",
       "       [1.],\n",
       "       [1.],\n",
       "       [1.],\n",
       "       [1.],\n",
       "       [1.],\n",
       "       [1.],\n",
       "       [1.],\n",
       "       [1.],\n",
       "       [0.],\n",
       "       [1.],\n",
       "       [1.],\n",
       "       [1.],\n",
       "       [1.],\n",
       "       [1.],\n",
       "       [1.],\n",
       "       [1.],\n",
       "       [0.],\n",
       "       [1.],\n",
       "       [1.],\n",
       "       [1.],\n",
       "       [1.],\n",
       "       [1.],\n",
       "       [1.],\n",
       "       [0.],\n",
       "       [1.],\n",
       "       [0.],\n",
       "       [0.],\n",
       "       [0.],\n",
       "       [1.],\n",
       "       [1.],\n",
       "       [0.],\n",
       "       [0.],\n",
       "       [0.],\n",
       "       [2.],\n",
       "       [2.],\n",
       "       [0.],\n",
       "       [0.],\n",
       "       [1.],\n",
       "       [2.],\n",
       "       [1.],\n",
       "       [1.],\n",
       "       [1.],\n",
       "       [0.],\n",
       "       [1.],\n",
       "       [1.],\n",
       "       [1.],\n",
       "       [1.],\n",
       "       [1.],\n",
       "       [0.],\n",
       "       [0.],\n",
       "       [0.],\n",
       "       [1.],\n",
       "       [0.],\n",
       "       [1.],\n",
       "       [0.],\n",
       "       [2.],\n",
       "       [1.],\n",
       "       [0.],\n",
       "       [1.],\n",
       "       [0.],\n",
       "       [0.],\n",
       "       [1.],\n",
       "       [0.],\n",
       "       [0.],\n",
       "       [1.],\n",
       "       [1.],\n",
       "       [0.],\n",
       "       [2.],\n",
       "       [1.],\n",
       "       [1.],\n",
       "       [1.],\n",
       "       [1.],\n",
       "       [0.],\n",
       "       [1.],\n",
       "       [0.],\n",
       "       [1.],\n",
       "       [1.],\n",
       "       [1.],\n",
       "       [1.],\n",
       "       [1.],\n",
       "       [2.],\n",
       "       [1.],\n",
       "       [1.],\n",
       "       [0.],\n",
       "       [0.],\n",
       "       [0.],\n",
       "       [1.],\n",
       "       [1.],\n",
       "       [1.],\n",
       "       [1.],\n",
       "       [0.],\n",
       "       [0.],\n",
       "       [2.],\n",
       "       [0.],\n",
       "       [0.],\n",
       "       [0.],\n",
       "       [0.],\n",
       "       [0.],\n",
       "       [1.],\n",
       "       [0.],\n",
       "       [1.],\n",
       "       [0.],\n",
       "       [2.],\n",
       "       [1.],\n",
       "       [1.],\n",
       "       [1.],\n",
       "       [1.],\n",
       "       [1.],\n",
       "       [0.],\n",
       "       [1.],\n",
       "       [0.],\n",
       "       [0.],\n",
       "       [0.],\n",
       "       [1.],\n",
       "       [1.],\n",
       "       [1.],\n",
       "       [0.],\n",
       "       [1.],\n",
       "       [0.],\n",
       "       [1.],\n",
       "       [1.],\n",
       "       [1.],\n",
       "       [1.],\n",
       "       [0.],\n",
       "       [1.],\n",
       "       [1.],\n",
       "       [1.],\n",
       "       [1.],\n",
       "       [0.],\n",
       "       [0.],\n",
       "       [1.],\n",
       "       [1.],\n",
       "       [1.],\n",
       "       [0.],\n",
       "       [1.],\n",
       "       [1.],\n",
       "       [0.],\n",
       "       [0.],\n",
       "       [1.],\n",
       "       [0.],\n",
       "       [1.],\n",
       "       [0.],\n",
       "       [0.],\n",
       "       [1.],\n",
       "       [1.],\n",
       "       [1.],\n",
       "       [1.],\n",
       "       [1.],\n",
       "       [1.],\n",
       "       [1.],\n",
       "       [0.],\n",
       "       [0.],\n",
       "       [1.],\n",
       "       [2.],\n",
       "       [0.],\n",
       "       [1.],\n",
       "       [0.],\n",
       "       [1.],\n",
       "       [0.],\n",
       "       [0.],\n",
       "       [1.],\n",
       "       [0.],\n",
       "       [1.],\n",
       "       [0.],\n",
       "       [1.],\n",
       "       [0.],\n",
       "       [1.],\n",
       "       [1.],\n",
       "       [1.],\n",
       "       [1.],\n",
       "       [0.],\n",
       "       [1.],\n",
       "       [0.],\n",
       "       [1.],\n",
       "       [1.],\n",
       "       [1.],\n",
       "       [1.],\n",
       "       [1.],\n",
       "       [0.],\n",
       "       [1.],\n",
       "       [2.],\n",
       "       [1.],\n",
       "       [2.],\n",
       "       [0.],\n",
       "       [1.],\n",
       "       [0.],\n",
       "       [1.],\n",
       "       [1.],\n",
       "       [0.],\n",
       "       [0.],\n",
       "       [1.],\n",
       "       [1.],\n",
       "       [0.],\n",
       "       [0.],\n",
       "       [0.],\n",
       "       [0.],\n",
       "       [0.],\n",
       "       [1.],\n",
       "       [1.],\n",
       "       [0.],\n",
       "       [1.],\n",
       "       [1.],\n",
       "       [0.],\n",
       "       [1.],\n",
       "       [1.],\n",
       "       [1.],\n",
       "       [1.],\n",
       "       [1.],\n",
       "       [1.],\n",
       "       [1.],\n",
       "       [0.],\n",
       "       [0.],\n",
       "       [1.],\n",
       "       [1.],\n",
       "       [1.],\n",
       "       [0.],\n",
       "       [1.],\n",
       "       [1.],\n",
       "       [0.],\n",
       "       [1.],\n",
       "       [1.],\n",
       "       [0.],\n",
       "       [1.],\n",
       "       [1.],\n",
       "       [0.],\n",
       "       [1.],\n",
       "       [1.],\n",
       "       [0.],\n",
       "       [1.],\n",
       "       [1.],\n",
       "       [1.],\n",
       "       [1.],\n",
       "       [0.],\n",
       "       [1.],\n",
       "       [1.],\n",
       "       [0.],\n",
       "       [1.],\n",
       "       [2.],\n",
       "       [0.],\n",
       "       [0.],\n",
       "       [1.],\n",
       "       [0.],\n",
       "       [0.],\n",
       "       [1.],\n",
       "       [0.],\n",
       "       [1.],\n",
       "       [1.],\n",
       "       [1.],\n",
       "       [0.],\n",
       "       [0.],\n",
       "       [1.],\n",
       "       [1.],\n",
       "       [0.],\n",
       "       [1.],\n",
       "       [1.],\n",
       "       [1.],\n",
       "       [1.],\n",
       "       [1.],\n",
       "       [0.],\n",
       "       [2.],\n",
       "       [0.],\n",
       "       [0.],\n",
       "       [1.],\n",
       "       [0.],\n",
       "       [1.],\n",
       "       [1.],\n",
       "       [0.],\n",
       "       [1.],\n",
       "       [1.],\n",
       "       [0.],\n",
       "       [1.],\n",
       "       [1.],\n",
       "       [0.],\n",
       "       [1.],\n",
       "       [1.],\n",
       "       [1.],\n",
       "       [1.],\n",
       "       [0.],\n",
       "       [0.],\n",
       "       [1.],\n",
       "       [1.],\n",
       "       [1.],\n",
       "       [1.],\n",
       "       [0.],\n",
       "       [0.],\n",
       "       [0.],\n",
       "       [1.],\n",
       "       [2.],\n",
       "       [0.],\n",
       "       [1.],\n",
       "       [0.],\n",
       "       [1.],\n",
       "       [0.],\n",
       "       [1.],\n",
       "       [1.],\n",
       "       [0.],\n",
       "       [1.],\n",
       "       [0.],\n",
       "       [1.]])"
      ]
     },
     "execution_count": 92,
     "metadata": {},
     "output_type": "execute_result"
    }
   ],
   "source": [
    "est=KBinsDiscretizer(n_bins=3,encode='ordinal',strategy='uniform')\n",
    "est.fit_transform(X)"
   ]
  },
  {
   "cell_type": "code",
   "execution_count": 93,
   "metadata": {},
   "outputs": [
    {
     "data": {
      "text/plain": [
       "{0.0, 1.0, 2.0}"
      ]
     },
     "execution_count": 93,
     "metadata": {},
     "output_type": "execute_result"
    }
   ],
   "source": [
    "#查看转换后分的箱：变成了一列中的三箱\n",
    "set(est.fit_transform(X).ravel())#查看刚刚得到的结果是不是只有012三箱"
   ]
  },
  {
   "cell_type": "code",
   "execution_count": 94,
   "metadata": {},
   "outputs": [
    {
     "data": {
      "text/plain": [
       "array([[1., 0., 0.],\n",
       "       [0., 1., 0.],\n",
       "       [1., 0., 0.],\n",
       "       ...,\n",
       "       [0., 1., 0.],\n",
       "       [1., 0., 0.],\n",
       "       [0., 1., 0.]])"
      ]
     },
     "execution_count": 94,
     "metadata": {},
     "output_type": "execute_result"
    }
   ],
   "source": [
    "est=KBinsDiscretizer(n_bins=3,encode='onehot',strategy='uniform')\n",
    "#查看转换后的分箱：变成了哑变量\n",
    "est.fit_transform(X).toarray()"
   ]
  },
  {
   "cell_type": "code",
   "execution_count": 95,
   "metadata": {},
   "outputs": [],
   "source": [
    "#特征选择feature_selection"
   ]
  },
  {
   "cell_type": "code",
   "execution_count": 96,
   "metadata": {},
   "outputs": [],
   "source": [
    "#导入数据，使用digit recognizor数据\n",
    "import pandas as pd\n",
    "data=pd.read_csv(r\"C:\\Users\\hp\\Desktop\\python\\机器学习菜菜\\sklearnjqxx_jb51\\【机器学习】菜菜的sklearn课堂(1-12全课)\\03数据预处理和特征工程\\digit recognizor.csv\")"
   ]
  },
  {
   "cell_type": "code",
   "execution_count": 99,
   "metadata": {},
   "outputs": [],
   "source": [
    "X=data.iloc[:,1:]#取出从索引为1的列一直到最后\n",
    "y=data.iloc[:,0]#取出数据中的第0列"
   ]
  },
  {
   "cell_type": "code",
   "execution_count": 100,
   "metadata": {
    "scrolled": true
   },
   "outputs": [
    {
     "data": {
      "text/plain": [
       "(42000, 784)"
      ]
     },
     "execution_count": 100,
     "metadata": {},
     "output_type": "execute_result"
    }
   ],
   "source": [
    "X.shape"
   ]
  },
  {
   "cell_type": "code",
   "execution_count": 101,
   "metadata": {},
   "outputs": [
    {
     "data": {
      "text/plain": [
       "(42000, 708)"
      ]
     },
     "execution_count": 101,
     "metadata": {},
     "output_type": "execute_result"
    }
   ],
   "source": [
    "#方差过滤\n",
    "from sklearn.feature_selection import VarianceThreshold\n",
    "selector=VarianceThreshold()#实例化，不填参数默认方差为0\n",
    "X_var0=selector.fit_transform(X)#获取删除不合格特征之后的新特征矩阵,表示删除方差为0的特征\n",
    "#也可以直接写成x=VairanceThreshold().fit_transform(X)\n",
    "X_var0.shape"
   ]
  },
  {
   "cell_type": "code",
   "execution_count": 110,
   "metadata": {},
   "outputs": [
    {
     "data": {
      "text/plain": [
       "array([0.00000000e+00, 0.00000000e+00, 0.00000000e+00, 0.00000000e+00,\n",
       "       0.00000000e+00, 0.00000000e+00, 0.00000000e+00, 0.00000000e+00,\n",
       "       0.00000000e+00, 0.00000000e+00, 0.00000000e+00, 0.00000000e+00,\n",
       "       3.22760590e-01, 2.64689018e+00, 1.11085714e+00, 1.92857143e-03,\n",
       "       0.00000000e+00, 0.00000000e+00, 0.00000000e+00, 0.00000000e+00,\n",
       "       0.00000000e+00, 0.00000000e+00, 0.00000000e+00, 0.00000000e+00,\n",
       "       0.00000000e+00, 0.00000000e+00, 0.00000000e+00, 0.00000000e+00,\n",
       "       0.00000000e+00, 0.00000000e+00, 0.00000000e+00, 0.00000000e+00,\n",
       "       6.09523810e-03, 5.41186213e-02, 1.28065733e+00, 5.33793150e+00,\n",
       "       9.74592647e+00, 1.06219147e+01, 2.49289953e+01, 3.37671294e+01,\n",
       "       3.59425660e+01, 3.49309575e+01, 3.62943342e+01, 3.27911079e+01,\n",
       "       3.04237672e+01, 2.95547817e+01, 2.00568398e+01, 1.19545659e+01,\n",
       "       8.60419724e+00, 2.55465685e+00, 1.60530842e+00, 9.29377602e-01,\n",
       "       0.00000000e+00, 0.00000000e+00, 0.00000000e+00, 0.00000000e+00,\n",
       "       0.00000000e+00, 0.00000000e+00, 9.75238095e-02, 2.00238095e-02,\n",
       "       8.38442376e-01, 6.23481035e-01, 9.48446647e+00, 2.93530906e+01,\n",
       "       5.67872968e+01, 1.00230634e+02, 1.65873698e+02, 2.52738939e+02,\n",
       "       3.76018084e+02, 5.14426094e+02, 6.50102357e+02, 7.26608631e+02,\n",
       "       7.20549617e+02, 6.49594181e+02, 5.18814455e+02, 3.94092376e+02,\n",
       "       2.35038093e+02, 1.14843923e+02, 5.61521180e+01, 1.70331842e+01,\n",
       "       6.48083740e+00, 1.08821717e+00, 0.00000000e+00, 0.00000000e+00,\n",
       "       0.00000000e+00, 0.00000000e+00, 4.76236337e-01, 2.75489198e-01,\n",
       "       1.29297595e+00, 1.26446724e+01, 4.28153306e+01, 9.43924926e+01,\n",
       "       2.15866693e+02, 4.40079141e+02, 7.26679321e+02, 1.10776068e+03,\n",
       "       1.49073923e+03, 1.93993499e+03, 2.31552090e+03, 2.59022407e+03,\n",
       "       2.49637882e+03, 2.22627799e+03, 1.80800104e+03, 1.31417708e+03,\n",
       "       7.95887557e+02, 4.41320506e+02, 1.99165391e+02, 7.95865424e+01,\n",
       "       3.10264989e+01, 2.26837146e+00, 3.48595238e-01, 0.00000000e+00,\n",
       "       0.00000000e+00, 3.43809524e-02, 1.15447633e-01, 1.25289059e+00,\n",
       "       1.15530325e+01, 6.16749834e+01, 1.71059884e+02, 4.37266473e+02,\n",
       "       9.14503323e+02, 1.61733281e+03, 2.58238559e+03, 3.73319320e+03,\n",
       "       4.97101576e+03, 6.18285701e+03, 7.12176198e+03, 7.61902605e+03,\n",
       "       7.35140128e+03, 6.59732933e+03, 5.42159265e+03, 4.14622275e+03,\n",
       "       2.74210919e+03, 1.60716526e+03, 8.30092375e+02, 3.85524893e+02,\n",
       "       1.44471061e+02, 2.98361218e+01, 5.45472846e+00, 0.00000000e+00,\n",
       "       0.00000000e+00, 0.00000000e+00, 7.16499590e-01, 5.19710545e+00,\n",
       "       6.12264995e+01, 2.53650903e+02, 6.51218510e+02, 1.32512948e+03,\n",
       "       2.39625599e+03, 3.90432573e+03, 5.65248822e+03, 7.50750831e+03,\n",
       "       9.28013155e+03, 1.07098605e+04, 1.15505424e+04, 1.18353399e+04,\n",
       "       1.16728383e+04, 1.10553420e+04, 9.77051209e+03, 8.00603359e+03,\n",
       "       5.90601149e+03, 3.83759619e+03, 2.22900745e+03, 1.15756773e+03,\n",
       "       5.07963705e+02, 1.22007799e+02, 1.78286793e+01, 7.71428571e-03,\n",
       "       0.00000000e+00, 3.80952381e-04, 2.37199928e+00, 3.95713081e+01,\n",
       "       2.07427935e+02, 6.06480056e+02, 1.37944393e+03, 2.64652318e+03,\n",
       "       4.39063213e+03, 6.55335113e+03, 8.64850053e+03, 1.03924767e+04,\n",
       "       1.16602029e+04, 1.23720092e+04, 1.25944602e+04, 1.26223718e+04,\n",
       "       1.26261428e+04, 1.25617677e+04, 1.20570623e+04, 1.07029270e+04,\n",
       "       8.66359114e+03, 6.04366459e+03, 3.77715738e+03, 2.05026195e+03,\n",
       "       9.47173606e+02, 3.04430342e+02, 5.49548377e+01, 3.50648111e+00,\n",
       "       0.00000000e+00, 1.47595606e+00, 1.73365714e+01, 1.03708159e+02,\n",
       "       4.49220215e+02, 1.11598051e+03, 2.31261700e+03, 4.05981199e+03,\n",
       "       6.27112094e+03, 8.61258120e+03, 1.04088978e+04, 1.15863594e+04,\n",
       "       1.20861191e+04, 1.22313676e+04, 1.22256615e+04, 1.21230025e+04,\n",
       "       1.21304108e+04, 1.22345097e+04, 1.22810693e+04, 1.17587829e+04,\n",
       "       1.01382911e+04, 7.63237251e+03, 4.91736987e+03, 2.72324144e+03,\n",
       "       1.22087326e+03, 4.16952121e+02, 7.84619988e+01, 2.69471891e+00,\n",
       "       6.68809524e-02, 1.14742637e+01, 7.06094700e+01, 2.58579123e+02,\n",
       "       7.58812237e+02, 1.66236697e+03, 3.16372296e+03, 5.28061009e+03,\n",
       "       7.80859675e+03, 1.00912727e+04, 1.16171690e+04, 1.22797788e+04,\n",
       "       1.23833077e+04, 1.24581779e+04, 1.23866060e+04, 1.23021558e+04,\n",
       "       1.22796752e+04, 1.23185424e+04, 1.24370140e+04, 1.21441547e+04,\n",
       "       1.08800641e+04, 8.45510124e+03, 5.53590659e+03, 2.92299426e+03,\n",
       "       1.27293575e+03, 4.39632397e+02, 7.77464211e+01, 2.35152706e+00,\n",
       "       1.41387108e+00, 1.83873300e+01, 1.01219976e+02, 3.59094119e+02,\n",
       "       9.16376867e+02, 1.90547923e+03, 3.64144404e+03, 6.06890402e+03,\n",
       "       8.86696591e+03, 1.10299773e+04, 1.21997003e+04, 1.24677668e+04,\n",
       "       1.23878202e+04, 1.20816759e+04, 1.18414911e+04, 1.18243379e+04,\n",
       "       1.19196049e+04, 1.22058487e+04, 1.24040782e+04, 1.21013351e+04,\n",
       "       1.08905421e+04, 8.53288188e+03, 5.50599673e+03, 2.77180472e+03,\n",
       "       1.06085951e+03, 3.12689774e+02, 5.19949129e+01, 5.02228364e+00,\n",
       "       3.12121001e+00, 1.92336286e+01, 1.00196288e+02, 3.33760276e+02,\n",
       "       8.42723536e+02, 1.87713749e+03, 3.80614513e+03, 6.46513903e+03,\n",
       "       9.41022768e+03, 1.14543460e+04, 1.22494028e+04, 1.22551059e+04,\n",
       "       1.15972630e+04, 1.07756156e+04, 1.05723907e+04, 1.10540147e+04,\n",
       "       1.14904415e+04, 1.20641837e+04, 1.22340857e+04, 1.19219747e+04,\n",
       "       1.04672465e+04, 8.02282693e+03, 5.11996418e+03, 2.49340573e+03,\n",
       "       8.29185839e+02, 2.02728469e+02, 3.65252982e+01, 4.73545802e+00,\n",
       "       6.54689762e-01, 1.10762921e+01, 8.21810900e+01, 2.45993138e+02,\n",
       "       6.88037918e+02, 1.77097595e+03, 3.89510214e+03, 6.82414020e+03,\n",
       "       9.88524752e+03, 1.16866740e+04, 1.22052249e+04, 1.18503310e+04,\n",
       "       1.08057141e+04, 1.00029368e+04, 1.05613005e+04, 1.13459087e+04,\n",
       "       1.16813954e+04, 1.21153444e+04, 1.22013911e+04, 1.16257849e+04,\n",
       "       9.77524122e+03, 7.24039730e+03, 4.72965127e+03, 2.39611574e+03,\n",
       "       7.37971166e+02, 1.05994299e+02, 2.09059137e+01, 7.86044778e-01,\n",
       "       6.32595238e-01, 6.32770971e+00, 4.96597411e+01, 1.73335928e+02,\n",
       "       5.64355135e+02, 1.79246896e+03, 4.19852946e+03, 7.42330328e+03,\n",
       "       1.03680620e+04, 1.19241275e+04, 1.22167302e+04, 1.17312041e+04,\n",
       "       1.08331969e+04, 1.06956425e+04, 1.18765965e+04, 1.23125550e+04,\n",
       "       1.21036991e+04, 1.23648277e+04, 1.23532159e+04, 1.12659827e+04,\n",
       "       9.01309194e+03, 6.65304923e+03, 4.53230600e+03, 2.53236771e+03,\n",
       "       8.13317532e+02, 7.57360821e+01, 1.22663918e+01, 9.49856083e-01,\n",
       "       2.43809524e-02, 2.05312854e+00, 2.37737153e+01, 1.15295050e+02,\n",
       "       5.23151198e+02, 2.00356402e+03, 4.71208413e+03, 8.02210576e+03,\n",
       "       1.07142826e+04, 1.19844734e+04, 1.21443066e+04, 1.17352672e+04,\n",
       "       1.13501890e+04, 1.18058310e+04, 1.29305253e+04, 1.24664835e+04,\n",
       "       1.21090771e+04, 1.25723716e+04, 1.24760936e+04, 1.09595385e+04,\n",
       "       8.66572810e+03, 6.56048630e+03, 4.59945505e+03, 2.74090145e+03,\n",
       "       9.79975029e+02, 1.02467830e+02, 1.16955902e+01, 2.92035599e+00,\n",
       "       0.00000000e+00, 8.53042930e-01, 8.80331299e+00, 7.52414185e+01,\n",
       "       5.33884018e+02, 2.30333924e+03, 5.22384299e+03, 8.41596660e+03,\n",
       "       1.08537671e+04, 1.19270178e+04, 1.19856397e+04, 1.17039418e+04,\n",
       "       1.16715555e+04, 1.24445986e+04, 1.29618550e+04, 1.20230391e+04,\n",
       "       1.20377425e+04, 1.26434659e+04, 1.24012680e+04, 1.08759560e+04,\n",
       "       8.87523588e+03, 6.85569402e+03, 4.84378377e+03, 2.91796192e+03,\n",
       "       1.10844668e+03, 1.39672375e+02, 8.86639995e+00, 7.94981734e-02,\n",
       "       0.00000000e+00, 0.00000000e+00, 4.63950502e+00, 8.33393904e+01,\n",
       "       6.29744755e+02, 2.69185746e+03, 5.62185375e+03, 8.53435292e+03,\n",
       "       1.06354679e+04, 1.16397177e+04, 1.17410232e+04, 1.17248709e+04,\n",
       "       1.20446633e+04, 1.27114555e+04, 1.27125078e+04, 1.20008852e+04,\n",
       "       1.24098689e+04, 1.26745406e+04, 1.20741286e+04, 1.08898533e+04,\n",
       "       9.21323231e+03, 7.22598679e+03, 5.04689745e+03, 2.90913735e+03,\n",
       "       1.12277645e+03, 1.91078386e+02, 2.57469149e+01, 1.29179123e+00,\n",
       "       0.00000000e+00, 7.69744852e-02, 1.03197870e+01, 1.11053766e+02,\n",
       "       8.11564748e+02, 3.07386387e+03, 5.91065656e+03, 8.36008213e+03,\n",
       "       1.01408287e+04, 1.10632136e+04, 1.12910607e+04, 1.14976813e+04,\n",
       "       1.20735231e+04, 1.27502876e+04, 1.26987222e+04, 1.23901805e+04,\n",
       "       1.26170244e+04, 1.23916950e+04, 1.17483338e+04, 1.09217037e+04,\n",
       "       9.48760960e+03, 7.35171522e+03, 5.01095743e+03, 2.72992609e+03,\n",
       "       1.04916705e+03, 2.25941630e+02, 3.05993271e+01, 2.87316363e+00,\n",
       "       0.00000000e+00, 2.28039253e-01, 1.74352649e+01, 1.69998742e+02,\n",
       "       1.10767541e+03, 3.43926495e+03, 6.05208363e+03, 8.08344097e+03,\n",
       "       9.50906305e+03, 1.03073030e+04, 1.06715518e+04, 1.10973680e+04,\n",
       "       1.17642567e+04, 1.22940460e+04, 1.25222837e+04, 1.24838281e+04,\n",
       "       1.23538616e+04, 1.20985659e+04, 1.17177753e+04, 1.10570877e+04,\n",
       "       9.47381642e+03, 7.19094489e+03, 4.63491474e+03, 2.42432309e+03,\n",
       "       9.17534777e+02, 2.34119338e+02, 3.27687618e+01, 1.59861539e+00,\n",
       "       1.47639388e-01, 4.47934602e-01, 2.76028871e+01, 2.71942488e+02,\n",
       "       1.45371251e+03, 3.83133451e+03, 6.28631187e+03, 8.14612790e+03,\n",
       "       9.30917203e+03, 1.00179199e+04, 1.05639229e+04, 1.09925571e+04,\n",
       "       1.13187529e+04, 1.19116163e+04, 1.23480093e+04, 1.23440430e+04,\n",
       "       1.21692394e+04, 1.21290528e+04, 1.19460348e+04, 1.11011974e+04,\n",
       "       9.19667530e+03, 6.71976236e+03, 4.18683656e+03, 2.12415117e+03,\n",
       "       8.18965786e+02, 2.22857925e+02, 2.54140760e+01, 1.36995713e+00,\n",
       "       0.00000000e+00, 1.81578450e+00, 4.96345920e+01, 3.80903626e+02,\n",
       "       1.68403918e+03, 4.10905800e+03, 6.66129020e+03, 8.56235623e+03,\n",
       "       9.76878976e+03, 1.05714566e+04, 1.11195093e+04, 1.14535438e+04,\n",
       "       1.17907581e+04, 1.21204054e+04, 1.24479360e+04, 1.23900112e+04,\n",
       "       1.22489975e+04, 1.23606302e+04, 1.19785927e+04, 1.06491638e+04,\n",
       "       8.49640625e+03, 5.95805507e+03, 3.53263357e+03, 1.70287256e+03,\n",
       "       6.43673157e+02, 1.79133677e+02, 2.84028991e+01, 6.28175963e-01,\n",
       "       0.00000000e+00, 1.23625493e+00, 5.65580767e+01, 4.36617659e+02,\n",
       "       1.67611596e+03, 3.91825583e+03, 6.61848502e+03, 8.93197399e+03,\n",
       "       1.05084494e+04, 1.14328933e+04, 1.19110401e+04, 1.21686631e+04,\n",
       "       1.23576844e+04, 1.24269771e+04, 1.24145723e+04, 1.24011494e+04,\n",
       "       1.23905027e+04, 1.22793811e+04, 1.14389559e+04, 9.61909799e+03,\n",
       "       7.11272858e+03, 4.61189510e+03, 2.55069845e+03, 1.22448673e+03,\n",
       "       4.85654757e+02, 1.30709778e+02, 1.54997227e+01, 5.95238095e-02,\n",
       "       2.43809524e-02, 5.50986923e-01, 4.58334020e+01, 3.50464999e+02,\n",
       "       1.27200240e+03, 3.19694301e+03, 5.84711073e+03, 8.57024623e+03,\n",
       "       1.06775424e+04, 1.19000918e+04, 1.23555360e+04, 1.24402093e+04,\n",
       "       1.23586522e+04, 1.21992581e+04, 1.22280936e+04, 1.23162507e+04,\n",
       "       1.22510127e+04, 1.16314635e+04, 1.00849238e+04, 7.71018098e+03,\n",
       "       5.16732671e+03, 2.99318809e+03, 1.58471510e+03, 7.70678750e+02,\n",
       "       2.90603130e+02, 7.36919311e+01, 9.81920114e+00, 3.62142857e-02,\n",
       "       2.28809524e-02, 2.76185941e-03, 2.81056704e+01, 2.04208025e+02,\n",
       "       7.29051694e+02, 2.00572701e+03, 4.21366647e+03, 6.92346357e+03,\n",
       "       9.57389827e+03, 1.14603398e+04, 1.24666788e+04, 1.27682484e+04,\n",
       "       1.26613017e+04, 1.25534327e+04, 1.25998206e+04, 1.23927837e+04,\n",
       "       1.15590439e+04, 9.88953142e+03, 7.53295513e+03, 5.11441259e+03,\n",
       "       3.05547189e+03, 1.66092585e+03, 8.39969863e+02, 3.84512312e+02,\n",
       "       1.34737119e+02, 2.71408189e+01, 3.06857624e+00, 1.23428571e-01,\n",
       "       0.00000000e+00, 0.00000000e+00, 7.31084788e+00, 7.57570670e+01,\n",
       "       3.18535551e+02, 8.92561149e+02, 2.13007164e+03, 4.15513729e+03,\n",
       "       6.67943441e+03, 9.08942045e+03, 1.08768840e+04, 1.18600478e+04,\n",
       "       1.22185140e+04, 1.21488922e+04, 1.16761724e+04, 1.06623427e+04,\n",
       "       8.88180421e+03, 6.72867491e+03, 4.52696553e+03, 2.78125867e+03,\n",
       "       1.57340674e+03, 7.99627345e+02, 3.90776811e+02, 1.74143994e+02,\n",
       "       5.13083781e+01, 8.53411049e+00, 1.14082626e+00, 0.00000000e+00,\n",
       "       0.00000000e+00, 0.00000000e+00, 3.09874806e+00, 2.12014616e+01,\n",
       "       9.01086432e+01, 2.89578069e+02, 7.37002996e+02, 1.63305438e+03,\n",
       "       3.00614325e+03, 4.75217719e+03, 6.42418657e+03, 7.68266614e+03,\n",
       "       8.23705320e+03, 8.21603450e+03, 7.48615583e+03, 6.25364040e+03,\n",
       "       4.88502834e+03, 3.50985901e+03, 2.25424437e+03, 1.40076179e+03,\n",
       "       7.54457368e+02, 3.85015891e+02, 1.70931569e+02, 7.23728862e+01,\n",
       "       1.53588609e+01, 3.76286683e+00, 2.36378952e-01, 0.00000000e+00,\n",
       "       0.00000000e+00, 0.00000000e+00, 7.89492516e-02, 3.23002085e+00,\n",
       "       2.66993369e+01, 8.62829380e+01, 2.42567552e+02, 5.74670736e+02,\n",
       "       1.16062824e+03, 1.85908331e+03, 2.63430007e+03, 3.18296192e+03,\n",
       "       3.47208469e+03, 3.42498298e+03, 3.04423070e+03, 2.59463417e+03,\n",
       "       2.08583729e+03, 1.54170230e+03, 1.04262030e+03, 6.17155891e+02,\n",
       "       3.32872699e+02, 1.63141373e+02, 6.60019146e+01, 2.49646484e+01,\n",
       "       2.80197112e+00, 5.64225568e-01, 2.57523810e-01, 0.00000000e+00,\n",
       "       0.00000000e+00, 0.00000000e+00, 0.00000000e+00, 0.00000000e+00,\n",
       "       5.85748256e+00, 2.32008075e+01, 9.24954784e+01, 2.19439668e+02,\n",
       "       4.27698080e+02, 6.31131067e+02, 9.05773738e+02, 1.16529687e+03,\n",
       "       1.28219277e+03, 1.23351933e+03, 1.09034012e+03, 8.82789099e+02,\n",
       "       7.26724558e+02, 5.23459986e+02, 3.45778063e+02, 2.08353021e+02,\n",
       "       1.10624593e+02, 4.18520306e+01, 1.58110107e+01, 3.40777397e+00,\n",
       "       1.94759195e-02, 8.28809524e-02, 0.00000000e+00, 0.00000000e+00,\n",
       "       0.00000000e+00, 0.00000000e+00, 0.00000000e+00, 0.00000000e+00,\n",
       "       0.00000000e+00, 9.02126602e-01, 5.52653803e+00, 1.54785620e+01,\n",
       "       2.06441456e+01, 3.43017827e+01, 5.21246770e+01, 7.97142975e+01,\n",
       "       1.00081387e+02, 1.02608696e+02, 1.26673478e+02, 1.14405059e+02,\n",
       "       8.98716430e+01, 6.32064973e+01, 3.98525769e+01, 2.14722761e+01,\n",
       "       1.07222715e+01, 3.09714228e+00, 3.58912164e+00, 1.71614970e-01,\n",
       "       0.00000000e+00, 0.00000000e+00, 0.00000000e+00, 0.00000000e+00])"
      ]
     },
     "execution_count": 110,
     "metadata": {},
     "output_type": "execute_result"
    }
   ],
   "source": [
    "#希望留下一半的特征，可以设定一个让特征总数减半的方差阈值，只要找到特征方差的中位数，将这个中位数作为参数threshold的值输入就好了\n",
    "import numpy as np\n",
    "X_fsvar=VarianceThreshold(np.median(X.var().values)).fit_transform(X)\n",
    "X.var().values#得到X的方差"
   ]
  },
  {
   "cell_type": "code",
   "execution_count": 106,
   "metadata": {},
   "outputs": [
    {
     "data": {
      "text/plain": [
       "1352.286703180131"
      ]
     },
     "execution_count": 106,
     "metadata": {},
     "output_type": "execute_result"
    }
   ],
   "source": [
    "np.median(X.var().values)#X方差中的中位数"
   ]
  },
  {
   "cell_type": "code",
   "execution_count": 111,
   "metadata": {},
   "outputs": [],
   "source": [
    "X_fsvar=VarianceThreshold(np.median(X.var().values)).fit_transform(X)"
   ]
  },
  {
   "cell_type": "code",
   "execution_count": 112,
   "metadata": {},
   "outputs": [
    {
     "data": {
      "text/plain": [
       "(42000, 392)"
      ]
     },
     "execution_count": 112,
     "metadata": {},
     "output_type": "execute_result"
    }
   ],
   "source": [
    "X_fsvar.shape"
   ]
  },
  {
   "cell_type": "code",
   "execution_count": 134,
   "metadata": {},
   "outputs": [],
   "source": [
    "#卡方过滤\n",
    "from sklearn.ensemble import RandomForestClassifier as RFC\n",
    "from sklearn.model_selection import cross_val_score\n",
    "from sklearn.feature_selection import SelectKBest\n",
    "from sklearn.feature_selection import chi2\n",
    "#假设在这里我知道我需要300个特征\n",
    "X_fschi=SelectKBest(chi2,k=390).fit_transform(X_fsvar,y)"
   ]
  },
  {
   "cell_type": "code",
   "execution_count": 135,
   "metadata": {},
   "outputs": [
    {
     "data": {
      "text/plain": [
       "(42000, 390)"
      ]
     },
     "execution_count": 135,
     "metadata": {},
     "output_type": "execute_result"
    }
   ],
   "source": [
    "X_fschi.shape"
   ]
  },
  {
   "cell_type": "code",
   "execution_count": 128,
   "metadata": {},
   "outputs": [
    {
     "data": {
      "text/plain": [
       "0.9397380952380953"
      ]
     },
     "execution_count": 128,
     "metadata": {},
     "output_type": "execute_result"
    }
   ],
   "source": [
    "cross_val_score(RFC(n_estimators=10,random_state=0),X_fschi,y,cv=5).mean()"
   ]
  },
  {
   "cell_type": "code",
   "execution_count": 129,
   "metadata": {},
   "outputs": [
    {
     "data": {
      "image/png": "[encoded data removed]",
      "text/plain": [
       "<Figure size 432x288 with 1 Axes>"
      ]
     },
     "metadata": {
      "needs_background": "light"
     },
     "output_type": "display_data"
    }
   ],
   "source": [
    "#如何选取合适的K值？\n",
    "#使用学习曲线选择一个最优的K\n",
    "\n",
    "import matplotlib.pyplot as plt\n",
    "score=[]\n",
    "for i in range(390,200,-10):\n",
    "    X_fschi=SelectKBest(chi2,k=i).fit_transform(X_fschi,y)\n",
    "    once=cross_val_score(RFC(n_estimators=10,random_state=0),X_fschi,y,cv=5).mean()\n",
    "    score.append(once)\n",
    "plt.plot(range(390,200,-10),score)\n",
    "plt.show()\n",
    "#发现K越大越好"
   ]
  },
  {
   "cell_type": "code",
   "execution_count": 138,
   "metadata": {
    "collapsed": true
   },
   "outputs": [
    {
     "data": {
      "text/plain": [
       "array([ 945664.84392643, 1244766.05139164, 1554872.30384525,\n",
       "       1834161.78305343, 1903618.94085294, 1845226.62427198,\n",
       "       1602117.23307537,  708535.17489837,  974050.20513718,\n",
       "       1188092.19961931, 1319151.43467036, 1397847.8836796 ,\n",
       "       1433554.26798015, 1429043.15373433, 1332663.17213405,\n",
       "       1101423.25372261,  809989.56940485,  519266.71772284,\n",
       "        285681.88297156,  902883.1255264 , 1237265.16042373,\n",
       "       1503477.73699155, 1625807.41495542, 1630206.90922916,\n",
       "       1630597.02883804, 1633456.72909664, 1610816.75571229,\n",
       "       1483382.49543886, 1256290.1574794 ,  951236.1617682 ,\n",
       "        693192.66191748,  532386.96220361,  504617.38933715,\n",
       "        575090.36046243,  501025.03733245,  802341.10683194,\n",
       "       1078344.8724406 , 1226540.98318702, 1269945.07968831,\n",
       "       1221758.57688808, 1146535.17810241, 1080657.20185303,\n",
       "       1079065.30979135, 1092222.70610032, 1064908.45385716,\n",
       "       1023327.00231067,  974163.15420165,  918857.12860617,\n",
       "        861439.52030749,  828439.23565047,  916454.89464771,\n",
       "        989713.58229958,  543695.5016699 ,  674691.76755044,\n",
       "        708113.57226969,  657819.3908855 ,  599159.21961671,\n",
       "        576483.60795847,  559848.1818137 ,  536985.56062372,\n",
       "        561457.57734769,  594428.19185935,  592414.89830452,\n",
       "        587801.84097643,  672232.60135169,  790511.70530618,\n",
       "        866573.70991777,  891422.58050934,  905163.15191882,\n",
       "       1006322.94034634,  585209.83598254,  699596.88963547,\n",
       "        705326.82387203,  641105.0929774 ,  632098.97938142,\n",
       "        725189.43548604,  853879.48154986,  863895.50862873,\n",
       "        709440.99808713,  615099.361498  ,  660082.35138802,\n",
       "        662040.13166049,  647432.43321103,  718070.06251003,\n",
       "        868119.93550552,  995128.78948214,  981295.46383871,\n",
       "        888906.74357254,  803951.63399892,  775220.92445238,\n",
       "        802661.20360682,  806753.10120013,  827660.8911231 ,\n",
       "       1008184.76195542, 1212658.65697336, 1279652.35847441,\n",
       "       1071947.51866571,  712579.55021262,  708178.91784269,\n",
       "        931871.22430817,  836155.03350401,  781584.17446604,\n",
       "        883252.58134165, 1015304.18853993, 1153480.28062008,\n",
       "       1235182.10720641, 1110286.29490637,  762412.0228271 ,\n",
       "        651475.7374445 ,  659784.45490334,  761439.40964843,\n",
       "        980458.35707785, 1285689.5977369 , 1412800.83270279,\n",
       "       1269424.03486304,  844394.53343881,  453037.70035635,\n",
       "        906205.5333485 , 1314337.38985735,  875502.64893107,\n",
       "        848574.25317153, 1088364.70535319, 1143964.61799576,\n",
       "       1231934.57606489, 1525266.11466634, 1624923.27849511,\n",
       "       1120921.66905394,  381196.04594987,  517011.13080559,\n",
       "        840830.08443577, 1249668.53527256, 1487299.06201808,\n",
       "       1440993.69232521, 1234157.54433962,  891091.32709079,\n",
       "        767327.74644144, 1767505.95851489, 1794612.36340341,\n",
       "        843649.64862696,  974860.15688277, 1282142.9789604 ,\n",
       "       1121437.99502364, 1158258.4373389 , 1803319.16430163,\n",
       "       2247538.01212782, 1715860.1009172 ,  308268.96279553,\n",
       "        670765.24199637, 1175840.18589306, 1569563.41213805,\n",
       "       1615071.70298461, 1453812.39367812, 1429193.59276003,\n",
       "       1469624.15320088, 1610038.8334007 , 2381990.83018419,\n",
       "       1684641.44646863,  781514.82471784, 1136274.26981954,\n",
       "       1258505.95202954,  900621.20914746, 1033026.39393914,\n",
       "       2032592.30559197, 2688297.40292302, 2126052.31008566,\n",
       "        477854.94097719, 1061876.2951535 , 1617721.02614334,\n",
       "       1859303.87013649, 1706658.49975169, 1442798.15960511,\n",
       "       1497467.99791583, 1635633.52918659, 1789954.0440811 ,\n",
       "       2042036.97897042, 1243975.13567915,  847897.40531407,\n",
       "       1334491.44036763, 1146547.23628072,  721408.29456933,\n",
       "       1099901.34212844, 2234797.26301007, 2788060.61506624,\n",
       "       2097404.45292914,  770825.17396301, 1509971.18325275,\n",
       "       2008828.59327289, 2076128.28182046, 1775258.41727455,\n",
       "       1374882.05100453, 1223860.78474695, 1190499.55493678,\n",
       "       1469994.89713294, 1556218.16894472,  936604.6211571 ,\n",
       "       1052799.96220046, 1487484.96092392, 1096221.91497984,\n",
       "        754081.7574313 , 1308952.47883141, 2269151.28497174,\n",
       "       2519422.4441161 , 1816912.55593098, 1090497.85622876,\n",
       "       1822356.78804369, 2192372.5304657 , 2133745.04961112,\n",
       "       1807649.67676254, 1420349.92183107, 1222343.35267926,\n",
       "       1165504.99607627, 1500572.78318498, 1432663.59271325,\n",
       "        890862.82928644, 1274280.76943075, 1432072.36165076,\n",
       "        956997.59590817,  888742.14373383, 1508163.46238821,\n",
       "       2117988.12236915, 2054465.38907916, 1423918.25987689,\n",
       "       1286013.85962749, 1972608.25057539, 2179634.12755044,\n",
       "       1979740.23184782, 1717723.16781811, 1552275.10457858,\n",
       "       1461315.1411536 , 1494620.94971976, 1739520.65681857,\n",
       "       1442815.46046628, 1014723.34171191, 1363794.15539944,\n",
       "       1122747.63831017,  739634.35332833, 1067567.31929299,\n",
       "       1667592.5097389 , 1864455.97854722, 1579099.16973703,\n",
       "        967688.45447601, 1416605.83453248, 2062165.61891584,\n",
       "       2170645.77302745, 1901786.79198259, 1733725.85760386,\n",
       "       1753508.37671084, 1712712.42549789, 1733493.582237  ,\n",
       "       1770340.59820148, 1310901.04423274, 1008023.90988477,\n",
       "       1061378.72275934,  662457.8217003 ,  729648.40292041,\n",
       "       1370253.32454603, 1741943.51510473, 1593454.39731162,\n",
       "       1172442.70958932,  671601.50140396,  511587.36577997,\n",
       "       1454955.01309647, 2126817.74478926, 2263953.8025206 ,\n",
       "       2028172.33782053, 1992515.52928071, 2172520.74824953,\n",
       "       2035403.53821729, 1758624.07224114, 1514817.58748747,\n",
       "       1002116.10560135,  669379.60246184,  544978.32282227,\n",
       "        576722.03477821, 1098371.32650041, 1603057.05343338,\n",
       "       1612844.96289426, 1293107.69776289,  917550.19379029,\n",
       "        683222.7639966 ,  608782.99701169, 1391473.37940334,\n",
       "       2082151.30610954, 2298916.31712188, 2140360.89085296,\n",
       "       2070900.53848134, 2159471.16950063, 1981772.43302263,\n",
       "       1521754.51234479, 1076334.48566226,  610262.09016783,\n",
       "        351852.98340462,  461487.7601437 ,  878540.35993713,\n",
       "       1337597.14727232, 1481891.62067955, 1342562.57238699,\n",
       "       1127940.79389167,  958491.4694589 ,  884951.02023249,\n",
       "        671520.41386273, 1232265.31295026, 1877169.85821324,\n",
       "       2239501.99047448, 2199634.11766741, 1930471.52367226,\n",
       "       1666073.70450191, 1364054.30645472, 1000936.25390226,\n",
       "        656080.48075838,  389810.08772878,  340150.21186292,\n",
       "        602275.43941511,  959623.37641551, 1156974.48558905,\n",
       "       1135816.98677808, 1044294.97185606,  992281.03054232,\n",
       "        964376.78121192,  966024.75721634, 1491250.50567589,\n",
       "       1970679.86657318, 2139321.52912066, 1894361.40873889,\n",
       "       1368494.5514217 ,  829396.07488768,  488455.25931088,\n",
       "        331978.08818759,  293365.6522867 ,  387474.16211622,\n",
       "        600489.80555106,  783767.50733716,  831013.99296771,\n",
       "        768407.80393857,  738760.56078587,  761413.22072658,\n",
       "        781528.79224194,  615612.72460389,  975765.83585216,\n",
       "       1382346.6477236 , 1684701.13053512, 1732335.2436048 ,\n",
       "       1492804.58962318, 1144230.23099215,  852589.97157847,\n",
       "        719215.03719448,  675891.53891187,  687917.5152402 ,\n",
       "        708292.70911948,  673810.32849758,  550803.45299243,\n",
       "        428370.7943997 ,  384587.47807058,  407022.00975206,\n",
       "        441201.32284902,  661202.45504685,  904150.80474087,\n",
       "       1098249.34334037, 1225055.2730661 , 1312843.88397644,\n",
       "       1325774.40817926, 1236093.76813092, 1036608.01098297,\n",
       "        829620.55626671,  654964.88596563,  520032.72156302,\n",
       "        387948.22204601,  273436.39846809,  255471.93956392,\n",
       "        389884.80778864,  561308.92316732,  759511.94695328,\n",
       "        942402.80700557, 1044698.95132913, 1009807.32615993,\n",
       "        844407.23356341,  695110.21243546,  637789.62877943,\n",
       "        600582.89899187,  519392.9652949 ,  399631.65341907,\n",
       "       1006027.89058975, 1352052.90333271, 1647606.90721159,\n",
       "       1761733.4081397 , 1664096.76785043, 1396834.58681766,\n",
       "       1159784.3628775 , 1001178.01359166,  847886.28143964])"
      ]
     },
     "execution_count": 138,
     "metadata": {},
     "output_type": "execute_result"
    }
   ],
   "source": [
    "chivalue,pvalues_chi=chi2(X_fschi,y)\n",
    "chivalue"
   ]
  },
  {
   "cell_type": "code",
   "execution_count": 140,
   "metadata": {
    "collapsed": true
   },
   "outputs": [
    {
     "data": {
      "text/plain": [
       "array([0., 0., 0., 0., 0., 0., 0., 0., 0., 0., 0., 0., 0., 0., 0., 0., 0.,\n",
       "       0., 0., 0., 0., 0., 0., 0., 0., 0., 0., 0., 0., 0., 0., 0., 0., 0.,\n",
       "       0., 0., 0., 0., 0., 0., 0., 0., 0., 0., 0., 0., 0., 0., 0., 0., 0.,\n",
       "       0., 0., 0., 0., 0., 0., 0., 0., 0., 0., 0., 0., 0., 0., 0., 0., 0.,\n",
       "       0., 0., 0., 0., 0., 0., 0., 0., 0., 0., 0., 0., 0., 0., 0., 0., 0.,\n",
       "       0., 0., 0., 0., 0., 0., 0., 0., 0., 0., 0., 0., 0., 0., 0., 0., 0.,\n",
       "       0., 0., 0., 0., 0., 0., 0., 0., 0., 0., 0., 0., 0., 0., 0., 0., 0.,\n",
       "       0., 0., 0., 0., 0., 0., 0., 0., 0., 0., 0., 0., 0., 0., 0., 0., 0.,\n",
       "       0., 0., 0., 0., 0., 0., 0., 0., 0., 0., 0., 0., 0., 0., 0., 0., 0.,\n",
       "       0., 0., 0., 0., 0., 0., 0., 0., 0., 0., 0., 0., 0., 0., 0., 0., 0.,\n",
       "       0., 0., 0., 0., 0., 0., 0., 0., 0., 0., 0., 0., 0., 0., 0., 0., 0.,\n",
       "       0., 0., 0., 0., 0., 0., 0., 0., 0., 0., 0., 0., 0., 0., 0., 0., 0.,\n",
       "       0., 0., 0., 0., 0., 0., 0., 0., 0., 0., 0., 0., 0., 0., 0., 0., 0.,\n",
       "       0., 0., 0., 0., 0., 0., 0., 0., 0., 0., 0., 0., 0., 0., 0., 0., 0.,\n",
       "       0., 0., 0., 0., 0., 0., 0., 0., 0., 0., 0., 0., 0., 0., 0., 0., 0.,\n",
       "       0., 0., 0., 0., 0., 0., 0., 0., 0., 0., 0., 0., 0., 0., 0., 0., 0.,\n",
       "       0., 0., 0., 0., 0., 0., 0., 0., 0., 0., 0., 0., 0., 0., 0., 0., 0.,\n",
       "       0., 0., 0., 0., 0., 0., 0., 0., 0., 0., 0., 0., 0., 0., 0., 0., 0.,\n",
       "       0., 0., 0., 0., 0., 0., 0., 0., 0., 0., 0., 0., 0., 0., 0., 0., 0.,\n",
       "       0., 0., 0., 0., 0., 0., 0., 0., 0., 0., 0., 0., 0., 0., 0., 0., 0.,\n",
       "       0., 0., 0., 0., 0., 0., 0., 0., 0., 0., 0., 0., 0., 0., 0., 0., 0.,\n",
       "       0., 0., 0., 0., 0., 0., 0., 0., 0., 0., 0., 0., 0., 0., 0., 0., 0.,\n",
       "       0., 0., 0., 0., 0., 0., 0., 0., 0., 0., 0., 0., 0., 0., 0., 0.])"
      ]
     },
     "execution_count": 140,
     "metadata": {},
     "output_type": "execute_result"
    }
   ],
   "source": [
    "pvalues_chi\n",
    "#得到的这个P值都小于0.05，即所有的特征都和标签相关"
   ]
  },
  {
   "cell_type": "code",
   "execution_count": 142,
   "metadata": {},
   "outputs": [
    {
     "data": {
      "text/plain": [
       "390"
      ]
     },
     "execution_count": 142,
     "metadata": {},
     "output_type": "execute_result"
    }
   ],
   "source": [
    "#K取多少，我们想要消除所有P值大于设定值，比如0.05或0.01的特征\n",
    "k=chivalue.shape[0]-(pvalues_chi>0.05).sum()#chivalue.shape[0]是特征的总数，目前是390\n",
    "k#得到390意味着都与标签相关"
   ]
  },
  {
   "cell_type": "code",
   "execution_count": 139,
   "metadata": {},
   "outputs": [
    {
     "data": {
      "text/plain": [
       "390"
      ]
     },
     "execution_count": 139,
     "metadata": {},
     "output_type": "execute_result"
    }
   ],
   "source": [
    "#chivalue.shape[0]"
   ]
  },
  {
   "cell_type": "code",
   "execution_count": 144,
   "metadata": {},
   "outputs": [],
   "source": [
    "#F检验\n",
    "from sklearn.feature_selection import f_classif\n",
    "F,pvalues_f=f_classif(X_fsvar,y)"
   ]
  },
  {
   "cell_type": "code",
   "execution_count": 145,
   "metadata": {},
   "outputs": [
    {
     "data": {
      "text/plain": [
       "array([ 618.65383492,  846.18897012, 1115.40617051, 1362.3677305 ,\n",
       "       1452.03355369, 1381.09095571, 1138.26505266,  464.29616121,\n",
       "        660.00977785,  849.66393412, 1004.7450309 , 1124.76177588,\n",
       "       1200.99190762, 1209.29489877, 1110.4944286 ,  854.66183292,\n",
       "        577.52063451,  342.09729054,  178.67397866,  118.01145533,\n",
       "        612.12261014,  899.40904291, 1196.17528948, 1424.49864852,\n",
       "       1569.26556677, 1742.49910702, 1910.98023795, 1969.20520223,\n",
       "       1731.37475948, 1295.09668012,  839.15325001,  531.97951763,\n",
       "        371.82392681,  336.00820537,  378.93378743,  317.47025479,\n",
       "        528.94881012,  766.40792176,  947.63168717, 1086.0472161 ,\n",
       "       1177.72017709, 1253.79641973, 1344.06961068, 1507.33781169,\n",
       "       1616.50454434, 1512.25864876, 1289.65180587, 1051.26276412,\n",
       "        839.48869386,  680.07426932,  600.85538567,  633.55772663,\n",
       "        683.96908509,  347.65867784,  452.76238211,  509.16387684,\n",
       "        515.7498157 ,  532.86107778,  594.62512658,  664.18740444,\n",
       "        709.37133696,  798.11767931,  876.69849088,  852.76926441,\n",
       "        785.70173347,  802.88980095,  813.2041131 ,  760.85552527,\n",
       "        687.94148028,  642.84071735,  698.11530217,  367.16414289,\n",
       "        455.90449427,  485.50500277,  476.23046034,  536.72332365,\n",
       "        740.12587382, 1041.38089649, 1168.8028973 ,  941.91083922,\n",
       "        795.72843454,  861.29818828,  868.19464432,  838.80173567,\n",
       "        886.26659655,  959.12740961,  934.56890789,  783.1988476 ,\n",
       "        631.01107034,  542.02937189,  493.83337615,  533.27899195,\n",
       "        572.34131749,  657.20547321,  981.66873526, 1465.82267956,\n",
       "       1756.05831022, 1385.28086085,  798.73125604,  761.40508874,\n",
       "       1062.6919609 ,  979.38193965,  947.82602644, 1085.00522683,\n",
       "       1152.13801689, 1118.1595422 , 1021.13086631,  812.37823266,\n",
       "        509.86857625,  411.37986706,  430.7150329 ,  545.55866945,\n",
       "        829.92259533, 1376.4852629 , 1811.62922878, 1601.33613631,\n",
       "        898.8719158 ,  417.37765921,  895.77244253, 1455.38592931,\n",
       "        956.2421521 ,  990.1748413 , 1359.47406197, 1279.27992017,\n",
       "       1166.80888121, 1291.41792351, 1263.86987819,  787.81807986,\n",
       "        237.21811742,  333.12552194,  621.47324186, 1139.04489426,\n",
       "       1713.54508435, 1823.42451065, 1436.53069242,  884.19442779,\n",
       "        717.63373994, 2026.90370414, 2219.46450157,  943.55587655,\n",
       "       1217.29127813, 1677.03878308, 1193.63540136, 1039.56842784,\n",
       "       1570.18098323, 1878.5600272 , 1284.78903715,  190.02740438,\n",
       "        444.17019739,  928.80156872, 1562.54171587, 1940.54801063,\n",
       "       1816.57346013, 1683.83193784, 1619.17496376, 1865.78706551,\n",
       "       3482.82350415, 2326.10253286,  990.67999393, 1632.46650414,\n",
       "       1652.51500198,  891.26746579,  883.96689508, 1805.57103626,\n",
       "       2389.97435433, 1630.34926872,  301.84091297,  746.3286491 ,\n",
       "       1394.82469151, 2008.19411716, 2107.3680475 , 1767.97892382,\n",
       "       1786.08753011, 1980.1986791 , 2509.14739387, 3366.13986444,\n",
       "       1959.90573326, 1299.36608875, 2218.28123025, 1470.25657381,\n",
       "        681.02610086,  937.54741741, 2037.45812231, 2518.68810085,\n",
       "       1583.0009463 ,  509.76276636, 1139.21364745, 1881.71834116,\n",
       "       2351.30851824, 2175.48525458, 1624.49647062, 1399.44534221,\n",
       "       1440.98664744, 2229.25720739, 2764.00452882, 1633.74258116,\n",
       "       1870.29253742, 2628.79930504, 1367.31440177,  707.38857243,\n",
       "       1150.06936228, 2089.08213594, 2185.00557858, 1318.14722036,\n",
       "        747.37697661, 1453.94015412, 2116.40726513, 2399.53090598,\n",
       "       2143.53519978, 1651.89817908, 1414.71662551, 1481.62100314,\n",
       "       2468.21266727, 2666.18025642, 1520.6400065 , 2223.14029953,\n",
       "       2271.07109628, 1111.06997494,  844.31183874, 1388.60413626,\n",
       "       1917.10207189, 1667.61400215,  996.09054823,  907.80926355,\n",
       "       1607.70263546, 2085.21461056, 2073.68356276, 1880.26929744,\n",
       "       1756.40165025, 1716.45478479, 1964.08537105, 2796.13761562,\n",
       "       2413.09378391, 1543.01310963, 2118.10377396, 1475.29541488,\n",
       "        783.59003763, 1040.65400476, 1582.46200024, 1617.32566033,\n",
       "       1188.24554305,  642.2665701 , 1011.30241064, 1725.70185142,\n",
       "       2067.20755476, 1893.35116837, 1795.96538455, 1922.58627318,\n",
       "       1951.69309645, 2115.44871238, 2479.27958039, 1809.12095649,\n",
       "       1330.8686207 , 1396.29767244,  741.9063402 ,  751.14036409,\n",
       "       1410.18529816, 1677.6595494 , 1308.77910167,  836.77047561,\n",
       "        430.93133677,  313.888671  , 1039.31894918, 1811.68171256,\n",
       "       2191.69964967, 2035.63638826, 2114.65218363, 2511.27142071,\n",
       "       2363.46743373, 2053.7687027 , 1865.84769096, 1202.94179711,\n",
       "        793.61414555,  633.71267282,  636.18282736, 1218.61245591,\n",
       "       1712.62901816, 1484.60290068,  996.06129466,  626.13659134,\n",
       "        441.56356583,  374.08815796,  983.21640593, 1764.93014215,\n",
       "       2264.93587233, 2262.87269162, 2323.50890468, 2611.66920897,\n",
       "       2387.45723028, 1763.5696083 , 1256.32165954,  704.77285945,\n",
       "        406.94580935,  548.06969664, 1051.50016486, 1542.11172909,\n",
       "       1494.38472469, 1130.61174365,  823.84437277,  650.69506052,\n",
       "        594.18011033,  415.73313115,  853.97575783, 1548.7167469 ,\n",
       "       2204.00694989, 2444.69535795, 2267.62871155, 2003.69161124,\n",
       "       1643.94961527, 1202.35520102,  804.18805494,  483.32932365,\n",
       "        420.99263006,  750.06949525, 1136.32227345, 1202.49476981,\n",
       "        990.75097727,  791.03016258,  692.46641159,  653.96372577,\n",
       "        647.90433225, 1149.80460733, 1826.54973661, 2361.75564926,\n",
       "       2313.09139096, 1694.26613916, 1012.97938867,  608.4174945 ,\n",
       "        432.07115684,  383.54620406,  487.70312805,  698.78061024,\n",
       "        797.0763827 ,  714.70722998,  574.2849126 ,  507.5143557 ,\n",
       "        508.77434021,  510.36884435,  404.13860698,  686.31274396,\n",
       "       1103.81003251, 1590.83695172, 1912.74984902, 1832.62220523,\n",
       "       1482.39046946, 1142.10827805,  968.65089356,  860.24853405,\n",
       "        780.75215696,  696.78170045,  567.41403081,  403.59649375,\n",
       "        284.91007929,  245.59060983,  255.97458001,  293.6787996 ,\n",
       "        460.46868009,  687.29383613,  940.06512113, 1205.58777055,\n",
       "       1485.37178744, 1623.12886955, 1488.04856361, 1119.91615126,\n",
       "        770.06544455,  530.6398126 ,  376.66549502,  258.05875548,\n",
       "        172.20323661,  123.79865884,  160.44132806,  249.15104257,\n",
       "        374.15221131,  544.73535425,  727.78945347,  853.98680046,\n",
       "        819.19801306,  656.55547718,  510.87851723,  445.09613969,\n",
       "        401.25608847,  333.48574029,  243.88699402,  645.9545719 ,\n",
       "        920.3259526 , 1196.07900013, 1308.12260763, 1218.37705687,\n",
       "        996.41501921,  792.59409228,  663.47516843,  550.14745143])"
      ]
     },
     "execution_count": 145,
     "metadata": {},
     "output_type": "execute_result"
    }
   ],
   "source": [
    "F"
   ]
  },
  {
   "cell_type": "code",
   "execution_count": 146,
   "metadata": {},
   "outputs": [
    {
     "data": {
      "text/plain": [
       "array([0.00000000e+000, 0.00000000e+000, 0.00000000e+000, 0.00000000e+000,\n",
       "       0.00000000e+000, 0.00000000e+000, 0.00000000e+000, 0.00000000e+000,\n",
       "       0.00000000e+000, 0.00000000e+000, 0.00000000e+000, 0.00000000e+000,\n",
       "       0.00000000e+000, 0.00000000e+000, 0.00000000e+000, 0.00000000e+000,\n",
       "       0.00000000e+000, 0.00000000e+000, 0.00000000e+000, 4.71193533e-220,\n",
       "       0.00000000e+000, 0.00000000e+000, 0.00000000e+000, 0.00000000e+000,\n",
       "       0.00000000e+000, 0.00000000e+000, 0.00000000e+000, 0.00000000e+000,\n",
       "       0.00000000e+000, 0.00000000e+000, 0.00000000e+000, 0.00000000e+000,\n",
       "       0.00000000e+000, 0.00000000e+000, 0.00000000e+000, 0.00000000e+000,\n",
       "       0.00000000e+000, 0.00000000e+000, 0.00000000e+000, 0.00000000e+000,\n",
       "       0.00000000e+000, 0.00000000e+000, 0.00000000e+000, 0.00000000e+000,\n",
       "       0.00000000e+000, 0.00000000e+000, 0.00000000e+000, 0.00000000e+000,\n",
       "       0.00000000e+000, 0.00000000e+000, 0.00000000e+000, 0.00000000e+000,\n",
       "       0.00000000e+000, 0.00000000e+000, 0.00000000e+000, 0.00000000e+000,\n",
       "       0.00000000e+000, 0.00000000e+000, 0.00000000e+000, 0.00000000e+000,\n",
       "       0.00000000e+000, 0.00000000e+000, 0.00000000e+000, 0.00000000e+000,\n",
       "       0.00000000e+000, 0.00000000e+000, 0.00000000e+000, 0.00000000e+000,\n",
       "       0.00000000e+000, 0.00000000e+000, 0.00000000e+000, 0.00000000e+000,\n",
       "       0.00000000e+000, 0.00000000e+000, 0.00000000e+000, 0.00000000e+000,\n",
       "       0.00000000e+000, 0.00000000e+000, 0.00000000e+000, 0.00000000e+000,\n",
       "       0.00000000e+000, 0.00000000e+000, 0.00000000e+000, 0.00000000e+000,\n",
       "       0.00000000e+000, 0.00000000e+000, 0.00000000e+000, 0.00000000e+000,\n",
       "       0.00000000e+000, 0.00000000e+000, 0.00000000e+000, 0.00000000e+000,\n",
       "       0.00000000e+000, 0.00000000e+000, 0.00000000e+000, 0.00000000e+000,\n",
       "       0.00000000e+000, 0.00000000e+000, 0.00000000e+000, 0.00000000e+000,\n",
       "       0.00000000e+000, 0.00000000e+000, 0.00000000e+000, 0.00000000e+000,\n",
       "       0.00000000e+000, 0.00000000e+000, 0.00000000e+000, 0.00000000e+000,\n",
       "       0.00000000e+000, 0.00000000e+000, 0.00000000e+000, 0.00000000e+000,\n",
       "       0.00000000e+000, 0.00000000e+000, 0.00000000e+000, 0.00000000e+000,\n",
       "       0.00000000e+000, 0.00000000e+000, 0.00000000e+000, 0.00000000e+000,\n",
       "       0.00000000e+000, 0.00000000e+000, 0.00000000e+000, 0.00000000e+000,\n",
       "       0.00000000e+000, 0.00000000e+000, 0.00000000e+000, 0.00000000e+000,\n",
       "       0.00000000e+000, 0.00000000e+000, 0.00000000e+000, 0.00000000e+000,\n",
       "       0.00000000e+000, 0.00000000e+000, 0.00000000e+000, 0.00000000e+000,\n",
       "       0.00000000e+000, 0.00000000e+000, 0.00000000e+000, 0.00000000e+000,\n",
       "       0.00000000e+000, 0.00000000e+000, 0.00000000e+000, 0.00000000e+000,\n",
       "       0.00000000e+000, 0.00000000e+000, 0.00000000e+000, 0.00000000e+000,\n",
       "       0.00000000e+000, 0.00000000e+000, 0.00000000e+000, 0.00000000e+000,\n",
       "       0.00000000e+000, 0.00000000e+000, 0.00000000e+000, 0.00000000e+000,\n",
       "       0.00000000e+000, 0.00000000e+000, 0.00000000e+000, 0.00000000e+000,\n",
       "       0.00000000e+000, 0.00000000e+000, 0.00000000e+000, 0.00000000e+000,\n",
       "       0.00000000e+000, 0.00000000e+000, 0.00000000e+000, 0.00000000e+000,\n",
       "       0.00000000e+000, 0.00000000e+000, 0.00000000e+000, 0.00000000e+000,\n",
       "       0.00000000e+000, 0.00000000e+000, 0.00000000e+000, 0.00000000e+000,\n",
       "       0.00000000e+000, 0.00000000e+000, 0.00000000e+000, 0.00000000e+000,\n",
       "       0.00000000e+000, 0.00000000e+000, 0.00000000e+000, 0.00000000e+000,\n",
       "       0.00000000e+000, 0.00000000e+000, 0.00000000e+000, 0.00000000e+000,\n",
       "       0.00000000e+000, 0.00000000e+000, 0.00000000e+000, 0.00000000e+000,\n",
       "       0.00000000e+000, 0.00000000e+000, 0.00000000e+000, 0.00000000e+000,\n",
       "       0.00000000e+000, 0.00000000e+000, 0.00000000e+000, 0.00000000e+000,\n",
       "       0.00000000e+000, 0.00000000e+000, 0.00000000e+000, 0.00000000e+000,\n",
       "       0.00000000e+000, 0.00000000e+000, 0.00000000e+000, 0.00000000e+000,\n",
       "       0.00000000e+000, 0.00000000e+000, 0.00000000e+000, 0.00000000e+000,\n",
       "       0.00000000e+000, 0.00000000e+000, 0.00000000e+000, 0.00000000e+000,\n",
       "       0.00000000e+000, 0.00000000e+000, 0.00000000e+000, 0.00000000e+000,\n",
       "       0.00000000e+000, 0.00000000e+000, 0.00000000e+000, 0.00000000e+000,\n",
       "       0.00000000e+000, 0.00000000e+000, 0.00000000e+000, 0.00000000e+000,\n",
       "       0.00000000e+000, 0.00000000e+000, 0.00000000e+000, 0.00000000e+000,\n",
       "       0.00000000e+000, 0.00000000e+000, 0.00000000e+000, 0.00000000e+000,\n",
       "       0.00000000e+000, 0.00000000e+000, 0.00000000e+000, 0.00000000e+000,\n",
       "       0.00000000e+000, 0.00000000e+000, 0.00000000e+000, 0.00000000e+000,\n",
       "       0.00000000e+000, 0.00000000e+000, 0.00000000e+000, 0.00000000e+000,\n",
       "       0.00000000e+000, 0.00000000e+000, 0.00000000e+000, 0.00000000e+000,\n",
       "       0.00000000e+000, 0.00000000e+000, 0.00000000e+000, 0.00000000e+000,\n",
       "       0.00000000e+000, 0.00000000e+000, 0.00000000e+000, 0.00000000e+000,\n",
       "       0.00000000e+000, 0.00000000e+000, 0.00000000e+000, 0.00000000e+000,\n",
       "       0.00000000e+000, 0.00000000e+000, 0.00000000e+000, 0.00000000e+000,\n",
       "       0.00000000e+000, 0.00000000e+000, 0.00000000e+000, 0.00000000e+000,\n",
       "       0.00000000e+000, 0.00000000e+000, 0.00000000e+000, 0.00000000e+000,\n",
       "       0.00000000e+000, 0.00000000e+000, 0.00000000e+000, 0.00000000e+000,\n",
       "       0.00000000e+000, 0.00000000e+000, 0.00000000e+000, 0.00000000e+000,\n",
       "       0.00000000e+000, 0.00000000e+000, 0.00000000e+000, 0.00000000e+000,\n",
       "       0.00000000e+000, 0.00000000e+000, 0.00000000e+000, 0.00000000e+000,\n",
       "       0.00000000e+000, 0.00000000e+000, 0.00000000e+000, 0.00000000e+000,\n",
       "       0.00000000e+000, 0.00000000e+000, 0.00000000e+000, 0.00000000e+000,\n",
       "       0.00000000e+000, 0.00000000e+000, 0.00000000e+000, 0.00000000e+000,\n",
       "       0.00000000e+000, 0.00000000e+000, 0.00000000e+000, 0.00000000e+000,\n",
       "       0.00000000e+000, 0.00000000e+000, 0.00000000e+000, 0.00000000e+000,\n",
       "       0.00000000e+000, 0.00000000e+000, 0.00000000e+000, 0.00000000e+000,\n",
       "       0.00000000e+000, 0.00000000e+000, 0.00000000e+000, 0.00000000e+000,\n",
       "       0.00000000e+000, 0.00000000e+000, 0.00000000e+000, 0.00000000e+000,\n",
       "       0.00000000e+000, 0.00000000e+000, 0.00000000e+000, 0.00000000e+000,\n",
       "       0.00000000e+000, 0.00000000e+000, 0.00000000e+000, 0.00000000e+000,\n",
       "       0.00000000e+000, 0.00000000e+000, 0.00000000e+000, 0.00000000e+000,\n",
       "       0.00000000e+000, 0.00000000e+000, 0.00000000e+000, 0.00000000e+000,\n",
       "       0.00000000e+000, 0.00000000e+000, 0.00000000e+000, 0.00000000e+000,\n",
       "       0.00000000e+000, 0.00000000e+000, 0.00000000e+000, 0.00000000e+000,\n",
       "       0.00000000e+000, 0.00000000e+000, 0.00000000e+000, 0.00000000e+000,\n",
       "       0.00000000e+000, 0.00000000e+000, 0.00000000e+000, 0.00000000e+000,\n",
       "       0.00000000e+000, 0.00000000e+000, 0.00000000e+000, 0.00000000e+000,\n",
       "       0.00000000e+000, 0.00000000e+000, 0.00000000e+000, 0.00000000e+000,\n",
       "       0.00000000e+000, 0.00000000e+000, 0.00000000e+000, 0.00000000e+000,\n",
       "       3.26083326e-322, 5.24336441e-231, 4.04009647e-300, 0.00000000e+000,\n",
       "       0.00000000e+000, 0.00000000e+000, 0.00000000e+000, 0.00000000e+000,\n",
       "       0.00000000e+000, 0.00000000e+000, 0.00000000e+000, 0.00000000e+000,\n",
       "       0.00000000e+000, 0.00000000e+000, 0.00000000e+000, 0.00000000e+000,\n",
       "       0.00000000e+000, 0.00000000e+000, 0.00000000e+000, 0.00000000e+000,\n",
       "       0.00000000e+000, 0.00000000e+000, 0.00000000e+000, 0.00000000e+000])"
      ]
     },
     "execution_count": 146,
     "metadata": {},
     "output_type": "execute_result"
    }
   ],
   "source": [
    "pvalues_f"
   ]
  },
  {
   "cell_type": "code",
   "execution_count": 147,
   "metadata": {},
   "outputs": [
    {
     "data": {
      "text/plain": [
       "392"
      ]
     },
     "execution_count": 147,
     "metadata": {},
     "output_type": "execute_result"
    }
   ],
   "source": [
    "k=F.shape[0]-(pvalues_f>0.05).sum()\n",
    "k#得到依然是所有特征与标签都相关"
   ]
  },
  {
   "cell_type": "code",
   "execution_count": 148,
   "metadata": {},
   "outputs": [
    {
     "data": {
      "text/plain": [
       "392"
      ]
     },
     "execution_count": 148,
     "metadata": {},
     "output_type": "execute_result"
    }
   ],
   "source": [
    "#互信息法\n",
    "from sklearn.feature_selection import mutual_info_classif as MIC\n",
    "result=MIC(X_fsvar,y)\n",
    "k=result.shape[0]-sum(result<=0)#当result>0时相关，为0时独立，为1时完全相关\n",
    "k"
   ]
  }
 ],
 "metadata": {
  "kernelspec": {
   "display_name": "Python 3",
   "language": "python",
   "name": "python3"
  },
  "language_info": {
   "codemirror_mode": {
    "name": "ipython",
    "version": 3
   },
   "file_extension": ".py",
   "mimetype": "text/x-python",
   "name": "python",
   "nbconvert_exporter": "python",
   "pygments_lexer": "ipython3",
   "version": "3.8.5"
  }
 },
 "nbformat": 4,
 "nbformat_minor": 5
}
