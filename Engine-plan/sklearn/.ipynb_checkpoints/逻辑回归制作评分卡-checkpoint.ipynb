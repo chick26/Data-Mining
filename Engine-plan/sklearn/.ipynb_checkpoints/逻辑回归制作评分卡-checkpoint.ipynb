{
 "cells": [
  {
   "cell_type": "code",
   "execution_count": 1,
   "id": "5b7eac73",
   "metadata": {},
   "outputs": [],
   "source": [
    "import numpy as np\n",
    "import pandas as pd \n",
    "from sklearn.linear_model import LogisticRegression as LR"
   ]
  },
  {
   "cell_type": "code",
   "execution_count": 26,
   "id": "deba97b5",
   "metadata": {},
   "outputs": [],
   "source": [
    "data=pd.read_csv(r\"C:\\Users\\hp\\Desktop\\python\\机器学习菜菜\\sklearnjqxx_jb51\\【机器学习】菜菜的sklearn课堂(1-12全课)\\05逻辑回归与评分卡\\rankingcard.csv\",index_col=0)\n"
   ]
  },
  {
   "cell_type": "code",
   "execution_count": 27,
   "id": "9f720e23",
   "metadata": {},
   "outputs": [
    {
     "data": {
      "text/html": [
       "<div>\n",
       "<style scoped>\n",
       "    .dataframe tbody tr th:only-of-type {\n",
       "        vertical-align: middle;\n",
       "    }\n",
       "\n",
       "    .dataframe tbody tr th {\n",
       "        vertical-align: top;\n",
       "    }\n",
       "\n",
       "    .dataframe thead th {\n",
       "        text-align: right;\n",
       "    }\n",
       "</style>\n",
       "<table border=\"1\" class=\"dataframe\">\n",
       "  <thead>\n",
       "    <tr style=\"text-align: right;\">\n",
       "      <th></th>\n",
       "      <th>SeriousDlqin2yrs</th>\n",
       "      <th>RevolvingUtilizationOfUnsecuredLines</th>\n",
       "      <th>age</th>\n",
       "      <th>NumberOfTime30-59DaysPastDueNotWorse</th>\n",
       "      <th>DebtRatio</th>\n",
       "      <th>MonthlyIncome</th>\n",
       "      <th>NumberOfOpenCreditLinesAndLoans</th>\n",
       "      <th>NumberOfTimes90DaysLate</th>\n",
       "      <th>NumberRealEstateLoansOrLines</th>\n",
       "      <th>NumberOfTime60-89DaysPastDueNotWorse</th>\n",
       "      <th>NumberOfDependents</th>\n",
       "    </tr>\n",
       "  </thead>\n",
       "  <tbody>\n",
       "    <tr>\n",
       "      <th>1</th>\n",
       "      <td>1</td>\n",
       "      <td>0.766127</td>\n",
       "      <td>45</td>\n",
       "      <td>2</td>\n",
       "      <td>0.802982</td>\n",
       "      <td>9120.0</td>\n",
       "      <td>13</td>\n",
       "      <td>0</td>\n",
       "      <td>6</td>\n",
       "      <td>0</td>\n",
       "      <td>2.0</td>\n",
       "    </tr>\n",
       "    <tr>\n",
       "      <th>2</th>\n",
       "      <td>0</td>\n",
       "      <td>0.957151</td>\n",
       "      <td>40</td>\n",
       "      <td>0</td>\n",
       "      <td>0.121876</td>\n",
       "      <td>2600.0</td>\n",
       "      <td>4</td>\n",
       "      <td>0</td>\n",
       "      <td>0</td>\n",
       "      <td>0</td>\n",
       "      <td>1.0</td>\n",
       "    </tr>\n",
       "    <tr>\n",
       "      <th>3</th>\n",
       "      <td>0</td>\n",
       "      <td>0.658180</td>\n",
       "      <td>38</td>\n",
       "      <td>1</td>\n",
       "      <td>0.085113</td>\n",
       "      <td>3042.0</td>\n",
       "      <td>2</td>\n",
       "      <td>1</td>\n",
       "      <td>0</td>\n",
       "      <td>0</td>\n",
       "      <td>0.0</td>\n",
       "    </tr>\n",
       "    <tr>\n",
       "      <th>4</th>\n",
       "      <td>0</td>\n",
       "      <td>0.233810</td>\n",
       "      <td>30</td>\n",
       "      <td>0</td>\n",
       "      <td>0.036050</td>\n",
       "      <td>3300.0</td>\n",
       "      <td>5</td>\n",
       "      <td>0</td>\n",
       "      <td>0</td>\n",
       "      <td>0</td>\n",
       "      <td>0.0</td>\n",
       "    </tr>\n",
       "    <tr>\n",
       "      <th>5</th>\n",
       "      <td>0</td>\n",
       "      <td>0.907239</td>\n",
       "      <td>49</td>\n",
       "      <td>1</td>\n",
       "      <td>0.024926</td>\n",
       "      <td>63588.0</td>\n",
       "      <td>7</td>\n",
       "      <td>0</td>\n",
       "      <td>1</td>\n",
       "      <td>0</td>\n",
       "      <td>0.0</td>\n",
       "    </tr>\n",
       "  </tbody>\n",
       "</table>\n",
       "</div>"
      ],
      "text/plain": [
       "   SeriousDlqin2yrs  RevolvingUtilizationOfUnsecuredLines  age  \\\n",
       "1                 1                              0.766127   45   \n",
       "2                 0                              0.957151   40   \n",
       "3                 0                              0.658180   38   \n",
       "4                 0                              0.233810   30   \n",
       "5                 0                              0.907239   49   \n",
       "\n",
       "   NumberOfTime30-59DaysPastDueNotWorse  DebtRatio  MonthlyIncome  \\\n",
       "1                                     2   0.802982         9120.0   \n",
       "2                                     0   0.121876         2600.0   \n",
       "3                                     1   0.085113         3042.0   \n",
       "4                                     0   0.036050         3300.0   \n",
       "5                                     1   0.024926        63588.0   \n",
       "\n",
       "   NumberOfOpenCreditLinesAndLoans  NumberOfTimes90DaysLate  \\\n",
       "1                               13                        0   \n",
       "2                                4                        0   \n",
       "3                                2                        1   \n",
       "4                                5                        0   \n",
       "5                                7                        0   \n",
       "\n",
       "   NumberRealEstateLoansOrLines  NumberOfTime60-89DaysPastDueNotWorse  \\\n",
       "1                             6                                     0   \n",
       "2                             0                                     0   \n",
       "3                             0                                     0   \n",
       "4                             0                                     0   \n",
       "5                             1                                     0   \n",
       "\n",
       "   NumberOfDependents  \n",
       "1                 2.0  \n",
       "2                 1.0  \n",
       "3                 0.0  \n",
       "4                 0.0  \n",
       "5                 0.0  "
      ]
     },
     "execution_count": 27,
     "metadata": {},
     "output_type": "execute_result"
    }
   ],
   "source": [
    "#探索数据及预处理\n",
    "data.head()"
   ]
  },
  {
   "cell_type": "code",
   "execution_count": 28,
   "id": "423b66c8",
   "metadata": {},
   "outputs": [
    {
     "data": {
      "text/plain": [
       "(150000, 11)"
      ]
     },
     "execution_count": 28,
     "metadata": {},
     "output_type": "execute_result"
    }
   ],
   "source": [
    "#观察数据结构\n",
    "data.shape"
   ]
  },
  {
   "cell_type": "code",
   "execution_count": 29,
   "id": "3ae30b70",
   "metadata": {},
   "outputs": [
    {
     "name": "stdout",
     "output_type": "stream",
     "text": [
      "<class 'pandas.core.frame.DataFrame'>\n",
      "Int64Index: 150000 entries, 1 to 150000\n",
      "Data columns (total 11 columns):\n",
      " #   Column                                Non-Null Count   Dtype  \n",
      "---  ------                                --------------   -----  \n",
      " 0   SeriousDlqin2yrs                      150000 non-null  int64  \n",
      " 1   RevolvingUtilizationOfUnsecuredLines  150000 non-null  float64\n",
      " 2   age                                   150000 non-null  int64  \n",
      " 3   NumberOfTime30-59DaysPastDueNotWorse  150000 non-null  int64  \n",
      " 4   DebtRatio                             150000 non-null  float64\n",
      " 5   MonthlyIncome                         120269 non-null  float64\n",
      " 6   NumberOfOpenCreditLinesAndLoans       150000 non-null  int64  \n",
      " 7   NumberOfTimes90DaysLate               150000 non-null  int64  \n",
      " 8   NumberRealEstateLoansOrLines          150000 non-null  int64  \n",
      " 9   NumberOfTime60-89DaysPastDueNotWorse  150000 non-null  int64  \n",
      " 10  NumberOfDependents                    146076 non-null  float64\n",
      "dtypes: float64(4), int64(7)\n",
      "memory usage: 13.7 MB\n"
     ]
    }
   ],
   "source": [
    "data.info()\n",
    "#10个特征，SeriousDlqin2yrs 是标签"
   ]
  },
  {
   "cell_type": "code",
   "execution_count": 30,
   "id": "0e1c1c43",
   "metadata": {},
   "outputs": [
    {
     "name": "stdout",
     "output_type": "stream",
     "text": [
      "<class 'pandas.core.frame.DataFrame'>\n",
      "Int64Index: 149391 entries, 1 to 150000\n",
      "Data columns (total 11 columns):\n",
      " #   Column                                Non-Null Count   Dtype  \n",
      "---  ------                                --------------   -----  \n",
      " 0   SeriousDlqin2yrs                      149391 non-null  int64  \n",
      " 1   RevolvingUtilizationOfUnsecuredLines  149391 non-null  float64\n",
      " 2   age                                   149391 non-null  int64  \n",
      " 3   NumberOfTime30-59DaysPastDueNotWorse  149391 non-null  int64  \n",
      " 4   DebtRatio                             149391 non-null  float64\n",
      " 5   MonthlyIncome                         120170 non-null  float64\n",
      " 6   NumberOfOpenCreditLinesAndLoans       149391 non-null  int64  \n",
      " 7   NumberOfTimes90DaysLate               149391 non-null  int64  \n",
      " 8   NumberRealEstateLoansOrLines          149391 non-null  int64  \n",
      " 9   NumberOfTime60-89DaysPastDueNotWorse  149391 non-null  int64  \n",
      " 10  NumberOfDependents                    145563 non-null  float64\n",
      "dtypes: float64(4), int64(7)\n",
      "memory usage: 13.7 MB\n"
     ]
    }
   ],
   "source": [
    "#去除重复值\n",
    "data.drop_duplicates(inplace=True)\n",
    "data.info()"
   ]
  },
  {
   "cell_type": "code",
   "execution_count": 31,
   "id": "e61d205c",
   "metadata": {},
   "outputs": [
    {
     "name": "stdout",
     "output_type": "stream",
     "text": [
      "<class 'pandas.core.frame.DataFrame'>\n",
      "RangeIndex: 149391 entries, 0 to 149390\n",
      "Data columns (total 11 columns):\n",
      " #   Column                                Non-Null Count   Dtype  \n",
      "---  ------                                --------------   -----  \n",
      " 0   SeriousDlqin2yrs                      149391 non-null  int64  \n",
      " 1   RevolvingUtilizationOfUnsecuredLines  149391 non-null  float64\n",
      " 2   age                                   149391 non-null  int64  \n",
      " 3   NumberOfTime30-59DaysPastDueNotWorse  149391 non-null  int64  \n",
      " 4   DebtRatio                             149391 non-null  float64\n",
      " 5   MonthlyIncome                         120170 non-null  float64\n",
      " 6   NumberOfOpenCreditLinesAndLoans       149391 non-null  int64  \n",
      " 7   NumberOfTimes90DaysLate               149391 non-null  int64  \n",
      " 8   NumberRealEstateLoansOrLines          149391 non-null  int64  \n",
      " 9   NumberOfTime60-89DaysPastDueNotWorse  149391 non-null  int64  \n",
      " 10  NumberOfDependents                    145563 non-null  float64\n",
      "dtypes: float64(4), int64(7)\n",
      "memory usage: 12.5 MB\n"
     ]
    }
   ],
   "source": [
    "#删除后记得恢复索引（因为删除后的索引不变）\n",
    "data.index=range(data.shape[0])\n",
    "data.info()"
   ]
  },
  {
   "cell_type": "code",
   "execution_count": 33,
   "id": "a09b2390",
   "metadata": {},
   "outputs": [
    {
     "name": "stdout",
     "output_type": "stream",
     "text": [
      "<class 'pandas.core.frame.DataFrame'>\n",
      "RangeIndex: 149391 entries, 0 to 149390\n",
      "Data columns (total 11 columns):\n",
      " #   Column                                Non-Null Count   Dtype  \n",
      "---  ------                                --------------   -----  \n",
      " 0   SeriousDlqin2yrs                      149391 non-null  int64  \n",
      " 1   RevolvingUtilizationOfUnsecuredLines  149391 non-null  float64\n",
      " 2   age                                   149391 non-null  int64  \n",
      " 3   NumberOfTime30-59DaysPastDueNotWorse  149391 non-null  int64  \n",
      " 4   DebtRatio                             149391 non-null  float64\n",
      " 5   MonthlyIncome                         120170 non-null  float64\n",
      " 6   NumberOfOpenCreditLinesAndLoans       149391 non-null  int64  \n",
      " 7   NumberOfTimes90DaysLate               149391 non-null  int64  \n",
      " 8   NumberRealEstateLoansOrLines          149391 non-null  int64  \n",
      " 9   NumberOfTime60-89DaysPastDueNotWorse  149391 non-null  int64  \n",
      " 10  NumberOfDependents                    145563 non-null  float64\n",
      "dtypes: float64(4), int64(7)\n",
      "memory usage: 12.5 MB\n"
     ]
    },
    {
     "data": {
      "text/plain": [
       "SeriousDlqin2yrs                        0.000000\n",
       "RevolvingUtilizationOfUnsecuredLines    0.000000\n",
       "age                                     0.000000\n",
       "NumberOfTime30-59DaysPastDueNotWorse    0.000000\n",
       "DebtRatio                               0.000000\n",
       "MonthlyIncome                           0.195601\n",
       "NumberOfOpenCreditLinesAndLoans         0.000000\n",
       "NumberOfTimes90DaysLate                 0.000000\n",
       "NumberRealEstateLoansOrLines            0.000000\n",
       "NumberOfTime60-89DaysPastDueNotWorse    0.000000\n",
       "NumberOfDependents                      0.025624\n",
       "dtype: float64"
      ]
     },
     "execution_count": 33,
     "metadata": {},
     "output_type": "execute_result"
    }
   ],
   "source": [
    "#填补缺失值\n",
    "data.info()\n",
    "#查看缺失的比例\n",
    "data.isnull().sum()/data.shape[0]"
   ]
  },
  {
   "cell_type": "code",
   "execution_count": 34,
   "id": "d9f83ec4",
   "metadata": {},
   "outputs": [
    {
     "name": "stdout",
     "output_type": "stream",
     "text": [
      "<class 'pandas.core.frame.DataFrame'>\n",
      "RangeIndex: 149391 entries, 0 to 149390\n",
      "Data columns (total 11 columns):\n",
      " #   Column                                Non-Null Count   Dtype  \n",
      "---  ------                                --------------   -----  \n",
      " 0   SeriousDlqin2yrs                      149391 non-null  int64  \n",
      " 1   RevolvingUtilizationOfUnsecuredLines  149391 non-null  float64\n",
      " 2   age                                   149391 non-null  int64  \n",
      " 3   NumberOfTime30-59DaysPastDueNotWorse  149391 non-null  int64  \n",
      " 4   DebtRatio                             149391 non-null  float64\n",
      " 5   MonthlyIncome                         120170 non-null  float64\n",
      " 6   NumberOfOpenCreditLinesAndLoans       149391 non-null  int64  \n",
      " 7   NumberOfTimes90DaysLate               149391 non-null  int64  \n",
      " 8   NumberRealEstateLoansOrLines          149391 non-null  int64  \n",
      " 9   NumberOfTime60-89DaysPastDueNotWorse  149391 non-null  int64  \n",
      " 10  NumberOfDependents                    149391 non-null  float64\n",
      "dtypes: float64(4), int64(7)\n",
      "memory usage: 12.5 MB\n"
     ]
    },
    {
     "data": {
      "text/plain": [
       "SeriousDlqin2yrs                        0.000000\n",
       "RevolvingUtilizationOfUnsecuredLines    0.000000\n",
       "age                                     0.000000\n",
       "NumberOfTime30-59DaysPastDueNotWorse    0.000000\n",
       "DebtRatio                               0.000000\n",
       "MonthlyIncome                           0.195601\n",
       "NumberOfOpenCreditLinesAndLoans         0.000000\n",
       "NumberOfTimes90DaysLate                 0.000000\n",
       "NumberRealEstateLoansOrLines            0.000000\n",
       "NumberOfTime60-89DaysPastDueNotWorse    0.000000\n",
       "NumberOfDependents                      0.000000\n",
       "dtype: float64"
      ]
     },
     "execution_count": 34,
     "metadata": {},
     "output_type": "execute_result"
    }
   ],
   "source": [
    "data[\"NumberOfDependents\"].fillna(int(data[\"NumberOfDependents\"].mean()),inplace=True)\n",
    "data.info()\n",
    "data.isnull().sum()/data.shape[0]"
   ]
  },
  {
   "cell_type": "code",
   "execution_count": 35,
   "id": "a4486ce7",
   "metadata": {},
   "outputs": [],
   "source": [
    "#随机森林填补“收入”缺失值\n",
    "def fill_missing_rf(X,y,to_fill):\n",
    "\n",
    "    \"\"\"\n",
    "    使用随机森林填补一个特征的缺失值的函数\n",
    "\n",
    "    参数：\n",
    "    X：要填补的特征矩阵\n",
    "    y：完整的，没有缺失值的标签\n",
    "    to_fill：字符串，要填补的那一列的名称\n",
    "    \"\"\"\n",
    "\n",
    "    #构建我们的新特征矩阵和新标签\n",
    "    df = X.copy()\n",
    "    fill = df.loc[:,to_fill]\n",
    "    df = pd.concat([df.loc[:,df.columns != to_fill],pd.DataFrame(y)],axis=1)\n",
    "\n",
    "    # 找出我们的训练集和测试集\n",
    "    Ytrain = fill[fill.notnull()]\n",
    "    Ytest = fill[fill.isnull()]\n",
    "    Xtrain = df.iloc[Ytrain.index,:]\n",
    "    Xtest = df.iloc[Ytest.index,:]\n",
    "\n",
    "    #用随机森林回归来填补缺失值\n",
    "    from sklearn.ensemble import RandomForestRegressor as rfr\n",
    "    rfr = rfr(n_estimators=100)\n",
    "    rfr = rfr.fit(Xtrain, Ytrain)\n",
    "    Ypredict = rfr.predict(Xtest)\n",
    "\n",
    "    return Ypredict"
   ]
  },
  {
   "cell_type": "code",
   "execution_count": 37,
   "id": "66c99d4c",
   "metadata": {},
   "outputs": [
    {
     "data": {
      "text/plain": [
       "(149391, 10)"
      ]
     },
     "execution_count": 37,
     "metadata": {},
     "output_type": "execute_result"
    }
   ],
   "source": [
    "#接下来我们需要创造函数需要的参数，将参数导入函数，产出结果\n",
    "X = data.iloc[:,1:]\n",
    "y = data[\"SeriousDlqin2yrs\"]#y = data.iloc[:,0]\n",
    "X.shape#(149391, 10)"
   ]
  },
  {
   "cell_type": "code",
   "execution_count": 38,
   "id": "0d509ca1",
   "metadata": {},
   "outputs": [
    {
     "data": {
      "text/plain": [
       "(29221,)"
      ]
     },
     "execution_count": 38,
     "metadata": {},
     "output_type": "execute_result"
    }
   ],
   "source": [
    "#=====[TIME WARNING:1 min]=====#\n",
    "y_pred = fill_missing_rf(X,y,\"MonthlyIncome\")\n",
    "y_pred.shape"
   ]
  },
  {
   "cell_type": "code",
   "execution_count": 39,
   "id": "c978f209",
   "metadata": {},
   "outputs": [
    {
     "name": "stdout",
     "output_type": "stream",
     "text": [
      "<class 'pandas.core.frame.DataFrame'>\n",
      "RangeIndex: 149391 entries, 0 to 149390\n",
      "Data columns (total 11 columns):\n",
      " #   Column                                Non-Null Count   Dtype  \n",
      "---  ------                                --------------   -----  \n",
      " 0   SeriousDlqin2yrs                      149391 non-null  int64  \n",
      " 1   RevolvingUtilizationOfUnsecuredLines  149391 non-null  float64\n",
      " 2   age                                   149391 non-null  int64  \n",
      " 3   NumberOfTime30-59DaysPastDueNotWorse  149391 non-null  int64  \n",
      " 4   DebtRatio                             149391 non-null  float64\n",
      " 5   MonthlyIncome                         120170 non-null  float64\n",
      " 6   NumberOfOpenCreditLinesAndLoans       149391 non-null  int64  \n",
      " 7   NumberOfTimes90DaysLate               149391 non-null  int64  \n",
      " 8   NumberRealEstateLoansOrLines          149391 non-null  int64  \n",
      " 9   NumberOfTime60-89DaysPastDueNotWorse  149391 non-null  int64  \n",
      " 10  NumberOfDependents                    149391 non-null  float64\n",
      "dtypes: float64(4), int64(7)\n",
      "memory usage: 12.5 MB\n"
     ]
    }
   ],
   "source": [
    "#注意可以通过以下代码检验数据是否数量相同\n",
    "#y_pred.shape ==  data.loc[data.loc[:,\"MonthlyIncome\"].isnull(),\"MonthlyIncome\"].shape\n",
    "#data.loc[data.loc[:,\"MonthlyIncome\"].isnull(),\"MonthlyIncome\"].shape\n",
    "data.info()"
   ]
  },
  {
   "cell_type": "code",
   "execution_count": 40,
   "id": "a5360419",
   "metadata": {},
   "outputs": [
    {
     "name": "stdout",
     "output_type": "stream",
     "text": [
      "<class 'pandas.core.frame.DataFrame'>\n",
      "RangeIndex: 149391 entries, 0 to 149390\n",
      "Data columns (total 11 columns):\n",
      " #   Column                                Non-Null Count   Dtype  \n",
      "---  ------                                --------------   -----  \n",
      " 0   SeriousDlqin2yrs                      149391 non-null  int64  \n",
      " 1   RevolvingUtilizationOfUnsecuredLines  149391 non-null  float64\n",
      " 2   age                                   149391 non-null  int64  \n",
      " 3   NumberOfTime30-59DaysPastDueNotWorse  149391 non-null  int64  \n",
      " 4   DebtRatio                             149391 non-null  float64\n",
      " 5   MonthlyIncome                         149391 non-null  float64\n",
      " 6   NumberOfOpenCreditLinesAndLoans       149391 non-null  int64  \n",
      " 7   NumberOfTimes90DaysLate               149391 non-null  int64  \n",
      " 8   NumberRealEstateLoansOrLines          149391 non-null  int64  \n",
      " 9   NumberOfTime60-89DaysPastDueNotWorse  149391 non-null  int64  \n",
      " 10  NumberOfDependents                    149391 non-null  float64\n",
      "dtypes: float64(4), int64(7)\n",
      "memory usage: 12.5 MB\n"
     ]
    }
   ],
   "source": [
    "#确认我们的结果合理之后，我们就可以将数据覆盖了\n",
    "data.loc[data.loc[:,\"MonthlyIncome\"].isnull(),\"MonthlyIncome\"] = y_pred\n",
    "\n",
    "data.info()"
   ]
  },
  {
   "cell_type": "code",
   "execution_count": 41,
   "id": "0b811814",
   "metadata": {},
   "outputs": [
    {
     "data": {
      "text/plain": [
       "(29221,)"
      ]
     },
     "execution_count": 41,
     "metadata": {},
     "output_type": "execute_result"
    }
   ],
   "source": [
    "y_pred.shape"
   ]
  },
  {
   "cell_type": "code",
   "execution_count": 42,
   "id": "2a24d68d",
   "metadata": {},
   "outputs": [
    {
     "data": {
      "text/html": [
       "<div>\n",
       "<style scoped>\n",
       "    .dataframe tbody tr th:only-of-type {\n",
       "        vertical-align: middle;\n",
       "    }\n",
       "\n",
       "    .dataframe tbody tr th {\n",
       "        vertical-align: top;\n",
       "    }\n",
       "\n",
       "    .dataframe thead th {\n",
       "        text-align: right;\n",
       "    }\n",
       "</style>\n",
       "<table border=\"1\" class=\"dataframe\">\n",
       "  <thead>\n",
       "    <tr style=\"text-align: right;\">\n",
       "      <th></th>\n",
       "      <th>count</th>\n",
       "      <th>mean</th>\n",
       "      <th>std</th>\n",
       "      <th>min</th>\n",
       "      <th>1%</th>\n",
       "      <th>10%</th>\n",
       "      <th>25%</th>\n",
       "      <th>50%</th>\n",
       "      <th>75%</th>\n",
       "      <th>90%</th>\n",
       "      <th>99%</th>\n",
       "      <th>max</th>\n",
       "    </tr>\n",
       "  </thead>\n",
       "  <tbody>\n",
       "    <tr>\n",
       "      <th>SeriousDlqin2yrs</th>\n",
       "      <td>149391.0</td>\n",
       "      <td>0.066999</td>\n",
       "      <td>0.250021</td>\n",
       "      <td>0.0</td>\n",
       "      <td>0.0</td>\n",
       "      <td>0.000000</td>\n",
       "      <td>0.000000</td>\n",
       "      <td>0.000000</td>\n",
       "      <td>0.000000</td>\n",
       "      <td>0.000000</td>\n",
       "      <td>1.000000</td>\n",
       "      <td>1.0</td>\n",
       "    </tr>\n",
       "    <tr>\n",
       "      <th>RevolvingUtilizationOfUnsecuredLines</th>\n",
       "      <td>149391.0</td>\n",
       "      <td>6.071087</td>\n",
       "      <td>250.263672</td>\n",
       "      <td>0.0</td>\n",
       "      <td>0.0</td>\n",
       "      <td>0.003199</td>\n",
       "      <td>0.030132</td>\n",
       "      <td>0.154235</td>\n",
       "      <td>0.556494</td>\n",
       "      <td>0.978007</td>\n",
       "      <td>1.093922</td>\n",
       "      <td>50708.0</td>\n",
       "    </tr>\n",
       "    <tr>\n",
       "      <th>age</th>\n",
       "      <td>149391.0</td>\n",
       "      <td>52.306237</td>\n",
       "      <td>14.725962</td>\n",
       "      <td>0.0</td>\n",
       "      <td>24.0</td>\n",
       "      <td>33.000000</td>\n",
       "      <td>41.000000</td>\n",
       "      <td>52.000000</td>\n",
       "      <td>63.000000</td>\n",
       "      <td>72.000000</td>\n",
       "      <td>87.000000</td>\n",
       "      <td>109.0</td>\n",
       "    </tr>\n",
       "    <tr>\n",
       "      <th>NumberOfTime30-59DaysPastDueNotWorse</th>\n",
       "      <td>149391.0</td>\n",
       "      <td>0.393886</td>\n",
       "      <td>3.852953</td>\n",
       "      <td>0.0</td>\n",
       "      <td>0.0</td>\n",
       "      <td>0.000000</td>\n",
       "      <td>0.000000</td>\n",
       "      <td>0.000000</td>\n",
       "      <td>0.000000</td>\n",
       "      <td>1.000000</td>\n",
       "      <td>4.000000</td>\n",
       "      <td>98.0</td>\n",
       "    </tr>\n",
       "    <tr>\n",
       "      <th>DebtRatio</th>\n",
       "      <td>149391.0</td>\n",
       "      <td>354.436740</td>\n",
       "      <td>2041.843455</td>\n",
       "      <td>0.0</td>\n",
       "      <td>0.0</td>\n",
       "      <td>0.034991</td>\n",
       "      <td>0.177441</td>\n",
       "      <td>0.368234</td>\n",
       "      <td>0.875279</td>\n",
       "      <td>1275.000000</td>\n",
       "      <td>4985.100000</td>\n",
       "      <td>329664.0</td>\n",
       "    </tr>\n",
       "    <tr>\n",
       "      <th>MonthlyIncome</th>\n",
       "      <td>149391.0</td>\n",
       "      <td>5425.088333</td>\n",
       "      <td>13229.525166</td>\n",
       "      <td>0.0</td>\n",
       "      <td>0.0</td>\n",
       "      <td>0.180000</td>\n",
       "      <td>1800.000000</td>\n",
       "      <td>4420.000000</td>\n",
       "      <td>7416.000000</td>\n",
       "      <td>10800.000000</td>\n",
       "      <td>23250.000000</td>\n",
       "      <td>3008750.0</td>\n",
       "    </tr>\n",
       "    <tr>\n",
       "      <th>NumberOfOpenCreditLinesAndLoans</th>\n",
       "      <td>149391.0</td>\n",
       "      <td>8.480892</td>\n",
       "      <td>5.136515</td>\n",
       "      <td>0.0</td>\n",
       "      <td>0.0</td>\n",
       "      <td>3.000000</td>\n",
       "      <td>5.000000</td>\n",
       "      <td>8.000000</td>\n",
       "      <td>11.000000</td>\n",
       "      <td>15.000000</td>\n",
       "      <td>24.000000</td>\n",
       "      <td>58.0</td>\n",
       "    </tr>\n",
       "    <tr>\n",
       "      <th>NumberOfTimes90DaysLate</th>\n",
       "      <td>149391.0</td>\n",
       "      <td>0.238120</td>\n",
       "      <td>3.826165</td>\n",
       "      <td>0.0</td>\n",
       "      <td>0.0</td>\n",
       "      <td>0.000000</td>\n",
       "      <td>0.000000</td>\n",
       "      <td>0.000000</td>\n",
       "      <td>0.000000</td>\n",
       "      <td>0.000000</td>\n",
       "      <td>3.000000</td>\n",
       "      <td>98.0</td>\n",
       "    </tr>\n",
       "    <tr>\n",
       "      <th>NumberRealEstateLoansOrLines</th>\n",
       "      <td>149391.0</td>\n",
       "      <td>1.022391</td>\n",
       "      <td>1.130196</td>\n",
       "      <td>0.0</td>\n",
       "      <td>0.0</td>\n",
       "      <td>0.000000</td>\n",
       "      <td>0.000000</td>\n",
       "      <td>1.000000</td>\n",
       "      <td>2.000000</td>\n",
       "      <td>2.000000</td>\n",
       "      <td>4.000000</td>\n",
       "      <td>54.0</td>\n",
       "    </tr>\n",
       "    <tr>\n",
       "      <th>NumberOfTime60-89DaysPastDueNotWorse</th>\n",
       "      <td>149391.0</td>\n",
       "      <td>0.212503</td>\n",
       "      <td>3.810523</td>\n",
       "      <td>0.0</td>\n",
       "      <td>0.0</td>\n",
       "      <td>0.000000</td>\n",
       "      <td>0.000000</td>\n",
       "      <td>0.000000</td>\n",
       "      <td>0.000000</td>\n",
       "      <td>0.000000</td>\n",
       "      <td>2.000000</td>\n",
       "      <td>98.0</td>\n",
       "    </tr>\n",
       "    <tr>\n",
       "      <th>NumberOfDependents</th>\n",
       "      <td>149391.0</td>\n",
       "      <td>0.740393</td>\n",
       "      <td>1.108272</td>\n",
       "      <td>0.0</td>\n",
       "      <td>0.0</td>\n",
       "      <td>0.000000</td>\n",
       "      <td>0.000000</td>\n",
       "      <td>0.000000</td>\n",
       "      <td>1.000000</td>\n",
       "      <td>2.000000</td>\n",
       "      <td>4.000000</td>\n",
       "      <td>20.0</td>\n",
       "    </tr>\n",
       "  </tbody>\n",
       "</table>\n",
       "</div>"
      ],
      "text/plain": [
       "                                         count         mean           std  \\\n",
       "SeriousDlqin2yrs                      149391.0     0.066999      0.250021   \n",
       "RevolvingUtilizationOfUnsecuredLines  149391.0     6.071087    250.263672   \n",
       "age                                   149391.0    52.306237     14.725962   \n",
       "NumberOfTime30-59DaysPastDueNotWorse  149391.0     0.393886      3.852953   \n",
       "DebtRatio                             149391.0   354.436740   2041.843455   \n",
       "MonthlyIncome                         149391.0  5425.088333  13229.525166   \n",
       "NumberOfOpenCreditLinesAndLoans       149391.0     8.480892      5.136515   \n",
       "NumberOfTimes90DaysLate               149391.0     0.238120      3.826165   \n",
       "NumberRealEstateLoansOrLines          149391.0     1.022391      1.130196   \n",
       "NumberOfTime60-89DaysPastDueNotWorse  149391.0     0.212503      3.810523   \n",
       "NumberOfDependents                    149391.0     0.740393      1.108272   \n",
       "\n",
       "                                      min    1%        10%          25%  \\\n",
       "SeriousDlqin2yrs                      0.0   0.0   0.000000     0.000000   \n",
       "RevolvingUtilizationOfUnsecuredLines  0.0   0.0   0.003199     0.030132   \n",
       "age                                   0.0  24.0  33.000000    41.000000   \n",
       "NumberOfTime30-59DaysPastDueNotWorse  0.0   0.0   0.000000     0.000000   \n",
       "DebtRatio                             0.0   0.0   0.034991     0.177441   \n",
       "MonthlyIncome                         0.0   0.0   0.180000  1800.000000   \n",
       "NumberOfOpenCreditLinesAndLoans       0.0   0.0   3.000000     5.000000   \n",
       "NumberOfTimes90DaysLate               0.0   0.0   0.000000     0.000000   \n",
       "NumberRealEstateLoansOrLines          0.0   0.0   0.000000     0.000000   \n",
       "NumberOfTime60-89DaysPastDueNotWorse  0.0   0.0   0.000000     0.000000   \n",
       "NumberOfDependents                    0.0   0.0   0.000000     0.000000   \n",
       "\n",
       "                                              50%          75%           90%  \\\n",
       "SeriousDlqin2yrs                         0.000000     0.000000      0.000000   \n",
       "RevolvingUtilizationOfUnsecuredLines     0.154235     0.556494      0.978007   \n",
       "age                                     52.000000    63.000000     72.000000   \n",
       "NumberOfTime30-59DaysPastDueNotWorse     0.000000     0.000000      1.000000   \n",
       "DebtRatio                                0.368234     0.875279   1275.000000   \n",
       "MonthlyIncome                         4420.000000  7416.000000  10800.000000   \n",
       "NumberOfOpenCreditLinesAndLoans          8.000000    11.000000     15.000000   \n",
       "NumberOfTimes90DaysLate                  0.000000     0.000000      0.000000   \n",
       "NumberRealEstateLoansOrLines             1.000000     2.000000      2.000000   \n",
       "NumberOfTime60-89DaysPastDueNotWorse     0.000000     0.000000      0.000000   \n",
       "NumberOfDependents                       0.000000     1.000000      2.000000   \n",
       "\n",
       "                                               99%        max  \n",
       "SeriousDlqin2yrs                          1.000000        1.0  \n",
       "RevolvingUtilizationOfUnsecuredLines      1.093922    50708.0  \n",
       "age                                      87.000000      109.0  \n",
       "NumberOfTime30-59DaysPastDueNotWorse      4.000000       98.0  \n",
       "DebtRatio                              4985.100000   329664.0  \n",
       "MonthlyIncome                         23250.000000  3008750.0  \n",
       "NumberOfOpenCreditLinesAndLoans          24.000000       58.0  \n",
       "NumberOfTimes90DaysLate                   3.000000       98.0  \n",
       "NumberRealEstateLoansOrLines              4.000000       54.0  \n",
       "NumberOfTime60-89DaysPastDueNotWorse      2.000000       98.0  \n",
       "NumberOfDependents                        4.000000       20.0  "
      ]
     },
     "execution_count": 42,
     "metadata": {},
     "output_type": "execute_result"
    }
   ],
   "source": [
    "#描述性统计处理异常值\n",
    "data.describe([0.01,0.1,0.25,.5,.75,.9,.99]).T"
   ]
  },
  {
   "cell_type": "code",
   "execution_count": 43,
   "id": "658976a3",
   "metadata": {},
   "outputs": [
    {
     "data": {
      "text/plain": [
       "1"
      ]
     },
     "execution_count": 43,
     "metadata": {},
     "output_type": "execute_result"
    }
   ],
   "source": [
    "#通过这个表格发现，age最小值为0，这不符合银行业务要求，所有我们要看看有多少age=0\n",
    "#然后看到NumberOfTimes90DaysLate在90%以前都为0所以是一个严重偏态的数据\n",
    "(data[\"age\"]==0).sum()\n",
    "#发现只有1个年龄为0，应该是输入失误造成的，所以我们可以删掉"
   ]
  },
  {
   "cell_type": "code",
   "execution_count": 44,
   "id": "7a0a3bef",
   "metadata": {},
   "outputs": [],
   "source": [
    "data=data[data[\"age\"]!=0]"
   ]
  },
  {
   "cell_type": "code",
   "execution_count": 45,
   "id": "46303ad1",
   "metadata": {},
   "outputs": [
    {
     "data": {
      "text/plain": [
       "(149390, 11)"
      ]
     },
     "execution_count": 45,
     "metadata": {},
     "output_type": "execute_result"
    }
   ],
   "source": [
    "data.shape"
   ]
  },
  {
   "cell_type": "code",
   "execution_count": 46,
   "id": "fbac6f83",
   "metadata": {},
   "outputs": [
    {
     "data": {
      "text/plain": [
       "SeriousDlqin2yrs                        225\n",
       "RevolvingUtilizationOfUnsecuredLines    225\n",
       "age                                     225\n",
       "NumberOfTime30-59DaysPastDueNotWorse    225\n",
       "DebtRatio                               225\n",
       "MonthlyIncome                           225\n",
       "NumberOfOpenCreditLinesAndLoans         225\n",
       "NumberOfTimes90DaysLate                 225\n",
       "NumberRealEstateLoansOrLines            225\n",
       "NumberOfTime60-89DaysPastDueNotWorse    225\n",
       "NumberOfDependents                      225\n",
       "dtype: int64"
      ]
     },
     "execution_count": 46,
     "metadata": {},
     "output_type": "execute_result"
    }
   ],
   "source": [
    "#把违约NumberOfTimes90DaysLate 90次以上的找到\n",
    "data[data.loc[:,\"NumberOfTimes90DaysLate\"]>90].count()"
   ]
  },
  {
   "cell_type": "code",
   "execution_count": 47,
   "id": "715f3e58",
   "metadata": {},
   "outputs": [
    {
     "data": {
      "text/html": [
       "<div>\n",
       "<style scoped>\n",
       "    .dataframe tbody tr th:only-of-type {\n",
       "        vertical-align: middle;\n",
       "    }\n",
       "\n",
       "    .dataframe tbody tr th {\n",
       "        vertical-align: top;\n",
       "    }\n",
       "\n",
       "    .dataframe thead th {\n",
       "        text-align: right;\n",
       "    }\n",
       "</style>\n",
       "<table border=\"1\" class=\"dataframe\">\n",
       "  <thead>\n",
       "    <tr style=\"text-align: right;\">\n",
       "      <th></th>\n",
       "      <th>SeriousDlqin2yrs</th>\n",
       "      <th>RevolvingUtilizationOfUnsecuredLines</th>\n",
       "      <th>age</th>\n",
       "      <th>NumberOfTime30-59DaysPastDueNotWorse</th>\n",
       "      <th>DebtRatio</th>\n",
       "      <th>MonthlyIncome</th>\n",
       "      <th>NumberOfOpenCreditLinesAndLoans</th>\n",
       "      <th>NumberOfTimes90DaysLate</th>\n",
       "      <th>NumberRealEstateLoansOrLines</th>\n",
       "      <th>NumberOfTime60-89DaysPastDueNotWorse</th>\n",
       "      <th>NumberOfDependents</th>\n",
       "    </tr>\n",
       "  </thead>\n",
       "  <tbody>\n",
       "    <tr>\n",
       "      <th>1732</th>\n",
       "      <td>1</td>\n",
       "      <td>1.0</td>\n",
       "      <td>27</td>\n",
       "      <td>98</td>\n",
       "      <td>0.0</td>\n",
       "      <td>2700.000000</td>\n",
       "      <td>0</td>\n",
       "      <td>98</td>\n",
       "      <td>0</td>\n",
       "      <td>98</td>\n",
       "      <td>0.0</td>\n",
       "    </tr>\n",
       "    <tr>\n",
       "      <th>2285</th>\n",
       "      <td>0</td>\n",
       "      <td>1.0</td>\n",
       "      <td>22</td>\n",
       "      <td>98</td>\n",
       "      <td>0.0</td>\n",
       "      <td>1284.243150</td>\n",
       "      <td>0</td>\n",
       "      <td>98</td>\n",
       "      <td>0</td>\n",
       "      <td>98</td>\n",
       "      <td>0.0</td>\n",
       "    </tr>\n",
       "    <tr>\n",
       "      <th>3883</th>\n",
       "      <td>0</td>\n",
       "      <td>1.0</td>\n",
       "      <td>38</td>\n",
       "      <td>98</td>\n",
       "      <td>12.0</td>\n",
       "      <td>2469.530000</td>\n",
       "      <td>0</td>\n",
       "      <td>98</td>\n",
       "      <td>0</td>\n",
       "      <td>98</td>\n",
       "      <td>0.0</td>\n",
       "    </tr>\n",
       "    <tr>\n",
       "      <th>4416</th>\n",
       "      <td>0</td>\n",
       "      <td>1.0</td>\n",
       "      <td>21</td>\n",
       "      <td>98</td>\n",
       "      <td>0.0</td>\n",
       "      <td>0.000000</td>\n",
       "      <td>0</td>\n",
       "      <td>98</td>\n",
       "      <td>0</td>\n",
       "      <td>98</td>\n",
       "      <td>0.0</td>\n",
       "    </tr>\n",
       "    <tr>\n",
       "      <th>4704</th>\n",
       "      <td>0</td>\n",
       "      <td>1.0</td>\n",
       "      <td>21</td>\n",
       "      <td>98</td>\n",
       "      <td>0.0</td>\n",
       "      <td>2000.000000</td>\n",
       "      <td>0</td>\n",
       "      <td>98</td>\n",
       "      <td>0</td>\n",
       "      <td>98</td>\n",
       "      <td>0.0</td>\n",
       "    </tr>\n",
       "    <tr>\n",
       "      <th>...</th>\n",
       "      <td>...</td>\n",
       "      <td>...</td>\n",
       "      <td>...</td>\n",
       "      <td>...</td>\n",
       "      <td>...</td>\n",
       "      <td>...</td>\n",
       "      <td>...</td>\n",
       "      <td>...</td>\n",
       "      <td>...</td>\n",
       "      <td>...</td>\n",
       "      <td>...</td>\n",
       "    </tr>\n",
       "    <tr>\n",
       "      <th>146667</th>\n",
       "      <td>1</td>\n",
       "      <td>1.0</td>\n",
       "      <td>25</td>\n",
       "      <td>98</td>\n",
       "      <td>0.0</td>\n",
       "      <td>2070.184667</td>\n",
       "      <td>0</td>\n",
       "      <td>98</td>\n",
       "      <td>0</td>\n",
       "      <td>98</td>\n",
       "      <td>0.0</td>\n",
       "    </tr>\n",
       "    <tr>\n",
       "      <th>147180</th>\n",
       "      <td>1</td>\n",
       "      <td>1.0</td>\n",
       "      <td>68</td>\n",
       "      <td>98</td>\n",
       "      <td>255.0</td>\n",
       "      <td>8.270000</td>\n",
       "      <td>0</td>\n",
       "      <td>98</td>\n",
       "      <td>0</td>\n",
       "      <td>98</td>\n",
       "      <td>0.0</td>\n",
       "    </tr>\n",
       "    <tr>\n",
       "      <th>148548</th>\n",
       "      <td>1</td>\n",
       "      <td>1.0</td>\n",
       "      <td>24</td>\n",
       "      <td>98</td>\n",
       "      <td>54.0</td>\n",
       "      <td>674.190000</td>\n",
       "      <td>0</td>\n",
       "      <td>98</td>\n",
       "      <td>0</td>\n",
       "      <td>98</td>\n",
       "      <td>0.0</td>\n",
       "    </tr>\n",
       "    <tr>\n",
       "      <th>148634</th>\n",
       "      <td>0</td>\n",
       "      <td>1.0</td>\n",
       "      <td>26</td>\n",
       "      <td>98</td>\n",
       "      <td>0.0</td>\n",
       "      <td>2000.000000</td>\n",
       "      <td>0</td>\n",
       "      <td>98</td>\n",
       "      <td>0</td>\n",
       "      <td>98</td>\n",
       "      <td>0.0</td>\n",
       "    </tr>\n",
       "    <tr>\n",
       "      <th>148833</th>\n",
       "      <td>1</td>\n",
       "      <td>1.0</td>\n",
       "      <td>34</td>\n",
       "      <td>98</td>\n",
       "      <td>9.0</td>\n",
       "      <td>2944.190000</td>\n",
       "      <td>0</td>\n",
       "      <td>98</td>\n",
       "      <td>0</td>\n",
       "      <td>98</td>\n",
       "      <td>0.0</td>\n",
       "    </tr>\n",
       "  </tbody>\n",
       "</table>\n",
       "<p>225 rows × 11 columns</p>\n",
       "</div>"
      ],
      "text/plain": [
       "        SeriousDlqin2yrs  RevolvingUtilizationOfUnsecuredLines  age  \\\n",
       "1732                   1                                   1.0   27   \n",
       "2285                   0                                   1.0   22   \n",
       "3883                   0                                   1.0   38   \n",
       "4416                   0                                   1.0   21   \n",
       "4704                   0                                   1.0   21   \n",
       "...                  ...                                   ...  ...   \n",
       "146667                 1                                   1.0   25   \n",
       "147180                 1                                   1.0   68   \n",
       "148548                 1                                   1.0   24   \n",
       "148634                 0                                   1.0   26   \n",
       "148833                 1                                   1.0   34   \n",
       "\n",
       "        NumberOfTime30-59DaysPastDueNotWorse  DebtRatio  MonthlyIncome  \\\n",
       "1732                                      98        0.0    2700.000000   \n",
       "2285                                      98        0.0    1284.243150   \n",
       "3883                                      98       12.0    2469.530000   \n",
       "4416                                      98        0.0       0.000000   \n",
       "4704                                      98        0.0    2000.000000   \n",
       "...                                      ...        ...            ...   \n",
       "146667                                    98        0.0    2070.184667   \n",
       "147180                                    98      255.0       8.270000   \n",
       "148548                                    98       54.0     674.190000   \n",
       "148634                                    98        0.0    2000.000000   \n",
       "148833                                    98        9.0    2944.190000   \n",
       "\n",
       "        NumberOfOpenCreditLinesAndLoans  NumberOfTimes90DaysLate  \\\n",
       "1732                                  0                       98   \n",
       "2285                                  0                       98   \n",
       "3883                                  0                       98   \n",
       "4416                                  0                       98   \n",
       "4704                                  0                       98   \n",
       "...                                 ...                      ...   \n",
       "146667                                0                       98   \n",
       "147180                                0                       98   \n",
       "148548                                0                       98   \n",
       "148634                                0                       98   \n",
       "148833                                0                       98   \n",
       "\n",
       "        NumberRealEstateLoansOrLines  NumberOfTime60-89DaysPastDueNotWorse  \\\n",
       "1732                               0                                    98   \n",
       "2285                               0                                    98   \n",
       "3883                               0                                    98   \n",
       "4416                               0                                    98   \n",
       "4704                               0                                    98   \n",
       "...                              ...                                   ...   \n",
       "146667                             0                                    98   \n",
       "147180                             0                                    98   \n",
       "148548                             0                                    98   \n",
       "148634                             0                                    98   \n",
       "148833                             0                                    98   \n",
       "\n",
       "        NumberOfDependents  \n",
       "1732                   0.0  \n",
       "2285                   0.0  \n",
       "3883                   0.0  \n",
       "4416                   0.0  \n",
       "4704                   0.0  \n",
       "...                    ...  \n",
       "146667                 0.0  \n",
       "147180                 0.0  \n",
       "148548                 0.0  \n",
       "148634                 0.0  \n",
       "148833                 0.0  \n",
       "\n",
       "[225 rows x 11 columns]"
      ]
     },
     "execution_count": 47,
     "metadata": {},
     "output_type": "execute_result"
    }
   ],
   "source": [
    "data[data.loc[:,\"NumberOfTimes90DaysLate\"]>90]\n",
    "#有225个样本存在这样的情况，并且这些样本，在信誉上并不都是坏客户，因此，我们基本可以判断，这些样本是存在某种异常，应该把它们删除"
   ]
  },
  {
   "cell_type": "code",
   "execution_count": 48,
   "id": "091f39c0",
   "metadata": {},
   "outputs": [
    {
     "name": "stdout",
     "output_type": "stream",
     "text": [
      "<class 'pandas.core.frame.DataFrame'>\n",
      "RangeIndex: 149165 entries, 0 to 149164\n",
      "Data columns (total 11 columns):\n",
      " #   Column                                Non-Null Count   Dtype  \n",
      "---  ------                                --------------   -----  \n",
      " 0   SeriousDlqin2yrs                      149165 non-null  int64  \n",
      " 1   RevolvingUtilizationOfUnsecuredLines  149165 non-null  float64\n",
      " 2   age                                   149165 non-null  int64  \n",
      " 3   NumberOfTime30-59DaysPastDueNotWorse  149165 non-null  int64  \n",
      " 4   DebtRatio                             149165 non-null  float64\n",
      " 5   MonthlyIncome                         149165 non-null  float64\n",
      " 6   NumberOfOpenCreditLinesAndLoans       149165 non-null  int64  \n",
      " 7   NumberOfTimes90DaysLate               149165 non-null  int64  \n",
      " 8   NumberRealEstateLoansOrLines          149165 non-null  int64  \n",
      " 9   NumberOfTime60-89DaysPastDueNotWorse  149165 non-null  int64  \n",
      " 10  NumberOfDependents                    149165 non-null  float64\n",
      "dtypes: float64(4), int64(7)\n",
      "memory usage: 12.5 MB\n"
     ]
    }
   ],
   "source": [
    "data=data[data.loc[:,\"NumberOfTimes90DaysLate\"]<90]\n",
    "data.index=range(data.shape[0])\n",
    "data.info()"
   ]
  },
  {
   "cell_type": "code",
   "execution_count": 49,
   "id": "a7a7013b",
   "metadata": {},
   "outputs": [
    {
     "data": {
      "text/plain": [
       "0         1\n",
       "1         0\n",
       "2         0\n",
       "3         0\n",
       "4         0\n",
       "         ..\n",
       "149160    0\n",
       "149161    0\n",
       "149162    0\n",
       "149163    0\n",
       "149164    0\n",
       "Name: SeriousDlqin2yrs, Length: 149165, dtype: int64"
      ]
     },
     "execution_count": 49,
     "metadata": {},
     "output_type": "execute_result"
    }
   ],
   "source": [
    "#样本不平衡问题\n",
    "#探索标签的分布\n",
    "X=data.iloc[:,1:]\n",
    "y=data.iloc[:,0]\n",
    "y"
   ]
  },
  {
   "cell_type": "code",
   "execution_count": 50,
   "id": "224dc01b",
   "metadata": {},
   "outputs": [
    {
     "data": {
      "text/plain": [
       "0    139292\n",
       "1      9873\n",
       "Name: SeriousDlqin2yrs, dtype: int64"
      ]
     },
     "execution_count": 50,
     "metadata": {},
     "output_type": "execute_result"
    }
   ],
   "source": [
    "y.value_counts()#因为0有139292，1有9873这说明这是严重不均衡的"
   ]
  },
  {
   "cell_type": "code",
   "execution_count": 51,
   "id": "5507916d",
   "metadata": {},
   "outputs": [
    {
     "name": "stdout",
     "output_type": "stream",
     "text": [
      "样本个数：149165;1占6.62%;0占93.38%\n"
     ]
    }
   ],
   "source": [
    "n_sample=X.shape[0]\n",
    "n_l_sample=y.value_counts()[1]\n",
    "n_0_sample=y.value_counts()[0]\n",
    "print('样本个数：{};1占{:.2%};0占{:.2%}'.format(n_sample,n_l_sample/n_sample,n_0_sample/n_sample))"
   ]
  },
  {
   "cell_type": "code",
   "execution_count": 52,
   "id": "a03b7881",
   "metadata": {},
   "outputs": [],
   "source": [
    "#我们发现样本是不平衡的\n",
    "#在逻辑回归中使用最多的是上采样方法来平衡样本\n",
    "#imblearn是专门用来处理不平衡数据集的库，在处理样本不平衡问题中性能高过sklearn很多\n",
    "#imblearn里面也是一个个的类，也需要进行实例化,fit拟合，和sklearn用法类似\n",
    "import imblearn\n",
    "from imblearn.over_sampling import SMOTE\n",
    "sm=SMOTE(random_state=42)#实例化\n",
    "X,y=sm.fit_resample(X,y)\n",
    "n_sample_=X.shape[0]"
   ]
  },
  {
   "cell_type": "code",
   "execution_count": 53,
   "id": "c535abf4",
   "metadata": {},
   "outputs": [
    {
     "data": {
      "text/plain": [
       "(278584, 10)"
      ]
     },
     "execution_count": 53,
     "metadata": {},
     "output_type": "execute_result"
    }
   ],
   "source": [
    "X.shape"
   ]
  },
  {
   "cell_type": "code",
   "execution_count": 54,
   "id": "62f72a06",
   "metadata": {},
   "outputs": [
    {
     "data": {
      "text/plain": [
       "0         1\n",
       "1         0\n",
       "2         0\n",
       "3         0\n",
       "4         0\n",
       "         ..\n",
       "278579    1\n",
       "278580    1\n",
       "278581    1\n",
       "278582    1\n",
       "278583    1\n",
       "Name: SeriousDlqin2yrs, Length: 278584, dtype: int64"
      ]
     },
     "execution_count": 54,
     "metadata": {},
     "output_type": "execute_result"
    }
   ],
   "source": [
    "y"
   ]
  },
  {
   "cell_type": "code",
   "execution_count": 55,
   "id": "db1e20f2",
   "metadata": {},
   "outputs": [
    {
     "data": {
      "text/plain": [
       "0    139292\n",
       "1    139292\n",
       "Name: SeriousDlqin2yrs, dtype: int64"
      ]
     },
     "execution_count": 55,
     "metadata": {},
     "output_type": "execute_result"
    }
   ],
   "source": [
    "pd.Series(y).value_counts()"
   ]
  },
  {
   "cell_type": "code",
   "execution_count": 56,
   "id": "5866f15f",
   "metadata": {},
   "outputs": [
    {
     "name": "stdout",
     "output_type": "stream",
     "text": [
      "样本个数：278584;1占50.00%;0占50.00%\n"
     ]
    }
   ],
   "source": [
    "n_l_sample=pd.Series(y).value_counts()[1]\n",
    "n_0_sample=pd.Series(y).value_counts()[0]\n",
    "print('样本个数：{};1占{:.2%};0占{:.2%}'.format(n_sample_,n_l_sample/n_sample_,n_0_sample/n_sample_))\n",
    "#此时已经平衡了样本"
   ]
  },
  {
   "cell_type": "code",
   "execution_count": 57,
   "id": "17334f62",
   "metadata": {},
   "outputs": [],
   "source": [
    "#分训练集和测试集\n",
    "from sklearn.model_selection import train_test_split\n",
    "X=pd.DataFrame(X)\n",
    "y=pd.DataFrame(y)\n",
    "X_train,X_vali,Y_train,Y_vali=train_test_split(X,y,test_size=0.3,random_state=420)"
   ]
  },
  {
   "cell_type": "code",
   "execution_count": 58,
   "id": "39b53b0b",
   "metadata": {},
   "outputs": [
    {
     "data": {
      "text/html": [
       "<div>\n",
       "<style scoped>\n",
       "    .dataframe tbody tr th:only-of-type {\n",
       "        vertical-align: middle;\n",
       "    }\n",
       "\n",
       "    .dataframe tbody tr th {\n",
       "        vertical-align: top;\n",
       "    }\n",
       "\n",
       "    .dataframe thead th {\n",
       "        text-align: right;\n",
       "    }\n",
       "</style>\n",
       "<table border=\"1\" class=\"dataframe\">\n",
       "  <thead>\n",
       "    <tr style=\"text-align: right;\">\n",
       "      <th></th>\n",
       "      <th>SeriousDlqin2yrs</th>\n",
       "      <th>RevolvingUtilizationOfUnsecuredLines</th>\n",
       "      <th>age</th>\n",
       "      <th>NumberOfTime30-59DaysPastDueNotWorse</th>\n",
       "      <th>DebtRatio</th>\n",
       "      <th>MonthlyIncome</th>\n",
       "      <th>NumberOfOpenCreditLinesAndLoans</th>\n",
       "      <th>NumberOfTimes90DaysLate</th>\n",
       "      <th>NumberRealEstateLoansOrLines</th>\n",
       "      <th>NumberOfTime60-89DaysPastDueNotWorse</th>\n",
       "      <th>NumberOfDependents</th>\n",
       "    </tr>\n",
       "  </thead>\n",
       "  <tbody>\n",
       "    <tr>\n",
       "      <th>81602</th>\n",
       "      <td>0</td>\n",
       "      <td>0.015404</td>\n",
       "      <td>53</td>\n",
       "      <td>0</td>\n",
       "      <td>0.121802</td>\n",
       "      <td>4728.000000</td>\n",
       "      <td>5</td>\n",
       "      <td>0</td>\n",
       "      <td>0</td>\n",
       "      <td>0</td>\n",
       "      <td>0.000000</td>\n",
       "    </tr>\n",
       "    <tr>\n",
       "      <th>149043</th>\n",
       "      <td>0</td>\n",
       "      <td>0.168311</td>\n",
       "      <td>63</td>\n",
       "      <td>0</td>\n",
       "      <td>0.141964</td>\n",
       "      <td>1119.000000</td>\n",
       "      <td>5</td>\n",
       "      <td>0</td>\n",
       "      <td>0</td>\n",
       "      <td>0</td>\n",
       "      <td>0.000000</td>\n",
       "    </tr>\n",
       "    <tr>\n",
       "      <th>215073</th>\n",
       "      <td>1</td>\n",
       "      <td>1.063570</td>\n",
       "      <td>39</td>\n",
       "      <td>1</td>\n",
       "      <td>0.417663</td>\n",
       "      <td>3500.000000</td>\n",
       "      <td>5</td>\n",
       "      <td>1</td>\n",
       "      <td>0</td>\n",
       "      <td>2</td>\n",
       "      <td>3.716057</td>\n",
       "    </tr>\n",
       "    <tr>\n",
       "      <th>66278</th>\n",
       "      <td>0</td>\n",
       "      <td>0.088684</td>\n",
       "      <td>73</td>\n",
       "      <td>0</td>\n",
       "      <td>0.522822</td>\n",
       "      <td>5301.000000</td>\n",
       "      <td>11</td>\n",
       "      <td>0</td>\n",
       "      <td>2</td>\n",
       "      <td>0</td>\n",
       "      <td>0.000000</td>\n",
       "    </tr>\n",
       "    <tr>\n",
       "      <th>157084</th>\n",
       "      <td>1</td>\n",
       "      <td>0.622999</td>\n",
       "      <td>53</td>\n",
       "      <td>0</td>\n",
       "      <td>0.423650</td>\n",
       "      <td>13000.000000</td>\n",
       "      <td>9</td>\n",
       "      <td>0</td>\n",
       "      <td>2</td>\n",
       "      <td>0</td>\n",
       "      <td>0.181999</td>\n",
       "    </tr>\n",
       "    <tr>\n",
       "      <th>...</th>\n",
       "      <td>...</td>\n",
       "      <td>...</td>\n",
       "      <td>...</td>\n",
       "      <td>...</td>\n",
       "      <td>...</td>\n",
       "      <td>...</td>\n",
       "      <td>...</td>\n",
       "      <td>...</td>\n",
       "      <td>...</td>\n",
       "      <td>...</td>\n",
       "      <td>...</td>\n",
       "    </tr>\n",
       "    <tr>\n",
       "      <th>178094</th>\n",
       "      <td>1</td>\n",
       "      <td>0.916269</td>\n",
       "      <td>32</td>\n",
       "      <td>2</td>\n",
       "      <td>0.548132</td>\n",
       "      <td>6000.000000</td>\n",
       "      <td>10</td>\n",
       "      <td>0</td>\n",
       "      <td>1</td>\n",
       "      <td>0</td>\n",
       "      <td>3.966830</td>\n",
       "    </tr>\n",
       "    <tr>\n",
       "      <th>62239</th>\n",
       "      <td>1</td>\n",
       "      <td>0.484728</td>\n",
       "      <td>50</td>\n",
       "      <td>1</td>\n",
       "      <td>0.370603</td>\n",
       "      <td>5258.000000</td>\n",
       "      <td>12</td>\n",
       "      <td>0</td>\n",
       "      <td>1</td>\n",
       "      <td>0</td>\n",
       "      <td>2.000000</td>\n",
       "    </tr>\n",
       "    <tr>\n",
       "      <th>152127</th>\n",
       "      <td>1</td>\n",
       "      <td>0.850447</td>\n",
       "      <td>46</td>\n",
       "      <td>0</td>\n",
       "      <td>0.562610</td>\n",
       "      <td>8000.000000</td>\n",
       "      <td>9</td>\n",
       "      <td>0</td>\n",
       "      <td>1</td>\n",
       "      <td>0</td>\n",
       "      <td>2.768793</td>\n",
       "    </tr>\n",
       "    <tr>\n",
       "      <th>119174</th>\n",
       "      <td>0</td>\n",
       "      <td>1.000000</td>\n",
       "      <td>64</td>\n",
       "      <td>0</td>\n",
       "      <td>0.364694</td>\n",
       "      <td>10309.000000</td>\n",
       "      <td>7</td>\n",
       "      <td>0</td>\n",
       "      <td>3</td>\n",
       "      <td>0</td>\n",
       "      <td>0.000000</td>\n",
       "    </tr>\n",
       "    <tr>\n",
       "      <th>193608</th>\n",
       "      <td>1</td>\n",
       "      <td>0.512881</td>\n",
       "      <td>53</td>\n",
       "      <td>0</td>\n",
       "      <td>1968.401488</td>\n",
       "      <td>0.172907</td>\n",
       "      <td>12</td>\n",
       "      <td>0</td>\n",
       "      <td>1</td>\n",
       "      <td>0</td>\n",
       "      <td>0.000000</td>\n",
       "    </tr>\n",
       "  </tbody>\n",
       "</table>\n",
       "<p>195008 rows × 11 columns</p>\n",
       "</div>"
      ],
      "text/plain": [
       "        SeriousDlqin2yrs  RevolvingUtilizationOfUnsecuredLines  age  \\\n",
       "81602                  0                              0.015404   53   \n",
       "149043                 0                              0.168311   63   \n",
       "215073                 1                              1.063570   39   \n",
       "66278                  0                              0.088684   73   \n",
       "157084                 1                              0.622999   53   \n",
       "...                  ...                                   ...  ...   \n",
       "178094                 1                              0.916269   32   \n",
       "62239                  1                              0.484728   50   \n",
       "152127                 1                              0.850447   46   \n",
       "119174                 0                              1.000000   64   \n",
       "193608                 1                              0.512881   53   \n",
       "\n",
       "        NumberOfTime30-59DaysPastDueNotWorse    DebtRatio  MonthlyIncome  \\\n",
       "81602                                      0     0.121802    4728.000000   \n",
       "149043                                     0     0.141964    1119.000000   \n",
       "215073                                     1     0.417663    3500.000000   \n",
       "66278                                      0     0.522822    5301.000000   \n",
       "157084                                     0     0.423650   13000.000000   \n",
       "...                                      ...          ...            ...   \n",
       "178094                                     2     0.548132    6000.000000   \n",
       "62239                                      1     0.370603    5258.000000   \n",
       "152127                                     0     0.562610    8000.000000   \n",
       "119174                                     0     0.364694   10309.000000   \n",
       "193608                                     0  1968.401488       0.172907   \n",
       "\n",
       "        NumberOfOpenCreditLinesAndLoans  NumberOfTimes90DaysLate  \\\n",
       "81602                                 5                        0   \n",
       "149043                                5                        0   \n",
       "215073                                5                        1   \n",
       "66278                                11                        0   \n",
       "157084                                9                        0   \n",
       "...                                 ...                      ...   \n",
       "178094                               10                        0   \n",
       "62239                                12                        0   \n",
       "152127                                9                        0   \n",
       "119174                                7                        0   \n",
       "193608                               12                        0   \n",
       "\n",
       "        NumberRealEstateLoansOrLines  NumberOfTime60-89DaysPastDueNotWorse  \\\n",
       "81602                              0                                     0   \n",
       "149043                             0                                     0   \n",
       "215073                             0                                     2   \n",
       "66278                              2                                     0   \n",
       "157084                             2                                     0   \n",
       "...                              ...                                   ...   \n",
       "178094                             1                                     0   \n",
       "62239                              1                                     0   \n",
       "152127                             1                                     0   \n",
       "119174                             3                                     0   \n",
       "193608                             1                                     0   \n",
       "\n",
       "        NumberOfDependents  \n",
       "81602             0.000000  \n",
       "149043            0.000000  \n",
       "215073            3.716057  \n",
       "66278             0.000000  \n",
       "157084            0.181999  \n",
       "...                    ...  \n",
       "178094            3.966830  \n",
       "62239             2.000000  \n",
       "152127            2.768793  \n",
       "119174            0.000000  \n",
       "193608            0.000000  \n",
       "\n",
       "[195008 rows x 11 columns]"
      ]
     },
     "execution_count": 58,
     "metadata": {},
     "output_type": "execute_result"
    }
   ],
   "source": [
    "model_data=pd.concat([Y_train,X_train],axis=1)\n",
    "model_data"
   ]
  },
  {
   "cell_type": "code",
   "execution_count": 59,
   "id": "39dd9f81",
   "metadata": {},
   "outputs": [
    {
     "data": {
      "text/html": [
       "<div>\n",
       "<style scoped>\n",
       "    .dataframe tbody tr th:only-of-type {\n",
       "        vertical-align: middle;\n",
       "    }\n",
       "\n",
       "    .dataframe tbody tr th {\n",
       "        vertical-align: top;\n",
       "    }\n",
       "\n",
       "    .dataframe thead th {\n",
       "        text-align: right;\n",
       "    }\n",
       "</style>\n",
       "<table border=\"1\" class=\"dataframe\">\n",
       "  <thead>\n",
       "    <tr style=\"text-align: right;\">\n",
       "      <th></th>\n",
       "      <th>SeriousDlqin2yrs</th>\n",
       "      <th>RevolvingUtilizationOfUnsecuredLines</th>\n",
       "      <th>age</th>\n",
       "      <th>NumberOfTime30-59DaysPastDueNotWorse</th>\n",
       "      <th>DebtRatio</th>\n",
       "      <th>MonthlyIncome</th>\n",
       "      <th>NumberOfOpenCreditLinesAndLoans</th>\n",
       "      <th>NumberOfTimes90DaysLate</th>\n",
       "      <th>NumberRealEstateLoansOrLines</th>\n",
       "      <th>NumberOfTime60-89DaysPastDueNotWorse</th>\n",
       "      <th>NumberOfDependents</th>\n",
       "    </tr>\n",
       "  </thead>\n",
       "  <tbody>\n",
       "    <tr>\n",
       "      <th>0</th>\n",
       "      <td>0</td>\n",
       "      <td>0.015404</td>\n",
       "      <td>53</td>\n",
       "      <td>0</td>\n",
       "      <td>0.121802</td>\n",
       "      <td>4728.000000</td>\n",
       "      <td>5</td>\n",
       "      <td>0</td>\n",
       "      <td>0</td>\n",
       "      <td>0</td>\n",
       "      <td>0.000000</td>\n",
       "    </tr>\n",
       "    <tr>\n",
       "      <th>1</th>\n",
       "      <td>0</td>\n",
       "      <td>0.168311</td>\n",
       "      <td>63</td>\n",
       "      <td>0</td>\n",
       "      <td>0.141964</td>\n",
       "      <td>1119.000000</td>\n",
       "      <td>5</td>\n",
       "      <td>0</td>\n",
       "      <td>0</td>\n",
       "      <td>0</td>\n",
       "      <td>0.000000</td>\n",
       "    </tr>\n",
       "    <tr>\n",
       "      <th>2</th>\n",
       "      <td>1</td>\n",
       "      <td>1.063570</td>\n",
       "      <td>39</td>\n",
       "      <td>1</td>\n",
       "      <td>0.417663</td>\n",
       "      <td>3500.000000</td>\n",
       "      <td>5</td>\n",
       "      <td>1</td>\n",
       "      <td>0</td>\n",
       "      <td>2</td>\n",
       "      <td>3.716057</td>\n",
       "    </tr>\n",
       "    <tr>\n",
       "      <th>3</th>\n",
       "      <td>0</td>\n",
       "      <td>0.088684</td>\n",
       "      <td>73</td>\n",
       "      <td>0</td>\n",
       "      <td>0.522822</td>\n",
       "      <td>5301.000000</td>\n",
       "      <td>11</td>\n",
       "      <td>0</td>\n",
       "      <td>2</td>\n",
       "      <td>0</td>\n",
       "      <td>0.000000</td>\n",
       "    </tr>\n",
       "    <tr>\n",
       "      <th>4</th>\n",
       "      <td>1</td>\n",
       "      <td>0.622999</td>\n",
       "      <td>53</td>\n",
       "      <td>0</td>\n",
       "      <td>0.423650</td>\n",
       "      <td>13000.000000</td>\n",
       "      <td>9</td>\n",
       "      <td>0</td>\n",
       "      <td>2</td>\n",
       "      <td>0</td>\n",
       "      <td>0.181999</td>\n",
       "    </tr>\n",
       "    <tr>\n",
       "      <th>...</th>\n",
       "      <td>...</td>\n",
       "      <td>...</td>\n",
       "      <td>...</td>\n",
       "      <td>...</td>\n",
       "      <td>...</td>\n",
       "      <td>...</td>\n",
       "      <td>...</td>\n",
       "      <td>...</td>\n",
       "      <td>...</td>\n",
       "      <td>...</td>\n",
       "      <td>...</td>\n",
       "    </tr>\n",
       "    <tr>\n",
       "      <th>195003</th>\n",
       "      <td>1</td>\n",
       "      <td>0.916269</td>\n",
       "      <td>32</td>\n",
       "      <td>2</td>\n",
       "      <td>0.548132</td>\n",
       "      <td>6000.000000</td>\n",
       "      <td>10</td>\n",
       "      <td>0</td>\n",
       "      <td>1</td>\n",
       "      <td>0</td>\n",
       "      <td>3.966830</td>\n",
       "    </tr>\n",
       "    <tr>\n",
       "      <th>195004</th>\n",
       "      <td>1</td>\n",
       "      <td>0.484728</td>\n",
       "      <td>50</td>\n",
       "      <td>1</td>\n",
       "      <td>0.370603</td>\n",
       "      <td>5258.000000</td>\n",
       "      <td>12</td>\n",
       "      <td>0</td>\n",
       "      <td>1</td>\n",
       "      <td>0</td>\n",
       "      <td>2.000000</td>\n",
       "    </tr>\n",
       "    <tr>\n",
       "      <th>195005</th>\n",
       "      <td>1</td>\n",
       "      <td>0.850447</td>\n",
       "      <td>46</td>\n",
       "      <td>0</td>\n",
       "      <td>0.562610</td>\n",
       "      <td>8000.000000</td>\n",
       "      <td>9</td>\n",
       "      <td>0</td>\n",
       "      <td>1</td>\n",
       "      <td>0</td>\n",
       "      <td>2.768793</td>\n",
       "    </tr>\n",
       "    <tr>\n",
       "      <th>195006</th>\n",
       "      <td>0</td>\n",
       "      <td>1.000000</td>\n",
       "      <td>64</td>\n",
       "      <td>0</td>\n",
       "      <td>0.364694</td>\n",
       "      <td>10309.000000</td>\n",
       "      <td>7</td>\n",
       "      <td>0</td>\n",
       "      <td>3</td>\n",
       "      <td>0</td>\n",
       "      <td>0.000000</td>\n",
       "    </tr>\n",
       "    <tr>\n",
       "      <th>195007</th>\n",
       "      <td>1</td>\n",
       "      <td>0.512881</td>\n",
       "      <td>53</td>\n",
       "      <td>0</td>\n",
       "      <td>1968.401488</td>\n",
       "      <td>0.172907</td>\n",
       "      <td>12</td>\n",
       "      <td>0</td>\n",
       "      <td>1</td>\n",
       "      <td>0</td>\n",
       "      <td>0.000000</td>\n",
       "    </tr>\n",
       "  </tbody>\n",
       "</table>\n",
       "<p>195008 rows × 11 columns</p>\n",
       "</div>"
      ],
      "text/plain": [
       "        SeriousDlqin2yrs  RevolvingUtilizationOfUnsecuredLines  age  \\\n",
       "0                      0                              0.015404   53   \n",
       "1                      0                              0.168311   63   \n",
       "2                      1                              1.063570   39   \n",
       "3                      0                              0.088684   73   \n",
       "4                      1                              0.622999   53   \n",
       "...                  ...                                   ...  ...   \n",
       "195003                 1                              0.916269   32   \n",
       "195004                 1                              0.484728   50   \n",
       "195005                 1                              0.850447   46   \n",
       "195006                 0                              1.000000   64   \n",
       "195007                 1                              0.512881   53   \n",
       "\n",
       "        NumberOfTime30-59DaysPastDueNotWorse    DebtRatio  MonthlyIncome  \\\n",
       "0                                          0     0.121802    4728.000000   \n",
       "1                                          0     0.141964    1119.000000   \n",
       "2                                          1     0.417663    3500.000000   \n",
       "3                                          0     0.522822    5301.000000   \n",
       "4                                          0     0.423650   13000.000000   \n",
       "...                                      ...          ...            ...   \n",
       "195003                                     2     0.548132    6000.000000   \n",
       "195004                                     1     0.370603    5258.000000   \n",
       "195005                                     0     0.562610    8000.000000   \n",
       "195006                                     0     0.364694   10309.000000   \n",
       "195007                                     0  1968.401488       0.172907   \n",
       "\n",
       "        NumberOfOpenCreditLinesAndLoans  NumberOfTimes90DaysLate  \\\n",
       "0                                     5                        0   \n",
       "1                                     5                        0   \n",
       "2                                     5                        1   \n",
       "3                                    11                        0   \n",
       "4                                     9                        0   \n",
       "...                                 ...                      ...   \n",
       "195003                               10                        0   \n",
       "195004                               12                        0   \n",
       "195005                                9                        0   \n",
       "195006                                7                        0   \n",
       "195007                               12                        0   \n",
       "\n",
       "        NumberRealEstateLoansOrLines  NumberOfTime60-89DaysPastDueNotWorse  \\\n",
       "0                                  0                                     0   \n",
       "1                                  0                                     0   \n",
       "2                                  0                                     2   \n",
       "3                                  2                                     0   \n",
       "4                                  2                                     0   \n",
       "...                              ...                                   ...   \n",
       "195003                             1                                     0   \n",
       "195004                             1                                     0   \n",
       "195005                             1                                     0   \n",
       "195006                             3                                     0   \n",
       "195007                             1                                     0   \n",
       "\n",
       "        NumberOfDependents  \n",
       "0                 0.000000  \n",
       "1                 0.000000  \n",
       "2                 3.716057  \n",
       "3                 0.000000  \n",
       "4                 0.181999  \n",
       "...                    ...  \n",
       "195003            3.966830  \n",
       "195004            2.000000  \n",
       "195005            2.768793  \n",
       "195006            0.000000  \n",
       "195007            0.000000  \n",
       "\n",
       "[195008 rows x 11 columns]"
      ]
     },
     "execution_count": 59,
     "metadata": {},
     "output_type": "execute_result"
    }
   ],
   "source": [
    "model_data.index=range(model_data.shape[0])\n",
    "model_data.columns=data.columns\n",
    "model_data"
   ]
  },
  {
   "cell_type": "code",
   "execution_count": 60,
   "id": "caff2447",
   "metadata": {},
   "outputs": [],
   "source": [
    "vali_data=pd.concat([Y_vali,X_vali],axis=1)\n",
    "vali_data.index=range(vali_data.shape[0])\n",
    "vali_data.columns=data.columns\n",
    "model_data.to_csv(r\"C:\\Users\\hp\\Desktop\\python\\机器学习菜菜\\sklearnjqxx_jb51\\【机器学习】菜菜的sklearn课堂(1-12全课)\\05逻辑回归与评分卡\\model_data.csv\")\n",
    "vali_data.to_csv(r\"C:\\Users\\hp\\Desktop\\python\\机器学习菜菜\\sklearnjqxx_jb51\\【机器学习】菜菜的sklearn课堂(1-12全课)\\05逻辑回归与评分卡\\vali_data.csv\")\n",
    "#反复的copy数据比较麻烦，直接保存成csv文件"
   ]
  },
  {
   "cell_type": "code",
   "execution_count": 61,
   "id": "71e45c6c",
   "metadata": {},
   "outputs": [],
   "source": [
    "#分箱：本质是对特征分档"
   ]
  },
  {
   "cell_type": "code",
   "execution_count": 62,
   "id": "96e01980",
   "metadata": {},
   "outputs": [
    {
     "data": {
      "text/plain": [
       "'\\npd.qcut,基于分位数的分箱函数，本质是将连续型变量离散化\\n只能够处理一维数据，返回箱子的上限和下限\\n参数q:要分箱的个数\\n参数retbins=True来要求同时返回结构为索引的样本索引，元素为分到的箱子的Series\\n现在返回两个值：每个样本属于哪个箱子，以及所有箱子的上限和下限\\n'"
      ]
     },
     "execution_count": 62,
     "metadata": {},
     "output_type": "execute_result"
    }
   ],
   "source": [
    "#首先以“age”为例子\n",
    "#按照等频对需要分箱的列进行分箱\n",
    "model_data[\"qcut\"],updown=pd.qcut(model_data[\"age\"],retbins=True,q=20)\n",
    "\"\"\"\n",
    "pd.qcut,基于分位数的分箱函数，本质是将连续型变量离散化\n",
    "只能够处理一维数据，返回箱子的上限和下限\n",
    "参数q:要分箱的个数\n",
    "参数retbins=True来要求同时返回结构为索引的样本索引，元素为分到的箱子的Series\n",
    "现在返回两个值：每个样本属于哪个箱子，以及所有箱子的上限和下限\n",
    "\"\"\""
   ]
  },
  {
   "cell_type": "code",
   "execution_count": 63,
   "id": "94a3f69e",
   "metadata": {},
   "outputs": [
    {
     "data": {
      "text/plain": [
       "0         (52.0, 54.0]\n",
       "1         (61.0, 64.0]\n",
       "2         (36.0, 39.0]\n",
       "3         (68.0, 74.0]\n",
       "4         (52.0, 54.0]\n",
       "              ...     \n",
       "195003    (31.0, 34.0]\n",
       "195004    (48.0, 50.0]\n",
       "195005    (45.0, 46.0]\n",
       "195006    (61.0, 64.0]\n",
       "195007    (52.0, 54.0]\n",
       "Name: qcut, Length: 195008, dtype: category\n",
       "Categories (20, interval[float64]): [(20.999, 28.0] < (28.0, 31.0] < (31.0, 34.0] < (34.0, 36.0] ... (61.0, 64.0] < (64.0, 68.0] < (68.0, 74.0] < (74.0, 107.0]]"
      ]
     },
     "execution_count": 63,
     "metadata": {},
     "output_type": "execute_result"
    }
   ],
   "source": [
    "#在这里让model_data新添加一列叫“分箱model_data[\"qcut\"]这一列其实就是每个样本所对应的箱子\n",
    "model_data[\"qcut\"]"
   ]
  },
  {
   "cell_type": "code",
   "execution_count": 64,
   "id": "2c86f3e2",
   "metadata": {},
   "outputs": [
    {
     "data": {
      "text/html": [
       "<div>\n",
       "<style scoped>\n",
       "    .dataframe tbody tr th:only-of-type {\n",
       "        vertical-align: middle;\n",
       "    }\n",
       "\n",
       "    .dataframe tbody tr th {\n",
       "        vertical-align: top;\n",
       "    }\n",
       "\n",
       "    .dataframe thead th {\n",
       "        text-align: right;\n",
       "    }\n",
       "</style>\n",
       "<table border=\"1\" class=\"dataframe\">\n",
       "  <thead>\n",
       "    <tr style=\"text-align: right;\">\n",
       "      <th></th>\n",
       "      <th>SeriousDlqin2yrs</th>\n",
       "      <th>RevolvingUtilizationOfUnsecuredLines</th>\n",
       "      <th>age</th>\n",
       "      <th>NumberOfTime30-59DaysPastDueNotWorse</th>\n",
       "      <th>DebtRatio</th>\n",
       "      <th>MonthlyIncome</th>\n",
       "      <th>NumberOfOpenCreditLinesAndLoans</th>\n",
       "      <th>NumberOfTimes90DaysLate</th>\n",
       "      <th>NumberRealEstateLoansOrLines</th>\n",
       "      <th>NumberOfTime60-89DaysPastDueNotWorse</th>\n",
       "      <th>NumberOfDependents</th>\n",
       "      <th>qcut</th>\n",
       "    </tr>\n",
       "  </thead>\n",
       "  <tbody>\n",
       "    <tr>\n",
       "      <th>0</th>\n",
       "      <td>0</td>\n",
       "      <td>0.015404</td>\n",
       "      <td>53</td>\n",
       "      <td>0</td>\n",
       "      <td>0.121802</td>\n",
       "      <td>4728.0</td>\n",
       "      <td>5</td>\n",
       "      <td>0</td>\n",
       "      <td>0</td>\n",
       "      <td>0</td>\n",
       "      <td>0.000000</td>\n",
       "      <td>(52.0, 54.0]</td>\n",
       "    </tr>\n",
       "    <tr>\n",
       "      <th>1</th>\n",
       "      <td>0</td>\n",
       "      <td>0.168311</td>\n",
       "      <td>63</td>\n",
       "      <td>0</td>\n",
       "      <td>0.141964</td>\n",
       "      <td>1119.0</td>\n",
       "      <td>5</td>\n",
       "      <td>0</td>\n",
       "      <td>0</td>\n",
       "      <td>0</td>\n",
       "      <td>0.000000</td>\n",
       "      <td>(61.0, 64.0]</td>\n",
       "    </tr>\n",
       "    <tr>\n",
       "      <th>2</th>\n",
       "      <td>1</td>\n",
       "      <td>1.063570</td>\n",
       "      <td>39</td>\n",
       "      <td>1</td>\n",
       "      <td>0.417663</td>\n",
       "      <td>3500.0</td>\n",
       "      <td>5</td>\n",
       "      <td>1</td>\n",
       "      <td>0</td>\n",
       "      <td>2</td>\n",
       "      <td>3.716057</td>\n",
       "      <td>(36.0, 39.0]</td>\n",
       "    </tr>\n",
       "    <tr>\n",
       "      <th>3</th>\n",
       "      <td>0</td>\n",
       "      <td>0.088684</td>\n",
       "      <td>73</td>\n",
       "      <td>0</td>\n",
       "      <td>0.522822</td>\n",
       "      <td>5301.0</td>\n",
       "      <td>11</td>\n",
       "      <td>0</td>\n",
       "      <td>2</td>\n",
       "      <td>0</td>\n",
       "      <td>0.000000</td>\n",
       "      <td>(68.0, 74.0]</td>\n",
       "    </tr>\n",
       "    <tr>\n",
       "      <th>4</th>\n",
       "      <td>1</td>\n",
       "      <td>0.622999</td>\n",
       "      <td>53</td>\n",
       "      <td>0</td>\n",
       "      <td>0.423650</td>\n",
       "      <td>13000.0</td>\n",
       "      <td>9</td>\n",
       "      <td>0</td>\n",
       "      <td>2</td>\n",
       "      <td>0</td>\n",
       "      <td>0.181999</td>\n",
       "      <td>(52.0, 54.0]</td>\n",
       "    </tr>\n",
       "  </tbody>\n",
       "</table>\n",
       "</div>"
      ],
      "text/plain": [
       "   SeriousDlqin2yrs  RevolvingUtilizationOfUnsecuredLines  age  \\\n",
       "0                 0                              0.015404   53   \n",
       "1                 0                              0.168311   63   \n",
       "2                 1                              1.063570   39   \n",
       "3                 0                              0.088684   73   \n",
       "4                 1                              0.622999   53   \n",
       "\n",
       "   NumberOfTime30-59DaysPastDueNotWorse  DebtRatio  MonthlyIncome  \\\n",
       "0                                     0   0.121802         4728.0   \n",
       "1                                     0   0.141964         1119.0   \n",
       "2                                     1   0.417663         3500.0   \n",
       "3                                     0   0.522822         5301.0   \n",
       "4                                     0   0.423650        13000.0   \n",
       "\n",
       "   NumberOfOpenCreditLinesAndLoans  NumberOfTimes90DaysLate  \\\n",
       "0                                5                        0   \n",
       "1                                5                        0   \n",
       "2                                5                        1   \n",
       "3                               11                        0   \n",
       "4                                9                        0   \n",
       "\n",
       "   NumberRealEstateLoansOrLines  NumberOfTime60-89DaysPastDueNotWorse  \\\n",
       "0                             0                                     0   \n",
       "1                             0                                     0   \n",
       "2                             0                                     2   \n",
       "3                             2                                     0   \n",
       "4                             2                                     0   \n",
       "\n",
       "   NumberOfDependents          qcut  \n",
       "0            0.000000  (52.0, 54.0]  \n",
       "1            0.000000  (61.0, 64.0]  \n",
       "2            3.716057  (36.0, 39.0]  \n",
       "3            0.000000  (68.0, 74.0]  \n",
       "4            0.181999  (52.0, 54.0]  "
      ]
     },
     "execution_count": 64,
     "metadata": {},
     "output_type": "execute_result"
    }
   ],
   "source": [
    "model_data.head()"
   ]
  },
  {
   "cell_type": "code",
   "execution_count": 65,
   "id": "6df70626",
   "metadata": {},
   "outputs": [
    {
     "data": {
      "text/plain": [
       "array([ 21.,  28.,  31.,  34.,  36.,  39.,  41.,  43.,  45.,  46.,  48.,\n",
       "        50.,  52.,  54.,  56.,  58.,  61.,  64.,  68.,  74., 107.])"
      ]
     },
     "execution_count": 65,
     "metadata": {},
     "output_type": "execute_result"
    }
   ],
   "source": [
    "#所有箱子的上限和下限\n",
    "updown#20个箱子的上限和下限"
   ]
  },
  {
   "cell_type": "code",
   "execution_count": 66,
   "id": "fabc0ea4",
   "metadata": {},
   "outputs": [],
   "source": [
    "#统计每个分箱中0和1的数量\n",
    "#这里使用了数据透视表的功能groupby\n",
    "coount_y0=model_data[model_data[\"SeriousDlqin2yrs\"]==0].groupby(by=\"qcut\").count()[\"SeriousDlqin2yrs\"]\n",
    "#按照qcut进行聚合求总数"
   ]
  },
  {
   "cell_type": "code",
   "execution_count": 67,
   "id": "aa69c249",
   "metadata": {},
   "outputs": [],
   "source": [
    "coount_y1=model_data[model_data[\"SeriousDlqin2yrs\"]==1].groupby(by=\"qcut\").count()[\"SeriousDlqin2yrs\"]"
   ]
  },
  {
   "cell_type": "code",
   "execution_count": 68,
   "id": "3c8c4e68",
   "metadata": {},
   "outputs": [],
   "source": [
    "#num_bins值分别为每个区间的上界，下界，0出现的次数，1出现的次数\n",
    "num_bins=[*zip(updown,updown[1:],coount_y0,coount_y1)]\n",
    "#注意：zip会按照最短列来进行结合\n",
    "##[*zip([1,2,3],[\"a\",\"b\",\"c\",\"d\"])]返回[(1, 'a'), (2, 'b'), (3, 'c')]"
   ]
  },
  {
   "cell_type": "code",
   "execution_count": 69,
   "id": "d5e0ad8f",
   "metadata": {},
   "outputs": [],
   "source": [
    "#[*zip([1,2,3],[\"a\",\"b\",\"c\"])]返回[(1, 'a'), (2, 'b'), (3, 'c')]"
   ]
  },
  {
   "cell_type": "code",
   "execution_count": 70,
   "id": "532c3a6a",
   "metadata": {},
   "outputs": [
    {
     "data": {
      "text/plain": [
       "[(21.0, 28.0, 4243, 7500),\n",
       " (28.0, 31.0, 3571, 5903),\n",
       " (31.0, 34.0, 4075, 6798),\n",
       " (34.0, 36.0, 2908, 4592),\n",
       " (36.0, 39.0, 5182, 7511),\n",
       " (39.0, 41.0, 3956, 5847),\n",
       " (41.0, 43.0, 4002, 5704),\n",
       " (43.0, 45.0, 4389, 5949),\n",
       " (45.0, 46.0, 2419, 3259),\n",
       " (46.0, 48.0, 4813, 6189),\n",
       " (48.0, 50.0, 4900, 6223),\n",
       " (50.0, 52.0, 4728, 5813),\n",
       " (52.0, 54.0, 4681, 5006),\n",
       " (54.0, 56.0, 4677, 4015),\n",
       " (56.0, 58.0, 4483, 3411),\n",
       " (58.0, 61.0, 6583, 4799),\n",
       " (61.0, 64.0, 6968, 3196),\n",
       " (64.0, 68.0, 6623, 2293),\n",
       " (68.0, 74.0, 6753, 1933),\n",
       " (74.0, 107.0, 7737, 1376)]"
      ]
     },
     "execution_count": 70,
     "metadata": {},
     "output_type": "execute_result"
    }
   ],
   "source": [
    "num_bins\n",
    "#有了这个num_bins再进行计算IV的值就很容易了\n",
    "#IV=西格玛1-N(good%-bad%)*WOEi   (WOEi=ln(good%/bad% ))"
   ]
  },
  {
   "cell_type": "code",
   "execution_count": 71,
   "id": "71409a85",
   "metadata": {},
   "outputs": [],
   "source": [
    "#检验确保每个箱中都有0和1（本例中不需要，这段代码作用是检验0和1）\n",
    "for i in range(20):\n",
    "    #如果第一组没有包含正样本或负样本，向后合并\n",
    "    if 0 in num_bins[0][2:]:\n",
    "        num_bins[0:2]=[(num_bins[0][0],num_bins[1][1],num_bins[0][2]+num_bins[1][2],num_bins[0][3]+num_bins[1][3])]\n",
    "        continue\n",
    "    \"\"\"\n",
    "    合并后，第一行的组是否一定就有两种样本了呢？不一定\n",
    "    如果原本的第一组和第二组都没有包含正样本，或者都没有包含负样本，那即便合并后\n",
    "    第一行的组也没有包含两种样本\n",
    "    \n",
    "    所以我们在每次合并完毕之后，还需要检查一下，第一组是否已经包含了两种样本\n",
    "    这里使用continue跳出本次循环，开始下一个循环，所以回到了最开始的for i in range(20)\n",
    "    让i+1\n",
    "    \n",
    "    这就跳过了下面的代码，又从头开始检查，第一组是否包含了两种样本\n",
    "    如果第一组中依然没有包含两种样本，则if通过，继续合并，每合并一次就会循环检查一次\n",
    "    最多合并20次\n",
    "    如果第一组已经包含两种样本，则if不通过，就开始执行下面的代码\n",
    "    \"\"\"\n",
    "    #已经确认第一组中肯定 包含两种样本了，如果其他组没有包含两种样本，就向前合并\n",
    "    #此时的num_bind已经被上面的代码处理过，可能被合并过，也可能没有被合并\n",
    "    #但无论如何，我们要在num_bins中遍历，所以写成in range(len(num_bins))\n",
    "    for i in range(len(num_bins)):\n",
    "        if 0 in num_bins[i][2:]:\n",
    "            num_bins[i-1:i+1]=[(num_bins[i-1][0],num_bins[i][1]\n",
    "                           ,num_bins[i-1][2]+num_bins[i][2]\n",
    "                           ,num_bins[i-1][3]+num_bins[i][3])]\n",
    "            break\n",
    "            #如果对第一组和对后面所以组的判断中都没有进入if合并，则提前结束所以的循环\n",
    "    \n",
    "    else:\n",
    "        break\n",
    "    \"\"\"\n",
    "    这个break，只有在if被满足的条件下才会触发\n",
    "    也就是说，只有在发生了合并，才会打断for i in range(len(num_bins))这个循环\n",
    "    为什么要打断这个循环？因为我们是在range(len(num_bins))中遍历\n",
    "    但合并发生后，len(num_bins)发生了改变，但循环却不会重新开始\n",
    "    \n",
    "    举个例子：\n",
    "    本来num_bins是5组，for i in range(len(num_bins))在第一次运行的时候就等于for i in range(5)\n",
    "    range中输入的变量会转换成数字，不会跟着num_bins的变化而变化，所以i会永远在[0,1,2,3,4]\n",
    "    中遍历\n",
    "    \n",
    "    进行合并后，num_bins变成了4组，已经不存在=4的索引了，但i却依然会取到4,循环就会报错\n",
    "    因此在这里，一旦if被触发，即一旦合并发生，我们就让循环被破坏，使用break跳出当前循环\n",
    "    循环就会回到最开始的for i in range(20)中\n",
    "    此时判断第一组是否有两种标签的代码就不会被触发，但for i in range(len(num_bins))却被重新运行\n",
    "    这样就更新了i的取值，循环就不会报错了\n",
    "    \"\"\""
   ]
  },
  {
   "cell_type": "code",
   "execution_count": 72,
   "id": "c84a5223",
   "metadata": {},
   "outputs": [],
   "source": [
    "#定义WOE和IV函数\n",
    "#BAD RATE与bad%不是一个东西\n",
    "#BAD RATE是一个箱中，坏的样本所占的比例（bad/total）\n",
    "#而bad%是一个箱中的坏样本占整个特征中的坏样本的比例\n",
    "def get_woe(num_bins):\n",
    "    #通过num_bins数据计算woe\n",
    "    columns=['min','max','count_0','count_1']\n",
    "    df=pd.DataFrame(num_bins,columns=columns)\n",
    "    df['total']=df.count_0+df.count_1#一个箱中所有的样本数\n",
    "    df['percentage']=df.total/df.total.sum()#一个箱中样本数占所有样本数的比例\n",
    "    df['bad_rate']=df.count_1/df.total\n",
    "    df['good%']=df.count_0/df.count_0.sum()\n",
    "    df['bad%']=df.count_1/df.count_1.sum()\n",
    "    df['woe']=np.log(df['good%']/df['bad%'])\n",
    "    return df\n",
    "#计算IV值\n",
    "def get_iv(df):\n",
    "    rate=df['good%']-df['bad%']\n",
    "    iv=np.sum(rate*df.woe)\n",
    "    return iv\n",
    "\n"
   ]
  },
  {
   "cell_type": "code",
   "execution_count": null,
   "id": "b029d154",
   "metadata": {},
   "outputs": [],
   "source": []
  },
  {
   "cell_type": "code",
   "execution_count": 73,
   "id": "f1f6f7bc",
   "metadata": {},
   "outputs": [],
   "source": [
    "#卡方检验\n",
    "num_bins_=num_bins.copy()\n",
    "import matplotlib.pyplot as plt\n",
    "import scipy"
   ]
  },
  {
   "cell_type": "code",
   "execution_count": 74,
   "id": "dc91fea2",
   "metadata": {},
   "outputs": [
    {
     "data": {
      "text/plain": [
       "[(21.0, 28.0, 4243, 7500),\n",
       " (28.0, 31.0, 3571, 5903),\n",
       " (31.0, 34.0, 4075, 6798),\n",
       " (34.0, 36.0, 2908, 4592),\n",
       " (36.0, 39.0, 5182, 7511),\n",
       " (39.0, 41.0, 3956, 5847),\n",
       " (41.0, 43.0, 4002, 5704),\n",
       " (43.0, 45.0, 4389, 5949),\n",
       " (45.0, 46.0, 2419, 3259),\n",
       " (46.0, 48.0, 4813, 6189),\n",
       " (48.0, 50.0, 4900, 6223),\n",
       " (50.0, 52.0, 4728, 5813),\n",
       " (52.0, 54.0, 4681, 5006),\n",
       " (54.0, 56.0, 4677, 4015),\n",
       " (56.0, 58.0, 4483, 3411),\n",
       " (58.0, 61.0, 6583, 4799),\n",
       " (61.0, 64.0, 6968, 3196),\n",
       " (64.0, 68.0, 6623, 2293),\n",
       " (68.0, 74.0, 6753, 1933),\n",
       " (74.0, 107.0, 7737, 1376)]"
      ]
     },
     "execution_count": 74,
     "metadata": {},
     "output_type": "execute_result"
    }
   ],
   "source": [
    "num_bins_"
   ]
  },
  {
   "cell_type": "code",
   "execution_count": 75,
   "id": "e8dcc909",
   "metadata": {},
   "outputs": [
    {
     "data": {
      "image/png": "[encoded data removed]",
      "text/plain": [
       "<Figure size 432x288 with 1 Axes>"
      ]
     },
     "metadata": {
      "needs_background": "light"
     },
     "output_type": "display_data"
    }
   ],
   "source": [
    "IV=[]\n",
    "axisx=[]\n",
    "while len(num_bins_)>2:\n",
    "    #2代表最后合并的分箱为2组\n",
    "    pvs=[]\n",
    "    #获取num_bins_两两之间的卡方检验的置信度（或卡方值）\n",
    "    for i in range(len(num_bins_)-1):\n",
    "        x1=num_bins_[i][2:]\n",
    "        x2=num_bins_[i+1][2:]\n",
    "        #0返回chi2值，1返回p值\n",
    "        pv=scipy.stats.chi2_contingency([x1,x2])[1]\n",
    "        #chi2=scipy.stats.chi2_contingency([x1,x2])[0]\n",
    "        pvs.append(pv)\n",
    "    #通过p值进行处理。合并p值最大的两组\n",
    "    i=pvs.index(max(pvs))\n",
    "    num_bins_[i:i+2]=[(num_bins_[i][0]\n",
    "                      ,num_bins_[i+1][1]\n",
    "                      ,num_bins_[i][2]+num_bins_[i+1][2]\n",
    "                      ,num_bins_[i][3]+num_bins_[i+1][3])]\n",
    "    bins_df=get_woe(num_bins_)\n",
    "    axisx.append(len(num_bins_))\n",
    "    IV.append(get_iv(bins_df))\n",
    "plt.figure()\n",
    "plt.plot(axisx,IV)\n",
    "plt.xticks(axisx)\n",
    "plt.xlabel(\"number of box\")\n",
    "plt.ylabel(\"IV\")\n",
    "plt.show()\n",
    "#选下坠最快的那个转折点：这张图当中是5-6的位置"
   ]
  },
  {
   "cell_type": "code",
   "execution_count": 76,
   "id": "88b4cead",
   "metadata": {},
   "outputs": [
    {
     "data": {
      "text/plain": [
       "[(21.0, 36.0, 14797, 24793),\n",
       " (36.0, 54.0, 39070, 51501),\n",
       " (54.0, 61.0, 15743, 12225),\n",
       " (61.0, 64.0, 6968, 3196),\n",
       " (64.0, 74.0, 13376, 4226),\n",
       " (74.0, 107.0, 7737, 1376)]"
      ]
     },
     "execution_count": 76,
     "metadata": {},
     "output_type": "execute_result"
    }
   ],
   "source": [
    "#用最佳分箱个数分箱，并验证分箱结果\n",
    "def get_bin(num_bins_,n):\n",
    "    while len(num_bins_) > n:\n",
    "        pvs = []\n",
    "        for i in range(len(num_bins_)-1):\n",
    "            x1 = num_bins_[i][2:]\n",
    "            x2 = num_bins_[i+1][2:]\n",
    "            pv = scipy.stats.chi2_contingency([x1,x2])[1]\n",
    "            # chi2 = scipy.stats.chi2_contingency([x1,x2])[0]\n",
    "            pvs.append(pv)\n",
    "\n",
    "        i = pvs.index(max(pvs))\n",
    "        num_bins_[i:i+2] = [(\n",
    "                num_bins_[i][0],\n",
    "                num_bins_[i+1][1],\n",
    "                num_bins_[i][2]+num_bins_[i+1][2],\n",
    "                num_bins_[i][3]+num_bins_[i+1][3])]\n",
    "    return num_bins_\n",
    " \n",
    "afterbins = get_bin(num_bins,6)\n",
    " \n",
    "afterbins"
   ]
  },
  {
   "cell_type": "code",
   "execution_count": 78,
   "id": "fa08d442",
   "metadata": {},
   "outputs": [
    {
     "data": {
      "text/html": [
       "<div>\n",
       "<style scoped>\n",
       "    .dataframe tbody tr th:only-of-type {\n",
       "        vertical-align: middle;\n",
       "    }\n",
       "\n",
       "    .dataframe tbody tr th {\n",
       "        vertical-align: top;\n",
       "    }\n",
       "\n",
       "    .dataframe thead th {\n",
       "        text-align: right;\n",
       "    }\n",
       "</style>\n",
       "<table border=\"1\" class=\"dataframe\">\n",
       "  <thead>\n",
       "    <tr style=\"text-align: right;\">\n",
       "      <th></th>\n",
       "      <th>min</th>\n",
       "      <th>max</th>\n",
       "      <th>count_0</th>\n",
       "      <th>count_1</th>\n",
       "      <th>total</th>\n",
       "      <th>percentage</th>\n",
       "      <th>bad_rate</th>\n",
       "      <th>good%</th>\n",
       "      <th>bad%</th>\n",
       "      <th>woe</th>\n",
       "    </tr>\n",
       "  </thead>\n",
       "  <tbody>\n",
       "    <tr>\n",
       "      <th>0</th>\n",
       "      <td>21.0</td>\n",
       "      <td>36.0</td>\n",
       "      <td>14797</td>\n",
       "      <td>24793</td>\n",
       "      <td>39590</td>\n",
       "      <td>0.203017</td>\n",
       "      <td>0.626244</td>\n",
       "      <td>0.151467</td>\n",
       "      <td>0.254765</td>\n",
       "      <td>-0.519973</td>\n",
       "    </tr>\n",
       "    <tr>\n",
       "      <th>1</th>\n",
       "      <td>36.0</td>\n",
       "      <td>54.0</td>\n",
       "      <td>39070</td>\n",
       "      <td>51501</td>\n",
       "      <td>90571</td>\n",
       "      <td>0.464448</td>\n",
       "      <td>0.568626</td>\n",
       "      <td>0.399934</td>\n",
       "      <td>0.529209</td>\n",
       "      <td>-0.280082</td>\n",
       "    </tr>\n",
       "    <tr>\n",
       "      <th>2</th>\n",
       "      <td>54.0</td>\n",
       "      <td>61.0</td>\n",
       "      <td>15743</td>\n",
       "      <td>12225</td>\n",
       "      <td>27968</td>\n",
       "      <td>0.143420</td>\n",
       "      <td>0.437107</td>\n",
       "      <td>0.161151</td>\n",
       "      <td>0.125620</td>\n",
       "      <td>0.249077</td>\n",
       "    </tr>\n",
       "    <tr>\n",
       "      <th>3</th>\n",
       "      <td>61.0</td>\n",
       "      <td>64.0</td>\n",
       "      <td>6968</td>\n",
       "      <td>3196</td>\n",
       "      <td>10164</td>\n",
       "      <td>0.052121</td>\n",
       "      <td>0.314443</td>\n",
       "      <td>0.071327</td>\n",
       "      <td>0.032841</td>\n",
       "      <td>0.775592</td>\n",
       "    </tr>\n",
       "    <tr>\n",
       "      <th>4</th>\n",
       "      <td>64.0</td>\n",
       "      <td>74.0</td>\n",
       "      <td>13376</td>\n",
       "      <td>4226</td>\n",
       "      <td>17602</td>\n",
       "      <td>0.090263</td>\n",
       "      <td>0.240086</td>\n",
       "      <td>0.136922</td>\n",
       "      <td>0.043425</td>\n",
       "      <td>1.148370</td>\n",
       "    </tr>\n",
       "    <tr>\n",
       "      <th>5</th>\n",
       "      <td>74.0</td>\n",
       "      <td>107.0</td>\n",
       "      <td>7737</td>\n",
       "      <td>1376</td>\n",
       "      <td>9113</td>\n",
       "      <td>0.046731</td>\n",
       "      <td>0.150993</td>\n",
       "      <td>0.079199</td>\n",
       "      <td>0.014139</td>\n",
       "      <td>1.722998</td>\n",
       "    </tr>\n",
       "  </tbody>\n",
       "</table>\n",
       "</div>"
      ],
      "text/plain": [
       "    min    max  count_0  count_1  total  percentage  bad_rate     good%  \\\n",
       "0  21.0   36.0    14797    24793  39590    0.203017  0.626244  0.151467   \n",
       "1  36.0   54.0    39070    51501  90571    0.464448  0.568626  0.399934   \n",
       "2  54.0   61.0    15743    12225  27968    0.143420  0.437107  0.161151   \n",
       "3  61.0   64.0     6968     3196  10164    0.052121  0.314443  0.071327   \n",
       "4  64.0   74.0    13376     4226  17602    0.090263  0.240086  0.136922   \n",
       "5  74.0  107.0     7737     1376   9113    0.046731  0.150993  0.079199   \n",
       "\n",
       "       bad%       woe  \n",
       "0  0.254765 -0.519973  \n",
       "1  0.529209 -0.280082  \n",
       "2  0.125620  0.249077  \n",
       "3  0.032841  0.775592  \n",
       "4  0.043425  1.148370  \n",
       "5  0.014139  1.722998  "
      ]
     },
     "execution_count": 78,
     "metadata": {},
     "output_type": "execute_result"
    }
   ],
   "source": [
    "bins_df=get_woe(afterbins)\n",
    "bins_df"
   ]
  },
  {
   "cell_type": "code",
   "execution_count": 79,
   "id": "c4363a18",
   "metadata": {},
   "outputs": [],
   "source": [
    "#现在就完成了age的分箱，得到了每个分箱的woe\n",
    "#接下来将最佳分箱个数的过程包装成函数，一次性对所有的特征画IV曲线，然后将所有特征都分箱\n",
    "def graphforbestbin(DF,X,Y,n=5,q=20,graph=True):\n",
    "    \"\"\"\n",
    "    自动优化分箱函数，基于卡方分箱\n",
    "    参数：\n",
    "    DF：需要输入的数据\n",
    "    X：需要分箱的列名\n",
    "    Y：分箱数据对应的标签Y列名\n",
    "    n：保留分箱个数\n",
    "    q:初始分箱的个数\n",
    "    graph：是否画出IV图像\n",
    "    区间为左开右闭(]\n",
    "    \"\"\"\n",
    "    DF = DF[[X,Y]].copy()\n",
    "\n",
    "    DF[\"qcut\"],bins = pd.qcut(DF[X], retbins=True, q=q,duplicates=\"drop\")\n",
    "    coount_y0 = DF.loc[DF[Y]==0].groupby(by=\"qcut\").count()[Y]\n",
    "    coount_y1 = DF.loc[DF[Y]==1].groupby(by=\"qcut\").count()[Y]\n",
    "    num_bins = [*zip(bins,bins[1:],coount_y0,coount_y1)]\n",
    "\n",
    "    for i in range(q):\n",
    "        if 0 in num_bins[0][2:]:\n",
    "            num_bins[0:2] = [(\n",
    "                num_bins[0][0],\n",
    "                num_bins[1][1],\n",
    "                num_bins[0][2]+num_bins[1][2],\n",
    "                num_bins[0][3]+num_bins[1][3])]\n",
    "            continue\n",
    "\n",
    "        for i in range(len(num_bins)):\n",
    "            if 0 in num_bins[i][2:]:\n",
    "                num_bins[i-1:i+1] = [(\n",
    "                    num_bins[i-1][0],\n",
    "                    num_bins[i][1],\n",
    "                    num_bins[i-1][2]+num_bins[i][2],\n",
    "                    num_bins[i-1][3]+num_bins[i][3])]\n",
    "                break\n",
    "        else:\n",
    "            break\n",
    "\n",
    "    def get_woe(num_bins):\n",
    "        columns = [\"min\",\"max\",\"count_0\",\"count_1\"]\n",
    "        df = pd.DataFrame(num_bins,columns=columns)\n",
    "        df[\"total\"] = df.count_0 + df.count_1\n",
    "        df[\"percentage\"] = df.total / df.total.sum()\n",
    "        df[\"bad_rate\"] = df.count_1 / df.total\n",
    "        df[\"good%\"] = df.count_0/df.count_0.sum()\n",
    "        df[\"bad%\"] = df.count_1/df.count_1.sum()\n",
    "        df[\"woe\"] = np.log(df[\"good%\"] / df[\"bad%\"])\n",
    "        return df\n",
    "\n",
    "    def get_iv(df):\n",
    "        rate = df[\"good%\"] - df[\"bad%\"]\n",
    "        iv = np.sum(rate * df.woe)\n",
    "        return iv\n",
    "\n",
    "    IV = []\n",
    "    axisx = []\n",
    "    while len(num_bins) > n:\n",
    "        pvs = []\n",
    "        for i in range(len(num_bins)-1):\n",
    "            x1 = num_bins[i][2:]\n",
    "            x2 = num_bins[i+1][2:]\n",
    "            pv = scipy.stats.chi2_contingency([x1,x2])[1]\n",
    "            pvs.append(pv)\n",
    "\n",
    "        i = pvs.index(max(pvs))\n",
    "        num_bins[i:i+2] = [(\n",
    "            num_bins[i][0],\n",
    "            num_bins[i+1][1],\n",
    "            num_bins[i][2]+num_bins[i+1][2],\n",
    "            num_bins[i][3]+num_bins[i+1][3])]\n",
    "\n",
    "        bins_df_ = pd.DataFrame(get_woe(num_bins))\n",
    "        axisx.append(len(num_bins))\n",
    "        IV.append(get_iv(bins_df_))\n",
    "        finalbinsdf=get_woe(num_bins)\n",
    "    if graph:\n",
    "        plt.figure()\n",
    "        plt.plot(axisx,IV)\n",
    "        plt.xticks(axisx)\n",
    "        plt.xlabel(\"number of box\")\n",
    "        plt.ylabel(\"IV\")\n",
    "        plt.show()\n",
    "    return finalbinsdf"
   ]
  },
  {
   "cell_type": "code",
   "execution_count": 80,
   "id": "30b01e1e",
   "metadata": {},
   "outputs": [
    {
     "data": {
      "text/plain": [
       "Index(['SeriousDlqin2yrs', 'RevolvingUtilizationOfUnsecuredLines', 'age',\n",
       "       'NumberOfTime30-59DaysPastDueNotWorse', 'DebtRatio', 'MonthlyIncome',\n",
       "       'NumberOfOpenCreditLinesAndLoans', 'NumberOfTimes90DaysLate',\n",
       "       'NumberRealEstateLoansOrLines', 'NumberOfTime60-89DaysPastDueNotWorse',\n",
       "       'NumberOfDependents', 'qcut'],\n",
       "      dtype='object')"
      ]
     },
     "execution_count": 80,
     "metadata": {},
     "output_type": "execute_result"
    }
   ],
   "source": [
    "model_data.columns#第一列和最后一列不需要（SeriousDlqin2yrs是标签，qcut是刚才age时候做的分箱加的一列）"
   ]
  },
  {
   "cell_type": "code",
   "execution_count": 81,
   "id": "1f20a5df",
   "metadata": {},
   "outputs": [
    {
     "name": "stdout",
     "output_type": "stream",
     "text": [
      "RevolvingUtilizationOfUnsecuredLines\n"
     ]
    },
    {
     "data": {
      "image/png": "[encoded data removed]",
      "text/plain": [
       "<Figure size 432x288 with 1 Axes>"
      ]
     },
     "metadata": {
      "needs_background": "light"
     },
     "output_type": "display_data"
    },
    {
     "name": "stdout",
     "output_type": "stream",
     "text": [
      "age\n"
     ]
    },
    {
     "data": {
      "image/png": "[encoded data removed]",
      "text/plain": [
       "<Figure size 432x288 with 1 Axes>"
      ]
     },
     "metadata": {
      "needs_background": "light"
     },
     "output_type": "display_data"
    },
    {
     "name": "stdout",
     "output_type": "stream",
     "text": [
      "NumberOfTime30-59DaysPastDueNotWorse\n"
     ]
    },
    {
     "data": {
      "image/png": "[encoded data removed]",
      "text/plain": [
       "<Figure size 432x288 with 1 Axes>"
      ]
     },
     "metadata": {
      "needs_background": "light"
     },
     "output_type": "display_data"
    },
    {
     "name": "stdout",
     "output_type": "stream",
     "text": [
      "DebtRatio\n"
     ]
    },
    {
     "data": {
      "image/png": "[encoded data removed]",
      "text/plain": [
       "<Figure size 432x288 with 1 Axes>"
      ]
     },
     "metadata": {
      "needs_background": "light"
     },
     "output_type": "display_data"
    },
    {
     "name": "stdout",
     "output_type": "stream",
     "text": [
      "MonthlyIncome\n"
     ]
    },
    {
     "data": {
      "image/png": "[encoded data removed]",
      "text/plain": [
       "<Figure size 432x288 with 1 Axes>"
      ]
     },
     "metadata": {
      "needs_background": "light"
     },
     "output_type": "display_data"
    },
    {
     "name": "stdout",
     "output_type": "stream",
     "text": [
      "NumberOfOpenCreditLinesAndLoans\n"
     ]
    },
    {
     "data": {
      "image/png": "[encoded data removed]",
      "text/plain": [
       "<Figure size 432x288 with 1 Axes>"
      ]
     },
     "metadata": {
      "needs_background": "light"
     },
     "output_type": "display_data"
    },
    {
     "name": "stdout",
     "output_type": "stream",
     "text": [
      "NumberOfTimes90DaysLate\n"
     ]
    },
    {
     "data": {
      "image/png": "[encoded data removed]",
      "text/plain": [
       "<Figure size 432x288 with 1 Axes>"
      ]
     },
     "metadata": {
      "needs_background": "light"
     },
     "output_type": "display_data"
    },
    {
     "name": "stdout",
     "output_type": "stream",
     "text": [
      "NumberRealEstateLoansOrLines\n"
     ]
    },
    {
     "data": {
      "image/png": "[encoded data removed]",
      "text/plain": [
       "<Figure size 432x288 with 1 Axes>"
      ]
     },
     "metadata": {
      "needs_background": "light"
     },
     "output_type": "display_data"
    },
    {
     "name": "stdout",
     "output_type": "stream",
     "text": [
      "NumberOfTime60-89DaysPastDueNotWorse\n"
     ]
    },
    {
     "data": {
      "image/png": "[encoded data removed]",
      "text/plain": [
       "<Figure size 432x288 with 1 Axes>"
      ]
     },
     "metadata": {
      "needs_background": "light"
     },
     "output_type": "display_data"
    },
    {
     "ename": "UnboundLocalError",
     "evalue": "local variable 'finalbinsdf' referenced before assignment",
     "output_type": "error",
     "traceback": [
      "\u001b[1;31m---------------------------------------------------------------------------\u001b[0m",
      "\u001b[1;31mUnboundLocalError\u001b[0m                         Traceback (most recent call last)",
      "\u001b[1;32m<ipython-input-81-0e1bda54f20f>\u001b[0m in \u001b[0;36m<module>\u001b[1;34m\u001b[0m\n\u001b[0;32m      1\u001b[0m \u001b[1;32mfor\u001b[0m \u001b[0mi\u001b[0m \u001b[1;32min\u001b[0m \u001b[0mmodel_data\u001b[0m\u001b[1;33m.\u001b[0m\u001b[0mcolumns\u001b[0m\u001b[1;33m[\u001b[0m\u001b[1;36m1\u001b[0m\u001b[1;33m:\u001b[0m\u001b[1;33m-\u001b[0m\u001b[1;36m1\u001b[0m\u001b[1;33m]\u001b[0m\u001b[1;33m:\u001b[0m\u001b[1;33m\u001b[0m\u001b[1;33m\u001b[0m\u001b[0m\n\u001b[0;32m      2\u001b[0m     \u001b[0mprint\u001b[0m\u001b[1;33m(\u001b[0m\u001b[0mi\u001b[0m\u001b[1;33m)\u001b[0m\u001b[1;33m\u001b[0m\u001b[1;33m\u001b[0m\u001b[0m\n\u001b[1;32m----> 3\u001b[1;33m     \u001b[0mgraphforbestbin\u001b[0m\u001b[1;33m(\u001b[0m\u001b[0mmodel_data\u001b[0m\u001b[1;33m,\u001b[0m\u001b[0mi\u001b[0m\u001b[1;33m,\u001b[0m\u001b[1;34m\"SeriousDlqin2yrs\"\u001b[0m\u001b[1;33m,\u001b[0m\u001b[0mn\u001b[0m\u001b[1;33m=\u001b[0m\u001b[1;36m2\u001b[0m\u001b[1;33m,\u001b[0m\u001b[0mq\u001b[0m\u001b[1;33m=\u001b[0m\u001b[1;36m20\u001b[0m\u001b[1;33m,\u001b[0m\u001b[0mgraph\u001b[0m\u001b[1;33m=\u001b[0m\u001b[1;32mTrue\u001b[0m\u001b[1;33m)\u001b[0m\u001b[1;33m\u001b[0m\u001b[1;33m\u001b[0m\u001b[0m\n\u001b[0m\u001b[0;32m      4\u001b[0m \u001b[1;33m\u001b[0m\u001b[0m\n",
      "\u001b[1;32m<ipython-input-79-b05c2ccd2035>\u001b[0m in \u001b[0;36mgraphforbestbin\u001b[1;34m(DF, X, Y, n, q, graph)\u001b[0m\n\u001b[0;32m     84\u001b[0m         \u001b[0mplt\u001b[0m\u001b[1;33m.\u001b[0m\u001b[0mylabel\u001b[0m\u001b[1;33m(\u001b[0m\u001b[1;34m\"IV\"\u001b[0m\u001b[1;33m)\u001b[0m\u001b[1;33m\u001b[0m\u001b[1;33m\u001b[0m\u001b[0m\n\u001b[0;32m     85\u001b[0m         \u001b[0mplt\u001b[0m\u001b[1;33m.\u001b[0m\u001b[0mshow\u001b[0m\u001b[1;33m(\u001b[0m\u001b[1;33m)\u001b[0m\u001b[1;33m\u001b[0m\u001b[1;33m\u001b[0m\u001b[0m\n\u001b[1;32m---> 86\u001b[1;33m     \u001b[1;32mreturn\u001b[0m \u001b[0mfinalbinsdf\u001b[0m\u001b[1;33m\u001b[0m\u001b[1;33m\u001b[0m\u001b[0m\n\u001b[0m",
      "\u001b[1;31mUnboundLocalError\u001b[0m: local variable 'finalbinsdf' referenced before assignment"
     ]
    }
   ],
   "source": [
    "for i in model_data.columns[1:-1]:\n",
    "    print(i)\n",
    "    graphforbestbin(model_data,i,\"SeriousDlqin2yrs\",n=2,q=20,graph=True)\n",
    "    "
   ]
  },
  {
   "cell_type": "code",
   "execution_count": 82,
   "id": "fa55baaf",
   "metadata": {},
   "outputs": [],
   "source": [
    "#我们发现，不是所有的特征都可以使用这个分箱函数，比如像家人数量，就无法分出20组。于是我们将可以分箱的特征单独放出来分组，不能自动分箱的变量，自己观察然后手写\n",
    "auto_col_bins={\n",
    "    'RevolvingUtilizationOfUnsecuredLines':6\n",
    "    ,'age':5\n",
    "    ,'DebtRatio':4\n",
    "    , 'MonthlyIncome':3\n",
    "    ,'NumberOfOpenCreditLinesAndLoans':5\n",
    "}\n",
    "#不能使用自动分箱的变量\n",
    "hand_bins={\n",
    "    'NumberOfTime30-59DaysPastDueNotWorse':[0,1,2,13]\n",
    "    ,'NumberOfTimes90DaysLate':[0,1,2,17]\n",
    "    , 'NumberRealEstateLoansOrLines':[0,1,2,4,54]\n",
    "    , 'NumberOfTime60-89DaysPastDueNotWorse':[0,1,2,8]\n",
    "    ,'NumberOfDependents':[0,1,2,3]\n",
    "}\n",
    "#保证区间覆盖使用np.inf替换最大值，用-np.inf替换最小值(因为上面hand_bins里面的数据是我们自己写进去的)\n",
    "#为了保证假如还有新的值进来后不在最大最小值上报错\n",
    "hand_bins={k:[-np.inf,*v[:-1],np.inf]for k,v in hand_bins.items()}\n"
   ]
  },
  {
   "cell_type": "code",
   "execution_count": 84,
   "id": "8a9e2fb7",
   "metadata": {},
   "outputs": [],
   "source": [
    "#接下来对所有特征按照选择的箱体个数和手写的分箱范围进行分箱：\n",
    "bins_of_col={}\n",
    "#生成自动分箱的分箱区间和分箱后的IV值\n",
    "for col in auto_col_bins:\n",
    "    bins_df=graphforbestbin(model_data,col,\"SeriousDlqin2yrs\"\n",
    "                           ,n=auto_col_bins[col]#使用字典取出每个特征所对应的箱的数量\n",
    "                           ,q=20\n",
    "                           ,graph=False)\n",
    "    bins_list=sorted(set(bins_df[\"min\"]).union(bins_df[\"max\"]))\n",
    "    #保证区间覆盖使用np.inf替换最大值-np.inf替换最小值\n",
    "    bins_list[0],bins_list[-1]=-np.inf,np.inf\n",
    "    bins_of_col[col]=bins_list\n",
    "    #合并手动分箱数据\n",
    "    bins_of_col.update(hand_bins)\n",
    "    "
   ]
  },
  {
   "cell_type": "code",
   "execution_count": 85,
   "id": "fb5a3277",
   "metadata": {},
   "outputs": [
    {
     "data": {
      "text/plain": [
       "{'RevolvingUtilizationOfUnsecuredLines': [-inf,\n",
       "  0.09903357452605599,\n",
       "  0.29822717825679373,\n",
       "  0.4653341277536195,\n",
       "  0.9827854656012547,\n",
       "  0.9999999,\n",
       "  inf],\n",
       " 'NumberOfTime30-59DaysPastDueNotWorse': [-inf, 0, 1, 2, inf],\n",
       " 'NumberOfTimes90DaysLate': [-inf, 0, 1, 2, inf],\n",
       " 'NumberRealEstateLoansOrLines': [-inf, 0, 1, 2, 4, inf],\n",
       " 'NumberOfTime60-89DaysPastDueNotWorse': [-inf, 0, 1, 2, inf],\n",
       " 'NumberOfDependents': [-inf, 0, 1, 2, inf],\n",
       " 'age': [-inf, 36.0, 54.0, 61.0, 74.0, inf],\n",
       " 'DebtRatio': [-inf, 0.0173975144, 0.4015959156552209, 1.473664559998111, inf],\n",
       " 'MonthlyIncome': [-inf, 0.1, 5600.0, inf],\n",
       " 'NumberOfOpenCreditLinesAndLoans': [-inf, 1.0, 3.0, 5.0, 17.0, inf]}"
      ]
     },
     "execution_count": 85,
     "metadata": {},
     "output_type": "execute_result"
    }
   ],
   "source": [
    "bins_of_col"
   ]
  },
  {
   "cell_type": "code",
   "execution_count": null,
   "id": "b2a14ccf",
   "metadata": {},
   "outputs": [],
   "source": [
    "#现在把所有特征已经完成分箱\n",
    "#现在可以算各箱的woe（刚才在graphforbestbin中已经计算出可以自动分箱的woe的值，但是手动分箱的woe的值还没算出来）\n"
   ]
  },
  {
   "cell_type": "code",
   "execution_count": 86,
   "id": "7aa80321",
   "metadata": {},
   "outputs": [],
   "source": [
    "#计算各箱的woe并映射到数据中,还是先以age为例\n",
    "data = model_data.copy()\n",
    " \n",
    "#函数pd.cut，可以根据已知的分箱间隔把数据分箱\n",
    "#参数为 pd.cut(数据，以列表表示的分箱间隔)\n",
    "data = data[[\"age\",\"SeriousDlqin2yrs\"]].copy()"
   ]
  },
  {
   "cell_type": "code",
   "execution_count": 88,
   "id": "d0e6bdbb",
   "metadata": {},
   "outputs": [
    {
     "data": {
      "text/html": [
       "<div>\n",
       "<style scoped>\n",
       "    .dataframe tbody tr th:only-of-type {\n",
       "        vertical-align: middle;\n",
       "    }\n",
       "\n",
       "    .dataframe tbody tr th {\n",
       "        vertical-align: top;\n",
       "    }\n",
       "\n",
       "    .dataframe thead th {\n",
       "        text-align: right;\n",
       "    }\n",
       "</style>\n",
       "<table border=\"1\" class=\"dataframe\">\n",
       "  <thead>\n",
       "    <tr style=\"text-align: right;\">\n",
       "      <th></th>\n",
       "      <th>age</th>\n",
       "      <th>SeriousDlqin2yrs</th>\n",
       "    </tr>\n",
       "  </thead>\n",
       "  <tbody>\n",
       "    <tr>\n",
       "      <th>0</th>\n",
       "      <td>53</td>\n",
       "      <td>0</td>\n",
       "    </tr>\n",
       "    <tr>\n",
       "      <th>1</th>\n",
       "      <td>63</td>\n",
       "      <td>0</td>\n",
       "    </tr>\n",
       "    <tr>\n",
       "      <th>2</th>\n",
       "      <td>39</td>\n",
       "      <td>1</td>\n",
       "    </tr>\n",
       "    <tr>\n",
       "      <th>3</th>\n",
       "      <td>73</td>\n",
       "      <td>0</td>\n",
       "    </tr>\n",
       "    <tr>\n",
       "      <th>4</th>\n",
       "      <td>53</td>\n",
       "      <td>1</td>\n",
       "    </tr>\n",
       "    <tr>\n",
       "      <th>...</th>\n",
       "      <td>...</td>\n",
       "      <td>...</td>\n",
       "    </tr>\n",
       "    <tr>\n",
       "      <th>195003</th>\n",
       "      <td>32</td>\n",
       "      <td>1</td>\n",
       "    </tr>\n",
       "    <tr>\n",
       "      <th>195004</th>\n",
       "      <td>50</td>\n",
       "      <td>1</td>\n",
       "    </tr>\n",
       "    <tr>\n",
       "      <th>195005</th>\n",
       "      <td>46</td>\n",
       "      <td>1</td>\n",
       "    </tr>\n",
       "    <tr>\n",
       "      <th>195006</th>\n",
       "      <td>64</td>\n",
       "      <td>0</td>\n",
       "    </tr>\n",
       "    <tr>\n",
       "      <th>195007</th>\n",
       "      <td>53</td>\n",
       "      <td>1</td>\n",
       "    </tr>\n",
       "  </tbody>\n",
       "</table>\n",
       "<p>195008 rows × 2 columns</p>\n",
       "</div>"
      ],
      "text/plain": [
       "        age  SeriousDlqin2yrs\n",
       "0        53                 0\n",
       "1        63                 0\n",
       "2        39                 1\n",
       "3        73                 0\n",
       "4        53                 1\n",
       "...     ...               ...\n",
       "195003   32                 1\n",
       "195004   50                 1\n",
       "195005   46                 1\n",
       "195006   64                 0\n",
       "195007   53                 1\n",
       "\n",
       "[195008 rows x 2 columns]"
      ]
     },
     "execution_count": 88,
     "metadata": {},
     "output_type": "execute_result"
    }
   ],
   "source": [
    "data"
   ]
  },
  {
   "cell_type": "code",
   "execution_count": 89,
   "id": "6780d7bf",
   "metadata": {},
   "outputs": [
    {
     "data": {
      "text/html": [
       "<div>\n",
       "<style scoped>\n",
       "    .dataframe tbody tr th:only-of-type {\n",
       "        vertical-align: middle;\n",
       "    }\n",
       "\n",
       "    .dataframe tbody tr th {\n",
       "        vertical-align: top;\n",
       "    }\n",
       "\n",
       "    .dataframe thead th {\n",
       "        text-align: right;\n",
       "    }\n",
       "</style>\n",
       "<table border=\"1\" class=\"dataframe\">\n",
       "  <thead>\n",
       "    <tr style=\"text-align: right;\">\n",
       "      <th></th>\n",
       "      <th>age</th>\n",
       "      <th>SeriousDlqin2yrs</th>\n",
       "      <th>cut</th>\n",
       "    </tr>\n",
       "  </thead>\n",
       "  <tbody>\n",
       "    <tr>\n",
       "      <th>0</th>\n",
       "      <td>53</td>\n",
       "      <td>0</td>\n",
       "      <td>(36.0, 54.0]</td>\n",
       "    </tr>\n",
       "    <tr>\n",
       "      <th>1</th>\n",
       "      <td>63</td>\n",
       "      <td>0</td>\n",
       "      <td>(61.0, 74.0]</td>\n",
       "    </tr>\n",
       "    <tr>\n",
       "      <th>2</th>\n",
       "      <td>39</td>\n",
       "      <td>1</td>\n",
       "      <td>(36.0, 54.0]</td>\n",
       "    </tr>\n",
       "    <tr>\n",
       "      <th>3</th>\n",
       "      <td>73</td>\n",
       "      <td>0</td>\n",
       "      <td>(61.0, 74.0]</td>\n",
       "    </tr>\n",
       "    <tr>\n",
       "      <th>4</th>\n",
       "      <td>53</td>\n",
       "      <td>1</td>\n",
       "      <td>(36.0, 54.0]</td>\n",
       "    </tr>\n",
       "  </tbody>\n",
       "</table>\n",
       "</div>"
      ],
      "text/plain": [
       "   age  SeriousDlqin2yrs           cut\n",
       "0   53                 0  (36.0, 54.0]\n",
       "1   63                 0  (61.0, 74.0]\n",
       "2   39                 1  (36.0, 54.0]\n",
       "3   73                 0  (61.0, 74.0]\n",
       "4   53                 1  (36.0, 54.0]"
      ]
     },
     "execution_count": 89,
     "metadata": {},
     "output_type": "execute_result"
    }
   ],
   "source": [
    "data[\"cut\"] = pd.cut(data[\"age\"],[-np.inf, 36.0, 54.0, 61.0, 74.0, np.inf])\n",
    "#将年龄根据上面分箱好数据的进行分箱\n",
    "data.head()"
   ]
  },
  {
   "cell_type": "code",
   "execution_count": 91,
   "id": "15cba073",
   "metadata": {},
   "outputs": [
    {
     "data": {
      "text/html": [
       "<div>\n",
       "<style scoped>\n",
       "    .dataframe tbody tr th:only-of-type {\n",
       "        vertical-align: middle;\n",
       "    }\n",
       "\n",
       "    .dataframe tbody tr th {\n",
       "        vertical-align: top;\n",
       "    }\n",
       "\n",
       "    .dataframe thead th {\n",
       "        text-align: right;\n",
       "    }\n",
       "</style>\n",
       "<table border=\"1\" class=\"dataframe\">\n",
       "  <thead>\n",
       "    <tr style=\"text-align: right;\">\n",
       "      <th>SeriousDlqin2yrs</th>\n",
       "      <th>0</th>\n",
       "      <th>1</th>\n",
       "      <th>woe</th>\n",
       "    </tr>\n",
       "    <tr>\n",
       "      <th>cut</th>\n",
       "      <th></th>\n",
       "      <th></th>\n",
       "      <th></th>\n",
       "    </tr>\n",
       "  </thead>\n",
       "  <tbody>\n",
       "    <tr>\n",
       "      <th>(-inf, 36.0]</th>\n",
       "      <td>14797</td>\n",
       "      <td>24793</td>\n",
       "      <td>-0.519973</td>\n",
       "    </tr>\n",
       "    <tr>\n",
       "      <th>(36.0, 54.0]</th>\n",
       "      <td>39070</td>\n",
       "      <td>51501</td>\n",
       "      <td>-0.280082</td>\n",
       "    </tr>\n",
       "    <tr>\n",
       "      <th>(54.0, 61.0]</th>\n",
       "      <td>15743</td>\n",
       "      <td>12225</td>\n",
       "      <td>0.249077</td>\n",
       "    </tr>\n",
       "    <tr>\n",
       "      <th>(61.0, 74.0]</th>\n",
       "      <td>20344</td>\n",
       "      <td>7422</td>\n",
       "      <td>1.004502</td>\n",
       "    </tr>\n",
       "    <tr>\n",
       "      <th>(74.0, inf]</th>\n",
       "      <td>7737</td>\n",
       "      <td>1376</td>\n",
       "      <td>1.722998</td>\n",
       "    </tr>\n",
       "  </tbody>\n",
       "</table>\n",
       "</div>"
      ],
      "text/plain": [
       "SeriousDlqin2yrs      0      1       woe\n",
       "cut                                     \n",
       "(-inf, 36.0]      14797  24793 -0.519973\n",
       "(36.0, 54.0]      39070  51501 -0.280082\n",
       "(54.0, 61.0]      15743  12225  0.249077\n",
       "(61.0, 74.0]      20344   7422  1.004502\n",
       "(74.0, inf]        7737   1376  1.722998"
      ]
     },
     "execution_count": 91,
     "metadata": {},
     "output_type": "execute_result"
    }
   ],
   "source": [
    "#将数据按分箱结果聚合，并取出其中的标签值\n",
    "data.groupby(\"cut\")[\"SeriousDlqin2yrs\"].value_counts()\n",
    " \n",
    "#使用unstack()来将树状结构变成表状结构\n",
    "data.groupby(\"cut\")[\"SeriousDlqin2yrs\"].value_counts().unstack()\n",
    " \n",
    "bins_df = data.groupby(\"cut\")[\"SeriousDlqin2yrs\"].value_counts().unstack()\n",
    " \n",
    "bins_df[\"woe\"] = np.log((bins_df[0]/bins_df[0].sum())/(bins_df[1]/bins_df[1].sum()))\n",
    "\n",
    "bins_df"
   ]
  },
  {
   "cell_type": "code",
   "execution_count": 92,
   "id": "80fa595d",
   "metadata": {},
   "outputs": [],
   "source": [
    "#把上述过程包装成函数，这样适用于所有的特征求woe\n",
    "def get_woe(df,col,y,bins):\n",
    "    \"\"\"\n",
    "    df是数据表\n",
    "    col是每一列的名称\n",
    "    y是标签\n",
    "    bins是要分的箱子的名称\n",
    "    \"\"\"\n",
    "    df = df[[col,y]].copy()\n",
    "    df[\"cut\"] = pd.cut(df[col],bins)\n",
    "    bins_df = df.groupby(\"cut\")[y].value_counts().unstack()\n",
    "    woe = bins_df[\"woe\"] = np.log((bins_df[0]/bins_df[0].sum())/(bins_df[1]/bins_df[1].sum()))\n",
    "    return woe"
   ]
  },
  {
   "cell_type": "code",
   "execution_count": 93,
   "id": "9de2fd19",
   "metadata": {},
   "outputs": [
    {
     "data": {
      "text/plain": [
       "{'RevolvingUtilizationOfUnsecuredLines': [-inf,\n",
       "  0.09903357452605599,\n",
       "  0.29822717825679373,\n",
       "  0.4653341277536195,\n",
       "  0.9827854656012547,\n",
       "  0.9999999,\n",
       "  inf],\n",
       " 'NumberOfTime30-59DaysPastDueNotWorse': [-inf, 0, 1, 2, inf],\n",
       " 'NumberOfTimes90DaysLate': [-inf, 0, 1, 2, inf],\n",
       " 'NumberRealEstateLoansOrLines': [-inf, 0, 1, 2, 4, inf],\n",
       " 'NumberOfTime60-89DaysPastDueNotWorse': [-inf, 0, 1, 2, inf],\n",
       " 'NumberOfDependents': [-inf, 0, 1, 2, inf],\n",
       " 'age': [-inf, 36.0, 54.0, 61.0, 74.0, inf],\n",
       " 'DebtRatio': [-inf, 0.0173975144, 0.4015959156552209, 1.473664559998111, inf],\n",
       " 'MonthlyIncome': [-inf, 0.1, 5600.0, inf],\n",
       " 'NumberOfOpenCreditLinesAndLoans': [-inf, 1.0, 3.0, 5.0, 17.0, inf]}"
      ]
     },
     "execution_count": 93,
     "metadata": {},
     "output_type": "execute_result"
    }
   ],
   "source": [
    "bins_of_col"
   ]
  },
  {
   "cell_type": "code",
   "execution_count": 94,
   "id": "43a05098",
   "metadata": {},
   "outputs": [
    {
     "data": {
      "text/plain": [
       "{'RevolvingUtilizationOfUnsecuredLines': cut\n",
       " (-inf, 0.099]     2.200978\n",
       " (0.099, 0.298]    0.672181\n",
       " (0.298, 0.465]   -0.129636\n",
       " (0.465, 0.983]   -1.073125\n",
       " (0.983, 1.0]     -0.476182\n",
       " (1.0, inf]       -2.039860\n",
       " dtype: float64,\n",
       " 'NumberOfTime30-59DaysPastDueNotWorse': cut\n",
       " (-inf, 0.0]    0.354437\n",
       " (0.0, 1.0]    -0.875222\n",
       " (1.0, 2.0]    -1.379126\n",
       " (2.0, inf]    -1.547642\n",
       " dtype: float64,\n",
       " 'NumberOfTimes90DaysLate': cut\n",
       " (-inf, 0.0]    0.235578\n",
       " (0.0, 1.0]    -1.756254\n",
       " (1.0, 2.0]    -2.261289\n",
       " (2.0, inf]    -2.401731\n",
       " dtype: float64,\n",
       " 'NumberRealEstateLoansOrLines': cut\n",
       " (-inf, 0.0]   -0.391791\n",
       " (0.0, 1.0]     0.191631\n",
       " (1.0, 2.0]     0.617861\n",
       " (2.0, 4.0]     0.387124\n",
       " (4.0, inf]    -0.296573\n",
       " dtype: float64,\n",
       " 'NumberOfTime60-89DaysPastDueNotWorse': cut\n",
       " (-inf, 0.0]    0.124716\n",
       " (0.0, 1.0]    -1.386015\n",
       " (1.0, 2.0]    -1.768208\n",
       " (2.0, inf]    -1.830267\n",
       " dtype: float64,\n",
       " 'NumberOfDependents': cut\n",
       " (-inf, 0.0]    0.625134\n",
       " (0.0, 1.0]    -0.579547\n",
       " (1.0, 2.0]    -0.525898\n",
       " (2.0, inf]    -0.480566\n",
       " dtype: float64,\n",
       " 'age': cut\n",
       " (-inf, 36.0]   -0.519973\n",
       " (36.0, 54.0]   -0.280082\n",
       " (54.0, 61.0]    0.249077\n",
       " (61.0, 74.0]    1.004502\n",
       " (74.0, inf]     1.722998\n",
       " dtype: float64,\n",
       " 'DebtRatio': cut\n",
       " (-inf, 0.0174]     1.508473\n",
       " (0.0174, 0.402]    0.036168\n",
       " (0.402, 1.474]    -0.387539\n",
       " (1.474, inf]       0.174989\n",
       " dtype: float64,\n",
       " 'MonthlyIncome': cut\n",
       " (-inf, 0.1]      1.381057\n",
       " (0.1, 5600.0]   -0.233807\n",
       " (5600.0, inf]    0.231083\n",
       " dtype: float64,\n",
       " 'NumberOfOpenCreditLinesAndLoans': cut\n",
       " (-inf, 1.0]   -0.846703\n",
       " (1.0, 3.0]    -0.337374\n",
       " (3.0, 5.0]    -0.052076\n",
       " (5.0, 17.0]    0.124889\n",
       " (17.0, inf]    0.463135\n",
       " dtype: float64}"
      ]
     },
     "execution_count": 94,
     "metadata": {},
     "output_type": "execute_result"
    }
   ],
   "source": [
    "#将所有特征的WOE存储到字典当中\n",
    "woeall = {}\n",
    "for col in bins_of_col:\n",
    "    woeall[col] = get_woe(model_data,col,\"SeriousDlqin2yrs\",bins_of_col[col])\n",
    "woeall"
   ]
  },
  {
   "cell_type": "code",
   "execution_count": 95,
   "id": "fcca91ac",
   "metadata": {},
   "outputs": [
    {
     "name": "stderr",
     "output_type": "stream",
     "text": [
      "D:\\anaconda\\lib\\site-packages\\pandas\\io\\formats\\format.py:1405: FutureWarning: Index.ravel returning ndarray is deprecated; in a future version this will return a view on self.\n",
      "  for val, m in zip(values.ravel(), mask.ravel())\n"
     ]
    },
    {
     "data": {
      "text/plain": [
       "0   -0.280082\n",
       "1    1.004502\n",
       "2   -0.280082\n",
       "3    1.004502\n",
       "4   -0.280082\n",
       "Name: age, dtype: category\n",
       "Categories (5, float64): [-0.519973 < -0.280082 < 0.249077 < 1.004502 < 1.722998]"
      ]
     },
     "execution_count": 95,
     "metadata": {},
     "output_type": "execute_result"
    }
   ],
   "source": [
    "#接下来把所有的woe映射到原数据中\n",
    "\n",
    "#不希望覆盖掉原本的数据，创建一个新的DataFrame，索引和原始数据model_data一模一样\n",
    "#model_woe就是原索引\n",
    "model_woe = pd.DataFrame(index=model_data.index)\n",
    " \n",
    "#将原数据分箱后，按箱的结果把WOE结构用map函数映射到数据中\n",
    "model_woe[\"age\"] = pd.cut(model_data[\"age\"],bins_of_col[\"age\"]).map(woeall[\"age\"])\n",
    "model_woe[\"age\"].head()\n",
    "#得到的是age所对应的每一个箱的woe值"
   ]
  },
  {
   "cell_type": "code",
   "execution_count": 96,
   "id": "1eccea89",
   "metadata": {},
   "outputs": [
    {
     "data": {
      "text/html": [
       "<div>\n",
       "<style scoped>\n",
       "    .dataframe tbody tr th:only-of-type {\n",
       "        vertical-align: middle;\n",
       "    }\n",
       "\n",
       "    .dataframe tbody tr th {\n",
       "        vertical-align: top;\n",
       "    }\n",
       "\n",
       "    .dataframe thead th {\n",
       "        text-align: right;\n",
       "    }\n",
       "</style>\n",
       "<table border=\"1\" class=\"dataframe\">\n",
       "  <thead>\n",
       "    <tr style=\"text-align: right;\">\n",
       "      <th></th>\n",
       "      <th>age</th>\n",
       "      <th>RevolvingUtilizationOfUnsecuredLines</th>\n",
       "      <th>NumberOfTime30-59DaysPastDueNotWorse</th>\n",
       "      <th>NumberOfTimes90DaysLate</th>\n",
       "      <th>NumberRealEstateLoansOrLines</th>\n",
       "      <th>NumberOfTime60-89DaysPastDueNotWorse</th>\n",
       "      <th>NumberOfDependents</th>\n",
       "      <th>DebtRatio</th>\n",
       "      <th>MonthlyIncome</th>\n",
       "      <th>NumberOfOpenCreditLinesAndLoans</th>\n",
       "      <th>SeriousDlqin2yrs</th>\n",
       "    </tr>\n",
       "  </thead>\n",
       "  <tbody>\n",
       "    <tr>\n",
       "      <th>0</th>\n",
       "      <td>-0.280082</td>\n",
       "      <td>2.200978</td>\n",
       "      <td>0.354437</td>\n",
       "      <td>0.235578</td>\n",
       "      <td>-0.391791</td>\n",
       "      <td>0.124716</td>\n",
       "      <td>0.625134</td>\n",
       "      <td>0.036168</td>\n",
       "      <td>-0.233807</td>\n",
       "      <td>-0.052076</td>\n",
       "      <td>0</td>\n",
       "    </tr>\n",
       "    <tr>\n",
       "      <th>1</th>\n",
       "      <td>1.004502</td>\n",
       "      <td>0.672181</td>\n",
       "      <td>0.354437</td>\n",
       "      <td>0.235578</td>\n",
       "      <td>-0.391791</td>\n",
       "      <td>0.124716</td>\n",
       "      <td>0.625134</td>\n",
       "      <td>0.036168</td>\n",
       "      <td>-0.233807</td>\n",
       "      <td>-0.052076</td>\n",
       "      <td>0</td>\n",
       "    </tr>\n",
       "    <tr>\n",
       "      <th>2</th>\n",
       "      <td>-0.280082</td>\n",
       "      <td>-2.039860</td>\n",
       "      <td>-0.875222</td>\n",
       "      <td>-1.756254</td>\n",
       "      <td>-0.391791</td>\n",
       "      <td>-1.768208</td>\n",
       "      <td>-0.480566</td>\n",
       "      <td>-0.387539</td>\n",
       "      <td>-0.233807</td>\n",
       "      <td>-0.052076</td>\n",
       "      <td>1</td>\n",
       "    </tr>\n",
       "    <tr>\n",
       "      <th>3</th>\n",
       "      <td>1.004502</td>\n",
       "      <td>2.200978</td>\n",
       "      <td>0.354437</td>\n",
       "      <td>0.235578</td>\n",
       "      <td>0.617861</td>\n",
       "      <td>0.124716</td>\n",
       "      <td>0.625134</td>\n",
       "      <td>-0.387539</td>\n",
       "      <td>-0.233807</td>\n",
       "      <td>0.124889</td>\n",
       "      <td>0</td>\n",
       "    </tr>\n",
       "    <tr>\n",
       "      <th>4</th>\n",
       "      <td>-0.280082</td>\n",
       "      <td>-1.073125</td>\n",
       "      <td>0.354437</td>\n",
       "      <td>0.235578</td>\n",
       "      <td>0.617861</td>\n",
       "      <td>0.124716</td>\n",
       "      <td>-0.579547</td>\n",
       "      <td>-0.387539</td>\n",
       "      <td>0.231083</td>\n",
       "      <td>0.124889</td>\n",
       "      <td>1</td>\n",
       "    </tr>\n",
       "  </tbody>\n",
       "</table>\n",
       "</div>"
      ],
      "text/plain": [
       "        age RevolvingUtilizationOfUnsecuredLines  \\\n",
       "0 -0.280082                             2.200978   \n",
       "1  1.004502                             0.672181   \n",
       "2 -0.280082                            -2.039860   \n",
       "3  1.004502                             2.200978   \n",
       "4 -0.280082                            -1.073125   \n",
       "\n",
       "  NumberOfTime30-59DaysPastDueNotWorse NumberOfTimes90DaysLate  \\\n",
       "0                             0.354437                0.235578   \n",
       "1                             0.354437                0.235578   \n",
       "2                            -0.875222               -1.756254   \n",
       "3                             0.354437                0.235578   \n",
       "4                             0.354437                0.235578   \n",
       "\n",
       "  NumberRealEstateLoansOrLines NumberOfTime60-89DaysPastDueNotWorse  \\\n",
       "0                    -0.391791                             0.124716   \n",
       "1                    -0.391791                             0.124716   \n",
       "2                    -0.391791                            -1.768208   \n",
       "3                     0.617861                             0.124716   \n",
       "4                     0.617861                             0.124716   \n",
       "\n",
       "  NumberOfDependents DebtRatio MonthlyIncome NumberOfOpenCreditLinesAndLoans  \\\n",
       "0           0.625134  0.036168     -0.233807                       -0.052076   \n",
       "1           0.625134  0.036168     -0.233807                       -0.052076   \n",
       "2          -0.480566 -0.387539     -0.233807                       -0.052076   \n",
       "3           0.625134 -0.387539     -0.233807                        0.124889   \n",
       "4          -0.579547 -0.387539      0.231083                        0.124889   \n",
       "\n",
       "   SeriousDlqin2yrs  \n",
       "0                 0  \n",
       "1                 0  \n",
       "2                 1  \n",
       "3                 0  \n",
       "4                 1  "
      ]
     },
     "execution_count": 96,
     "metadata": {},
     "output_type": "execute_result"
    }
   ],
   "source": [
    " \n",
    "#对所有特征操作可以写成：\n",
    "for col in bins_of_col:\n",
    "    model_woe[col] = pd.cut(model_data[col],bins_of_col[col]).map(woeall[col])\n",
    "    \n",
    "#将标签补充到数据中\n",
    "model_woe[\"SeriousDlqin2yrs\"] = model_data[\"SeriousDlqin2yrs\"]\n",
    " \n",
    "#这就是我们的建模数据了\n",
    "model_woe.head()"
   ]
  },
  {
   "cell_type": "code",
   "execution_count": 97,
   "id": "5c7fbd7d",
   "metadata": {},
   "outputs": [],
   "source": [
    "#现在弄完了训练集。接下来处理测试集，在已经有分箱的情况下，只需要将已经计算好的woe映射到测试集上就可以了\n",
    "vali_woe = pd.DataFrame(index=vali_data.index)\n",
    " \n",
    "for col in bins_of_col:\n",
    "    vali_woe[col] = pd.cut(vali_data[col],bins_of_col[col]).map(woeall[col])\n",
    "vali_woe[\"SeriousDlqin2yrs\"] = vali_data[\"SeriousDlqin2yrs\"]"
   ]
  },
  {
   "cell_type": "code",
   "execution_count": 98,
   "id": "846f2275",
   "metadata": {},
   "outputs": [
    {
     "data": {
      "text/html": [
       "<div>\n",
       "<style scoped>\n",
       "    .dataframe tbody tr th:only-of-type {\n",
       "        vertical-align: middle;\n",
       "    }\n",
       "\n",
       "    .dataframe tbody tr th {\n",
       "        vertical-align: top;\n",
       "    }\n",
       "\n",
       "    .dataframe thead th {\n",
       "        text-align: right;\n",
       "    }\n",
       "</style>\n",
       "<table border=\"1\" class=\"dataframe\">\n",
       "  <thead>\n",
       "    <tr style=\"text-align: right;\">\n",
       "      <th></th>\n",
       "      <th>RevolvingUtilizationOfUnsecuredLines</th>\n",
       "      <th>NumberOfTime30-59DaysPastDueNotWorse</th>\n",
       "      <th>NumberOfTimes90DaysLate</th>\n",
       "      <th>NumberRealEstateLoansOrLines</th>\n",
       "      <th>NumberOfTime60-89DaysPastDueNotWorse</th>\n",
       "      <th>NumberOfDependents</th>\n",
       "      <th>age</th>\n",
       "      <th>DebtRatio</th>\n",
       "      <th>MonthlyIncome</th>\n",
       "      <th>NumberOfOpenCreditLinesAndLoans</th>\n",
       "      <th>SeriousDlqin2yrs</th>\n",
       "    </tr>\n",
       "  </thead>\n",
       "  <tbody>\n",
       "    <tr>\n",
       "      <th>0</th>\n",
       "      <td>2.200978</td>\n",
       "      <td>0.354437</td>\n",
       "      <td>0.235578</td>\n",
       "      <td>-0.391791</td>\n",
       "      <td>0.124716</td>\n",
       "      <td>0.625134</td>\n",
       "      <td>0.249077</td>\n",
       "      <td>1.508473</td>\n",
       "      <td>-0.233807</td>\n",
       "      <td>-0.052076</td>\n",
       "      <td>0</td>\n",
       "    </tr>\n",
       "    <tr>\n",
       "      <th>1</th>\n",
       "      <td>-1.073125</td>\n",
       "      <td>0.354437</td>\n",
       "      <td>0.235578</td>\n",
       "      <td>0.617861</td>\n",
       "      <td>0.124716</td>\n",
       "      <td>-0.480566</td>\n",
       "      <td>-0.280082</td>\n",
       "      <td>0.036168</td>\n",
       "      <td>0.231083</td>\n",
       "      <td>0.124889</td>\n",
       "      <td>1</td>\n",
       "    </tr>\n",
       "    <tr>\n",
       "      <th>2</th>\n",
       "      <td>2.200978</td>\n",
       "      <td>0.354437</td>\n",
       "      <td>0.235578</td>\n",
       "      <td>-0.391791</td>\n",
       "      <td>0.124716</td>\n",
       "      <td>0.625134</td>\n",
       "      <td>1.004502</td>\n",
       "      <td>0.036168</td>\n",
       "      <td>0.231083</td>\n",
       "      <td>-0.052076</td>\n",
       "      <td>0</td>\n",
       "    </tr>\n",
       "    <tr>\n",
       "      <th>3</th>\n",
       "      <td>2.200978</td>\n",
       "      <td>0.354437</td>\n",
       "      <td>0.235578</td>\n",
       "      <td>0.191631</td>\n",
       "      <td>0.124716</td>\n",
       "      <td>0.625134</td>\n",
       "      <td>-0.280082</td>\n",
       "      <td>0.036168</td>\n",
       "      <td>-0.233807</td>\n",
       "      <td>0.124889</td>\n",
       "      <td>0</td>\n",
       "    </tr>\n",
       "    <tr>\n",
       "      <th>4</th>\n",
       "      <td>-1.073125</td>\n",
       "      <td>0.354437</td>\n",
       "      <td>0.235578</td>\n",
       "      <td>-0.391791</td>\n",
       "      <td>0.124716</td>\n",
       "      <td>-0.579547</td>\n",
       "      <td>-0.280082</td>\n",
       "      <td>0.036168</td>\n",
       "      <td>-0.233807</td>\n",
       "      <td>0.124889</td>\n",
       "      <td>1</td>\n",
       "    </tr>\n",
       "  </tbody>\n",
       "</table>\n",
       "</div>"
      ],
      "text/plain": [
       "  RevolvingUtilizationOfUnsecuredLines NumberOfTime30-59DaysPastDueNotWorse  \\\n",
       "0                             2.200978                             0.354437   \n",
       "1                            -1.073125                             0.354437   \n",
       "2                             2.200978                             0.354437   \n",
       "3                             2.200978                             0.354437   \n",
       "4                            -1.073125                             0.354437   \n",
       "\n",
       "  NumberOfTimes90DaysLate NumberRealEstateLoansOrLines  \\\n",
       "0                0.235578                    -0.391791   \n",
       "1                0.235578                     0.617861   \n",
       "2                0.235578                    -0.391791   \n",
       "3                0.235578                     0.191631   \n",
       "4                0.235578                    -0.391791   \n",
       "\n",
       "  NumberOfTime60-89DaysPastDueNotWorse NumberOfDependents       age DebtRatio  \\\n",
       "0                             0.124716           0.625134  0.249077  1.508473   \n",
       "1                             0.124716          -0.480566 -0.280082  0.036168   \n",
       "2                             0.124716           0.625134  1.004502  0.036168   \n",
       "3                             0.124716           0.625134 -0.280082  0.036168   \n",
       "4                             0.124716          -0.579547 -0.280082  0.036168   \n",
       "\n",
       "  MonthlyIncome NumberOfOpenCreditLinesAndLoans  SeriousDlqin2yrs  \n",
       "0     -0.233807                       -0.052076                 0  \n",
       "1      0.231083                        0.124889                 1  \n",
       "2      0.231083                       -0.052076                 0  \n",
       "3     -0.233807                        0.124889                 0  \n",
       "4     -0.233807                        0.124889                 1  "
      ]
     },
     "execution_count": 98,
     "metadata": {},
     "output_type": "execute_result"
    }
   ],
   "source": [
    "vali_woe.head()"
   ]
  },
  {
   "cell_type": "code",
   "execution_count": 99,
   "id": "97a8a20d",
   "metadata": {},
   "outputs": [],
   "source": [
    "vali_X = vali_woe.iloc[:,:-1]\n",
    "vali_y = vali_woe.iloc[:,-1]"
   ]
  },
  {
   "cell_type": "code",
   "execution_count": null,
   "id": "69217804",
   "metadata": {},
   "outputs": [],
   "source": [
    "#接下来就可以顺利建模了"
   ]
  },
  {
   "cell_type": "code",
   "execution_count": 100,
   "id": "528f214b",
   "metadata": {},
   "outputs": [],
   "source": [
    "X=model_woe.iloc[:,:-1]\n",
    "y=model_woe.iloc[:,-1]\n",
    "vali_X = vali_woe.iloc[:,:-1]\n",
    "vali_y = vali_woe.iloc[:,-1]"
   ]
  },
  {
   "cell_type": "code",
   "execution_count": 101,
   "id": "5cb92f67",
   "metadata": {},
   "outputs": [
    {
     "data": {
      "text/plain": [
       "0.7708433042978846"
      ]
     },
     "execution_count": 101,
     "metadata": {},
     "output_type": "execute_result"
    }
   ],
   "source": [
    "from sklearn.linear_model import LogisticRegression as LR\n",
    "lr=LR().fit(X,y)\n",
    "lr.score(vali_X,vali_y)"
   ]
  },
  {
   "cell_type": "code",
   "execution_count": null,
   "id": "dba3a818",
   "metadata": {},
   "outputs": [],
   "source": [
    "#我们发现得分一般"
   ]
  },
  {
   "cell_type": "code",
   "execution_count": 102,
   "id": "201dd524",
   "metadata": {},
   "outputs": [],
   "source": [
    "c_1 = np.linspace(0.01,1,20)\n",
    "c_2 = np.linspace(0.01,0.2,20)"
   ]
  },
  {
   "cell_type": "code",
   "execution_count": 103,
   "id": "07a3f84e",
   "metadata": {},
   "outputs": [
    {
     "data": {
      "image/png": "[encoded data removed]",
      "text/plain": [
       "<Figure size 432x288 with 1 Axes>"
      ]
     },
     "metadata": {
      "needs_background": "light"
     },
     "output_type": "display_data"
    }
   ],
   "source": [
    "score = []\n",
    "for i in c_1: \n",
    "    lr = LR(solver='liblinear',C=i).fit(X,y)\n",
    "    score.append(lr.score(vali_X,vali_y))\n",
    "plt.figure()\n",
    "plt.plot(c_1,score)\n",
    "plt.show()\n",
    "#效果依然很差"
   ]
  },
  {
   "cell_type": "code",
   "execution_count": 81,
   "id": "f3837eba",
   "metadata": {},
   "outputs": [
    {
     "name": "stderr",
     "output_type": "stream",
     "text": [
      "D:\\anaconda\\lib\\site-packages\\sklearn\\svm\\_base.py:985: ConvergenceWarning: Liblinear failed to converge, increase the number of iterations.\n",
      "  warnings.warn(\"Liblinear failed to converge, increase \"\n",
      "D:\\anaconda\\lib\\site-packages\\sklearn\\svm\\_base.py:985: ConvergenceWarning: Liblinear failed to converge, increase the number of iterations.\n",
      "  warnings.warn(\"Liblinear failed to converge, increase \"\n",
      "D:\\anaconda\\lib\\site-packages\\sklearn\\svm\\_base.py:985: ConvergenceWarning: Liblinear failed to converge, increase the number of iterations.\n",
      "  warnings.warn(\"Liblinear failed to converge, increase \"\n",
      "D:\\anaconda\\lib\\site-packages\\sklearn\\svm\\_base.py:985: ConvergenceWarning: Liblinear failed to converge, increase the number of iterations.\n",
      "  warnings.warn(\"Liblinear failed to converge, increase \"\n",
      "D:\\anaconda\\lib\\site-packages\\sklearn\\svm\\_base.py:985: ConvergenceWarning: Liblinear failed to converge, increase the number of iterations.\n",
      "  warnings.warn(\"Liblinear failed to converge, increase \"\n"
     ]
    },
    {
     "data": {
      "image/png": "[encoded data removed]",
      "text/plain": [
       "<Figure size 432x288 with 1 Axes>"
      ]
     },
     "metadata": {
      "needs_background": "light"
     },
     "output_type": "display_data"
    }
   ],
   "source": [
    " \n",
    "lr.n_iter_#array([7], dtype=int32)\n",
    " \n",
    "score = []\n",
    "for i in [1,2,3,4,5,6]: \n",
    "    lr = LR(solver='liblinear',C=0.025,max_iter=i).fit(X,y)\n",
    "    score.append(lr.score(vali_X,vali_y))\n",
    "plt.figure()\n",
    "plt.plot([1,2,3,4,5,6],score)\n",
    "plt.show()\n",
    "#还是一般"
   ]
  },
  {
   "cell_type": "code",
   "execution_count": 104,
   "id": "474b8bd5",
   "metadata": {},
   "outputs": [
    {
     "data": {
      "text/plain": [
       "<AxesSubplot:title={'center':'ROC Curves'}, xlabel='False Positive Rate', ylabel='True Positive Rate'>"
      ]
     },
     "execution_count": 104,
     "metadata": {},
     "output_type": "execute_result"
    },
    {
     "data": {
      "image/png": "[encoded data removed]",
      "text/plain": [
       "<Figure size 432x432 with 1 Axes>"
      ]
     },
     "metadata": {
      "needs_background": "light"
     },
     "output_type": "display_data"
    }
   ],
   "source": [
    "import scikitplot as skplt\n",
    "vali_proba_df=pd.DataFrame(lr.predict_proba(vali_X))\n",
    "skplt.metrics.plot_roc(vali_y,vali_proba_df,plot_micro=False\n",
    "                      ,figsize=(6,6),plot_macro=False)\n",
    "#该图像所在斜线上方曲线与斜线所围成面积越大，效果越好，在捕捉少数类（标签违约）上表现的效果，这个图像是0.85"
   ]
  },
  {
   "cell_type": "code",
   "execution_count": 105,
   "id": "d406c6f8",
   "metadata": {},
   "outputs": [
    {
     "data": {
      "text/plain": [
       "(28.85390081777927, 481.8621880878296)"
      ]
     },
     "execution_count": 105,
     "metadata": {},
     "output_type": "execute_result"
    }
   ],
   "source": [
    "#最后一步，做评分卡\n",
    "B = 20/np.log(2)\n",
    "A = 600 + B*np.log(1/60)\n",
    " \n",
    "B,A"
   ]
  },
  {
   "cell_type": "code",
   "execution_count": 106,
   "id": "d3206f04",
   "metadata": {},
   "outputs": [
    {
     "data": {
      "text/plain": [
       "cut\n",
       "(-inf, 36.0]   -11.260074\n",
       "(36.0, 54.0]    -6.065213\n",
       "(54.0, 61.0]     5.393795\n",
       "(61.0, 74.0]    21.752613\n",
       "(74.0, inf]     37.311732\n",
       "dtype: float64"
      ]
     },
     "execution_count": 106,
     "metadata": {},
     "output_type": "execute_result"
    }
   ],
   "source": [
    "base_score = A - B*lr.intercept_#lr.intercept_：截距\n",
    "base_score#array([481.56390143])\n",
    " \n",
    "score_age = woeall[\"age\"] * (-B*lr.coef_[0][1])#lr.coef_：每一个特征建模之后得出的系数\n",
    "score_age#\"age\"特征中每个箱对应的分数"
   ]
  },
  {
   "cell_type": "code",
   "execution_count": 111,
   "id": "3d597ee3",
   "metadata": {},
   "outputs": [],
   "source": [
    "file = r\"C:\\Users\\hp\\Desktop\\python\\机器学习菜菜\\sklearnjqxx_jb51\\【机器学习】菜菜的sklearn课堂(1-12全课)\\05逻辑回归与评分卡./ScoreData.csv\"\n",
    " \n",
    "#open是用来打开文件的python命令，第一个参数是文件的路径+文件名，如果你的文件是放在根目录下，则你只需要文件名就好\n",
    "#第二个参数是打开文件后的用途，\"w\"表示用于写入，通常使用的是\"r\"，表示打开来阅读\n",
    "#首先写入基准分数\n",
    "#之后使用循环，每次生成一组score_age类似的分档和分数，不断写入文件之中\n",
    " \n",
    "with open(file,\"w\") as fdata:\n",
    "    fdata.write(\"base_score,{}\\n\".format(base_score))\n",
    "for i,col in enumerate(X.columns):#[*enumerate(X.columns)]\n",
    "    score = woeall[col] * (-B*lr.coef_[0][i])\n",
    "    score.name = \"Score\"\n",
    "    score.index.name = col\n",
    "    score.to_csv(file,header=True,mode=\"a\")"
   ]
  },
  {
   "cell_type": "code",
   "execution_count": null,
   "id": "ba7eb563",
   "metadata": {},
   "outputs": [],
   "source": []
  }
 ],
 "metadata": {
  "kernelspec": {
   "display_name": "Python 3",
   "language": "python",
   "name": "python3"
  },
  "language_info": {
   "codemirror_mode": {
    "name": "ipython",
    "version": 3
   },
   "file_extension": ".py",
   "mimetype": "text/x-python",
   "name": "python",
   "nbconvert_exporter": "python",
   "pygments_lexer": "ipython3",
   "version": "3.8.8"
  }
 },
 "nbformat": 4,
 "nbformat_minor": 5
}
