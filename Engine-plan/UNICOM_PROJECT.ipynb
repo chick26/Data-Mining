{
 "cells": [
  {
   "cell_type": "code",
   "execution_count": null,
   "metadata": {},
   "outputs": [],
   "source": [
    "print('Hello world')"
   ]
  },
  {
   "cell_type": "markdown",
   "metadata": {},
   "source": [
    "# test"
   ]
  },
  {
   "cell_type": "code",
   "execution_count": 66,
   "metadata": {},
   "outputs": [
    {
     "name": "stdout",
     "output_type": "stream",
     "text": [
      "             1             \n",
      "            1 1            \n",
      "           1 2 1           \n",
      "          1 3 3 1          \n",
      "         1 4 6 4 1         \n",
      "       1 5 10 10 5 1       \n",
      "      1 6 15 20 15 6 1     \n",
      "    1 7 21 35 35 21 7 1    \n",
      "   1 8 28 56 70 56 28 8 1  \n",
      "1 9 36 84 126 126 84 36 9 1\n"
     ]
    }
   ],
   "source": [
    "class PascalTriangle(object):\n",
    "    def __init__(self, n):\n",
    "        self.n = n\n",
    "\n",
    "    def pascal_triangle(self):\n",
    "        triangle_list = []\n",
    "        print_list = []\n",
    "        for i in range(1,self.n+1):\n",
    "            triangle_list.append([])\n",
    "            for j in range(1,i+1):\n",
    "                triangle_list[i-1].append(self.func_c(i-1, j-1))\n",
    "            print_list.append(' '.join(str(x) for x in triangle_list[-1]))\n",
    "        return triangle_list, print_list\n",
    "\n",
    "    def func_c(self, m, n):\n",
    "        return int(self.factorial(m)/(self.factorial(n)*self.factorial(m-n)))\n",
    "\n",
    "    def factorial(self, n):\n",
    "        if n == 0 or n == 1:\n",
    "            return 1\n",
    "        else:\n",
    "            return n * self.factorial(n - 1)\n",
    "\n",
    "    def printer(self):\n",
    "        triangle_list, print_list= self.pascal_triangle()\n",
    "        max_length = len(print_list[-1])\n",
    "        for i in print_list:\n",
    "            print(i.center(max_length))\n",
    "    \n",
    "if __name__ == '__main__':\n",
    "    a = PascalTriangle(10)\n",
    "    a.printer()"
   ]
  },
  {
   "cell_type": "code",
   "execution_count": 14,
   "metadata": {},
   "outputs": [
    {
     "name": "stdout",
     "output_type": "stream",
     "text": [
      "18\n",
      "10\n"
     ]
    }
   ],
   "source": [
    "def nthAge(n):\n",
    "    return 10 if n == 1 else 2 + nthAge(n-1) \n",
    "print(nthAge(5))\n",
    "print(nthAge(1))"
   ]
  },
  {
   "cell_type": "code",
   "execution_count": 5,
   "metadata": {},
   "outputs": [],
   "source": [
    "def factorial(n):\n",
    "    a = 1\n",
    "    for i in range(1, n+1):\n",
    "        a *= i\n",
    "        yield a\n",
    "        \n",
    "x = factorial(10)\n"
   ]
  },
  {
   "cell_type": "code",
   "execution_count": 11,
   "metadata": {},
   "outputs": [
    {
     "data": {
      "text/plain": [
       "720"
      ]
     },
     "execution_count": 11,
     "metadata": {},
     "output_type": "execute_result"
    }
   ],
   "source": [
    "next(x)"
   ]
  },
  {
   "cell_type": "code",
   "execution_count": 16,
   "metadata": {},
   "outputs": [
    {
     "name": "stdout",
     "output_type": "stream",
     "text": [
      "4116.456\n",
      "4116\n"
     ]
    }
   ],
   "source": [
    "# 字符串转换为数值\n",
    "from functools import reduce\n",
    "\n",
    "def str2float(s):\n",
    "    numStr=s.split('.')\n",
    "    \n",
    "    def str2num(a):\n",
    "        return {'0': 0, '1': 1, '2': 2, '3': 3, '4': 4, '5': 5, '6': 6, '7': 7, '8': 8, '9': 9}[a]\n",
    "    \n",
    "    return reduce(lambda x,y: 10*x + y , list(map(str2num, numStr[0]))) + \\\n",
    "            reduce(lambda x,y: 0.1*x + y , list(map(str2num, numStr[1]))[:: -1]) / 10 \\\n",
    "            if len(numStr) > 1 else \\\n",
    "            reduce(lambda x,y: 10*x + y , list(map(str2num, numStr[0])))\n",
    "\n",
    "\n",
    "\n",
    "print(str2float('4116.456'))\n",
    "print(str2float('4116'))"
   ]
  },
  {
   "cell_type": "code",
   "execution_count": null,
   "metadata": {},
   "outputs": [],
   "source": []
  }
 ],
 "metadata": {
  "kernelspec": {
   "display_name": "Python 3",
   "language": "python",
   "name": "python3"
  },
  "language_info": {
   "codemirror_mode": {
    "name": "ipython",
    "version": 3
   },
   "file_extension": ".py",
   "mimetype": "text/x-python",
   "name": "python",
   "nbconvert_exporter": "python",
   "pygments_lexer": "ipython3",
   "version": "3.8.5"
  }
 },
 "nbformat": 4,
 "nbformat_minor": 4
}
